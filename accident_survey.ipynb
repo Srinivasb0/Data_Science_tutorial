{
 "cells": [
  {
   "cell_type": "markdown",
   "metadata": {},
   "source": [
    "<h1>Accident Severity</h1>"
   ]
  },
  {
   "cell_type": "markdown",
   "metadata": {},
   "source": [
    "Accidents in traffic lead to associated fatalities and economic losses every year worldwide and thus is an area of primary concern to society from loss prevention point of view. Modeling accident severity prediction and improving the model are critical to the effective performance of road traffic systems for improved safety. In accident severity modeling, the input vectors are the characteristics of the accident, such as driver behavior and attributes of vehicle, highway and environment characteristics while the output vector is the corresponding class of accident severity.\n",
    "\n",
    "There are two main engineering approaches for dealing with traffic safety problems: the reactive approach and the proactive approach. The reactive approach, or retrofit approach, consists of making the necessary improvements to variable, for instance, existing hazardous sites in order to reduce collision frequency and severity at these sites. The proactive approach, on the other hand, includes a collision prevention approach, like, preventing a potential unsafe road conditions from occurring in the first place. We focus on proactive approach which involves prediction of accident severity and working backwards, the concerned entity implements appropriate remedial measures to improve road safety. By recognizing the key factors that influence accident severity, the solution may be of great utility to various Government Departments/Authorities like Police, R&B and Transport from public policy point of view. The results of analysis and modeling can be used by these Departments to take appropriate measures to reduce accident impact and thereby improve traffic safety. It is also useful to the Insurers in terms of reduced claims and better underwriting as well as rate making."
   ]
  },
  {
   "cell_type": "code",
   "execution_count": 1,
   "metadata": {},
   "outputs": [],
   "source": [
    "import pandas as pd\n",
    "import numpy as np\n",
    "import matplotlib.pyplot as plt\n",
    "\n",
    "# Set the global default size of matplotlib figures\n",
    "plt.rc('figure', figsize=(10, 5))"
   ]
  },
  {
   "cell_type": "markdown",
   "metadata": {},
   "source": [
    "<b>Exploring the Data</b>"
   ]
  },
  {
   "cell_type": "code",
   "execution_count": 2,
   "metadata": {},
   "outputs": [
    {
     "data": {
      "text/html": [
       "<div>\n",
       "<style scoped>\n",
       "    .dataframe tbody tr th:only-of-type {\n",
       "        vertical-align: middle;\n",
       "    }\n",
       "\n",
       "    .dataframe tbody tr th {\n",
       "        vertical-align: top;\n",
       "    }\n",
       "\n",
       "    .dataframe thead th {\n",
       "        text-align: right;\n",
       "    }\n",
       "</style>\n",
       "<table border=\"1\" class=\"dataframe\">\n",
       "  <thead>\n",
       "    <tr style=\"text-align: right;\">\n",
       "      <th></th>\n",
       "      <th>Collision_Ref_No</th>\n",
       "      <th>Policing_Area</th>\n",
       "      <th>Collision_Severity</th>\n",
       "      <th>Weekday_of_Collision</th>\n",
       "      <th>Day_of_Collision</th>\n",
       "      <th>Month_of_Collision</th>\n",
       "      <th>Hour_of_Collision</th>\n",
       "      <th>Carriageway_Type</th>\n",
       "      <th>Speed_Limit</th>\n",
       "      <th>Junction_Detail</th>\n",
       "      <th>Junction_Control</th>\n",
       "      <th>Ped_Crossing_HC</th>\n",
       "      <th>Ped_Crossing_PC</th>\n",
       "      <th>Light_Conditions</th>\n",
       "      <th>Weather_Conditions</th>\n",
       "      <th>Road_Surface_Conditions</th>\n",
       "      <th>Special_Conditions_at_Site</th>\n",
       "    </tr>\n",
       "  </thead>\n",
       "  <tbody>\n",
       "    <tr>\n",
       "      <th>0</th>\n",
       "      <td>3518</td>\n",
       "      <td>CREA</td>\n",
       "      <td>3</td>\n",
       "      <td>MON</td>\n",
       "      <td>4</td>\n",
       "      <td>8</td>\n",
       "      <td>14.0</td>\n",
       "      <td>13</td>\n",
       "      <td>60</td>\n",
       "      <td>1.0</td>\n",
       "      <td>1.0</td>\n",
       "      <td>1.0</td>\n",
       "      <td>1.0</td>\n",
       "      <td>2</td>\n",
       "      <td>9</td>\n",
       "      <td>9.0</td>\n",
       "      <td>1.0</td>\n",
       "    </tr>\n",
       "    <tr>\n",
       "      <th>1</th>\n",
       "      <td>10557</td>\n",
       "      <td>BELC</td>\n",
       "      <td>3</td>\n",
       "      <td>SAT</td>\n",
       "      <td>8</td>\n",
       "      <td>8</td>\n",
       "      <td>17.0</td>\n",
       "      <td>11</td>\n",
       "      <td>50</td>\n",
       "      <td>12.0</td>\n",
       "      <td>7.0</td>\n",
       "      <td>1.0</td>\n",
       "      <td>1.0</td>\n",
       "      <td>4</td>\n",
       "      <td>3</td>\n",
       "      <td>1.0</td>\n",
       "      <td>1.0</td>\n",
       "    </tr>\n",
       "    <tr>\n",
       "      <th>2</th>\n",
       "      <td>5002</td>\n",
       "      <td>LISB</td>\n",
       "      <td>3</td>\n",
       "      <td>WED</td>\n",
       "      <td>5</td>\n",
       "      <td>11</td>\n",
       "      <td>17.0</td>\n",
       "      <td>1</td>\n",
       "      <td>60</td>\n",
       "      <td>12.0</td>\n",
       "      <td>7.0</td>\n",
       "      <td>1.0</td>\n",
       "      <td>1.0</td>\n",
       "      <td>2</td>\n",
       "      <td>2</td>\n",
       "      <td>2.0</td>\n",
       "      <td>1.0</td>\n",
       "    </tr>\n",
       "    <tr>\n",
       "      <th>3</th>\n",
       "      <td>11714</td>\n",
       "      <td>BELC</td>\n",
       "      <td>3</td>\n",
       "      <td>SUN</td>\n",
       "      <td>18</td>\n",
       "      <td>10</td>\n",
       "      <td>16.0</td>\n",
       "      <td>12</td>\n",
       "      <td>70</td>\n",
       "      <td>6.0</td>\n",
       "      <td>NaN</td>\n",
       "      <td>1.0</td>\n",
       "      <td>1.0</td>\n",
       "      <td>1</td>\n",
       "      <td>3</td>\n",
       "      <td>1.0</td>\n",
       "      <td>1.0</td>\n",
       "    </tr>\n",
       "    <tr>\n",
       "      <th>4</th>\n",
       "      <td>12416</td>\n",
       "      <td>MIDU</td>\n",
       "      <td>3</td>\n",
       "      <td>MON</td>\n",
       "      <td>23</td>\n",
       "      <td>11</td>\n",
       "      <td>9.0</td>\n",
       "      <td>13</td>\n",
       "      <td>60</td>\n",
       "      <td>6.0</td>\n",
       "      <td>7.0</td>\n",
       "      <td>1.0</td>\n",
       "      <td>1.0</td>\n",
       "      <td>2</td>\n",
       "      <td>3</td>\n",
       "      <td>1.0</td>\n",
       "      <td>1.0</td>\n",
       "    </tr>\n",
       "  </tbody>\n",
       "</table>\n",
       "</div>"
      ],
      "text/plain": [
       "   Collision_Ref_No Policing_Area  Collision_Severity Weekday_of_Collision  \\\n",
       "0              3518          CREA                   3                  MON   \n",
       "1             10557          BELC                   3                  SAT   \n",
       "2              5002          LISB                   3                  WED   \n",
       "3             11714          BELC                   3                  SUN   \n",
       "4             12416          MIDU                   3                  MON   \n",
       "\n",
       "   Day_of_Collision  Month_of_Collision  Hour_of_Collision  Carriageway_Type  \\\n",
       "0                 4                   8               14.0                13   \n",
       "1                 8                   8               17.0                11   \n",
       "2                 5                  11               17.0                 1   \n",
       "3                18                  10               16.0                12   \n",
       "4                23                  11                9.0                13   \n",
       "\n",
       "   Speed_Limit  Junction_Detail  Junction_Control  Ped_Crossing_HC  \\\n",
       "0           60              1.0               1.0              1.0   \n",
       "1           50             12.0               7.0              1.0   \n",
       "2           60             12.0               7.0              1.0   \n",
       "3           70              6.0               NaN              1.0   \n",
       "4           60              6.0               7.0              1.0   \n",
       "\n",
       "   Ped_Crossing_PC  Light_Conditions  Weather_Conditions  \\\n",
       "0              1.0                 2                   9   \n",
       "1              1.0                 4                   3   \n",
       "2              1.0                 2                   2   \n",
       "3              1.0                 1                   3   \n",
       "4              1.0                 2                   3   \n",
       "\n",
       "   Road_Surface_Conditions  Special_Conditions_at_Site  \n",
       "0                      9.0                         1.0  \n",
       "1                      1.0                         1.0  \n",
       "2                      2.0                         1.0  \n",
       "3                      1.0                         1.0  \n",
       "4                      1.0                         1.0  "
      ]
     },
     "execution_count": 2,
     "metadata": {},
     "output_type": "execute_result"
    }
   ],
   "source": [
    "df_train = pd.read_csv(\"Accident_train.csv\")\n",
    "df_train.head()"
   ]
  },
  {
   "cell_type": "code",
   "execution_count": 3,
   "metadata": {},
   "outputs": [
    {
     "data": {
      "text/html": [
       "<div>\n",
       "<style scoped>\n",
       "    .dataframe tbody tr th:only-of-type {\n",
       "        vertical-align: middle;\n",
       "    }\n",
       "\n",
       "    .dataframe tbody tr th {\n",
       "        vertical-align: top;\n",
       "    }\n",
       "\n",
       "    .dataframe thead th {\n",
       "        text-align: right;\n",
       "    }\n",
       "</style>\n",
       "<table border=\"1\" class=\"dataframe\">\n",
       "  <thead>\n",
       "    <tr style=\"text-align: right;\">\n",
       "      <th></th>\n",
       "      <th>Collision_Ref_No</th>\n",
       "      <th>Policing_Area</th>\n",
       "      <th>Collision_Severity</th>\n",
       "      <th>Weekday_of_Collision</th>\n",
       "      <th>Day_of_Collision</th>\n",
       "      <th>Month_of_Collision</th>\n",
       "      <th>Hour_of_Collision</th>\n",
       "      <th>Carriageway_Type</th>\n",
       "      <th>Speed_Limit</th>\n",
       "      <th>Junction_Detail</th>\n",
       "      <th>Junction_Control</th>\n",
       "      <th>Ped_Crossing_HC</th>\n",
       "      <th>Ped_Crossing_PC</th>\n",
       "      <th>Light_Conditions</th>\n",
       "      <th>Weather_Conditions</th>\n",
       "      <th>Road_Surface_Conditions</th>\n",
       "      <th>Special_Conditions_at_Site</th>\n",
       "    </tr>\n",
       "  </thead>\n",
       "  <tbody>\n",
       "    <tr>\n",
       "      <th>10038</th>\n",
       "      <td>3535</td>\n",
       "      <td>LISB</td>\n",
       "      <td>3</td>\n",
       "      <td>TUE</td>\n",
       "      <td>5</td>\n",
       "      <td>8</td>\n",
       "      <td>10.0</td>\n",
       "      <td>11</td>\n",
       "      <td>70</td>\n",
       "      <td>10.0</td>\n",
       "      <td>7.0</td>\n",
       "      <td>1.0</td>\n",
       "      <td>1.0</td>\n",
       "      <td>3</td>\n",
       "      <td>9</td>\n",
       "      <td>1.0</td>\n",
       "      <td>1.0</td>\n",
       "    </tr>\n",
       "    <tr>\n",
       "      <th>10039</th>\n",
       "      <td>11675</td>\n",
       "      <td>ARND</td>\n",
       "      <td>3</td>\n",
       "      <td>FRI</td>\n",
       "      <td>16</td>\n",
       "      <td>10</td>\n",
       "      <td>8.0</td>\n",
       "      <td>13</td>\n",
       "      <td>30</td>\n",
       "      <td>1.0</td>\n",
       "      <td>1.0</td>\n",
       "      <td>1.0</td>\n",
       "      <td>1.0</td>\n",
       "      <td>3</td>\n",
       "      <td>1</td>\n",
       "      <td>1.0</td>\n",
       "      <td>1.0</td>\n",
       "    </tr>\n",
       "    <tr>\n",
       "      <th>10040</th>\n",
       "      <td>7222</td>\n",
       "      <td>ARND</td>\n",
       "      <td>3</td>\n",
       "      <td>FRI</td>\n",
       "      <td>16</td>\n",
       "      <td>1</td>\n",
       "      <td>9.0</td>\n",
       "      <td>13</td>\n",
       "      <td>60</td>\n",
       "      <td>12.0</td>\n",
       "      <td>7.0</td>\n",
       "      <td>1.0</td>\n",
       "      <td>1.0</td>\n",
       "      <td>3</td>\n",
       "      <td>2</td>\n",
       "      <td>1.0</td>\n",
       "      <td>1.0</td>\n",
       "    </tr>\n",
       "    <tr>\n",
       "      <th>10041</th>\n",
       "      <td>12320</td>\n",
       "      <td>BELC</td>\n",
       "      <td>3</td>\n",
       "      <td>WED</td>\n",
       "      <td>18</td>\n",
       "      <td>11</td>\n",
       "      <td>20.0</td>\n",
       "      <td>13</td>\n",
       "      <td>30</td>\n",
       "      <td>12.0</td>\n",
       "      <td>7.0</td>\n",
       "      <td>1.0</td>\n",
       "      <td>1.0</td>\n",
       "      <td>4</td>\n",
       "      <td>9</td>\n",
       "      <td>2.0</td>\n",
       "      <td>1.0</td>\n",
       "    </tr>\n",
       "    <tr>\n",
       "      <th>10042</th>\n",
       "      <td>10757</td>\n",
       "      <td>NEMD</td>\n",
       "      <td>3</td>\n",
       "      <td>FRI</td>\n",
       "      <td>21</td>\n",
       "      <td>8</td>\n",
       "      <td>14.0</td>\n",
       "      <td>13</td>\n",
       "      <td>60</td>\n",
       "      <td>1.0</td>\n",
       "      <td>1.0</td>\n",
       "      <td>1.0</td>\n",
       "      <td>1.0</td>\n",
       "      <td>2</td>\n",
       "      <td>3</td>\n",
       "      <td>2.0</td>\n",
       "      <td>NaN</td>\n",
       "    </tr>\n",
       "  </tbody>\n",
       "</table>\n",
       "</div>"
      ],
      "text/plain": [
       "       Collision_Ref_No Policing_Area  Collision_Severity  \\\n",
       "10038              3535          LISB                   3   \n",
       "10039             11675          ARND                   3   \n",
       "10040              7222          ARND                   3   \n",
       "10041             12320          BELC                   3   \n",
       "10042             10757          NEMD                   3   \n",
       "\n",
       "      Weekday_of_Collision  Day_of_Collision  Month_of_Collision  \\\n",
       "10038                  TUE                 5                   8   \n",
       "10039                  FRI                16                  10   \n",
       "10040                  FRI                16                   1   \n",
       "10041                  WED                18                  11   \n",
       "10042                  FRI                21                   8   \n",
       "\n",
       "       Hour_of_Collision  Carriageway_Type  Speed_Limit  Junction_Detail  \\\n",
       "10038               10.0                11           70             10.0   \n",
       "10039                8.0                13           30              1.0   \n",
       "10040                9.0                13           60             12.0   \n",
       "10041               20.0                13           30             12.0   \n",
       "10042               14.0                13           60              1.0   \n",
       "\n",
       "       Junction_Control  Ped_Crossing_HC  Ped_Crossing_PC  Light_Conditions  \\\n",
       "10038               7.0              1.0              1.0                 3   \n",
       "10039               1.0              1.0              1.0                 3   \n",
       "10040               7.0              1.0              1.0                 3   \n",
       "10041               7.0              1.0              1.0                 4   \n",
       "10042               1.0              1.0              1.0                 2   \n",
       "\n",
       "       Weather_Conditions  Road_Surface_Conditions  Special_Conditions_at_Site  \n",
       "10038                   9                      1.0                         1.0  \n",
       "10039                   1                      1.0                         1.0  \n",
       "10040                   2                      1.0                         1.0  \n",
       "10041                   9                      2.0                         1.0  \n",
       "10042                   3                      2.0                         NaN  "
      ]
     },
     "execution_count": 3,
     "metadata": {},
     "output_type": "execute_result"
    }
   ],
   "source": [
    "df_train.tail()"
   ]
  },
  {
   "cell_type": "markdown",
   "metadata": {},
   "source": [
    "view the shape of data"
   ]
  },
  {
   "cell_type": "code",
   "execution_count": 4,
   "metadata": {},
   "outputs": [
    {
     "data": {
      "text/plain": [
       "(10043, 17)"
      ]
     },
     "execution_count": 4,
     "metadata": {},
     "output_type": "execute_result"
    }
   ],
   "source": [
    "df_train.shape"
   ]
  },
  {
   "cell_type": "markdown",
   "metadata": {},
   "source": [
    "view the datatypes for each column"
   ]
  },
  {
   "cell_type": "code",
   "execution_count": 5,
   "metadata": {},
   "outputs": [
    {
     "data": {
      "text/plain": [
       "Collision_Ref_No                int64\n",
       "Policing_Area                  object\n",
       "Collision_Severity              int64\n",
       "Weekday_of_Collision           object\n",
       "Day_of_Collision                int64\n",
       "Month_of_Collision              int64\n",
       "Hour_of_Collision             float64\n",
       "Carriageway_Type                int64\n",
       "Speed_Limit                     int64\n",
       "Junction_Detail               float64\n",
       "Junction_Control              float64\n",
       "Ped_Crossing_HC               float64\n",
       "Ped_Crossing_PC               float64\n",
       "Light_Conditions                int64\n",
       "Weather_Conditions              int64\n",
       "Road_Surface_Conditions       float64\n",
       "Special_Conditions_at_Site    float64\n",
       "dtype: object"
      ]
     },
     "execution_count": 5,
     "metadata": {},
     "output_type": "execute_result"
    }
   ],
   "source": [
    "df_train.dtypes"
   ]
  },
  {
   "cell_type": "markdown",
   "metadata": {},
   "source": [
    "Type 'object' is a string for pandas, which poses problems with machine learning algorithms. If we want to use these as features, we'll need to convert these to number representations."
   ]
  },
  {
   "cell_type": "markdown",
   "metadata": {},
   "source": [
    "Get Basic Information on the DataFrame"
   ]
  },
  {
   "cell_type": "code",
   "execution_count": 6,
   "metadata": {},
   "outputs": [
    {
     "name": "stdout",
     "output_type": "stream",
     "text": [
      "<class 'pandas.core.frame.DataFrame'>\n",
      "RangeIndex: 10043 entries, 0 to 10042\n",
      "Data columns (total 17 columns):\n",
      "Collision_Ref_No              10043 non-null int64\n",
      "Policing_Area                 9709 non-null object\n",
      "Collision_Severity            10043 non-null int64\n",
      "Weekday_of_Collision          10043 non-null object\n",
      "Day_of_Collision              10043 non-null int64\n",
      "Month_of_Collision            10043 non-null int64\n",
      "Hour_of_Collision             9759 non-null float64\n",
      "Carriageway_Type              10043 non-null int64\n",
      "Speed_Limit                   10043 non-null int64\n",
      "Junction_Detail               9750 non-null float64\n",
      "Junction_Control              9744 non-null float64\n",
      "Ped_Crossing_HC               9722 non-null float64\n",
      "Ped_Crossing_PC               9743 non-null float64\n",
      "Light_Conditions              10043 non-null int64\n",
      "Weather_Conditions            10043 non-null int64\n",
      "Road_Surface_Conditions       9734 non-null float64\n",
      "Special_Conditions_at_Site    9755 non-null float64\n",
      "dtypes: float64(7), int64(8), object(2)\n",
      "memory usage: 1.3+ MB\n"
     ]
    }
   ],
   "source": [
    "df_train.info()"
   ]
  },
  {
   "cell_type": "markdown",
   "metadata": {},
   "source": [
    "Policing_Area, Hour_of_Collision, Junction_Detail, Junction_Detail, Junction_Control, Ped_Crossing_HC, Ped_Crossing_PC , Road_Surface_Conditions, Special_Conditions_at_Site are having missing values. "
   ]
  },
  {
   "cell_type": "markdown",
   "metadata": {},
   "source": [
    "Generate various descriptive statistics on dataframe"
   ]
  },
  {
   "cell_type": "code",
   "execution_count": 7,
   "metadata": {},
   "outputs": [
    {
     "data": {
      "text/html": [
       "<div>\n",
       "<style scoped>\n",
       "    .dataframe tbody tr th:only-of-type {\n",
       "        vertical-align: middle;\n",
       "    }\n",
       "\n",
       "    .dataframe tbody tr th {\n",
       "        vertical-align: top;\n",
       "    }\n",
       "\n",
       "    .dataframe thead th {\n",
       "        text-align: right;\n",
       "    }\n",
       "</style>\n",
       "<table border=\"1\" class=\"dataframe\">\n",
       "  <thead>\n",
       "    <tr style=\"text-align: right;\">\n",
       "      <th></th>\n",
       "      <th>Collision_Ref_No</th>\n",
       "      <th>Collision_Severity</th>\n",
       "      <th>Day_of_Collision</th>\n",
       "      <th>Month_of_Collision</th>\n",
       "      <th>Hour_of_Collision</th>\n",
       "      <th>Carriageway_Type</th>\n",
       "      <th>Speed_Limit</th>\n",
       "      <th>Junction_Detail</th>\n",
       "      <th>Junction_Control</th>\n",
       "      <th>Ped_Crossing_HC</th>\n",
       "      <th>Ped_Crossing_PC</th>\n",
       "      <th>Light_Conditions</th>\n",
       "      <th>Weather_Conditions</th>\n",
       "      <th>Road_Surface_Conditions</th>\n",
       "      <th>Special_Conditions_at_Site</th>\n",
       "    </tr>\n",
       "  </thead>\n",
       "  <tbody>\n",
       "    <tr>\n",
       "      <th>count</th>\n",
       "      <td>10043.000000</td>\n",
       "      <td>10043.000000</td>\n",
       "      <td>10043.000000</td>\n",
       "      <td>10043.000000</td>\n",
       "      <td>9759.000000</td>\n",
       "      <td>10043.000000</td>\n",
       "      <td>10043.000000</td>\n",
       "      <td>9750.000000</td>\n",
       "      <td>9744.000000</td>\n",
       "      <td>9722.000000</td>\n",
       "      <td>9743.000000</td>\n",
       "      <td>10043.000000</td>\n",
       "      <td>10043.000000</td>\n",
       "      <td>9734.000000</td>\n",
       "      <td>9755.000000</td>\n",
       "    </tr>\n",
       "    <tr>\n",
       "      <th>mean</th>\n",
       "      <td>6565.855720</td>\n",
       "      <td>2.880613</td>\n",
       "      <td>15.662153</td>\n",
       "      <td>6.655382</td>\n",
       "      <td>13.624859</td>\n",
       "      <td>12.201036</td>\n",
       "      <td>42.415613</td>\n",
       "      <td>6.400410</td>\n",
       "      <td>4.158764</td>\n",
       "      <td>1.007714</td>\n",
       "      <td>2.231243</td>\n",
       "      <td>3.237778</td>\n",
       "      <td>4.717216</td>\n",
       "      <td>1.661804</td>\n",
       "      <td>1.057099</td>\n",
       "    </tr>\n",
       "    <tr>\n",
       "      <th>std</th>\n",
       "      <td>3928.749772</td>\n",
       "      <td>0.359226</td>\n",
       "      <td>8.783339</td>\n",
       "      <td>3.526781</td>\n",
       "      <td>5.099759</td>\n",
       "      <td>2.744209</td>\n",
       "      <td>14.524589</td>\n",
       "      <td>5.016853</td>\n",
       "      <td>2.864940</td>\n",
       "      <td>0.114938</td>\n",
       "      <td>3.252212</td>\n",
       "      <td>2.067334</td>\n",
       "      <td>3.745739</td>\n",
       "      <td>1.470371</td>\n",
       "      <td>0.480414</td>\n",
       "    </tr>\n",
       "    <tr>\n",
       "      <th>min</th>\n",
       "      <td>1.000000</td>\n",
       "      <td>1.000000</td>\n",
       "      <td>1.000000</td>\n",
       "      <td>1.000000</td>\n",
       "      <td>0.000000</td>\n",
       "      <td>1.000000</td>\n",
       "      <td>10.000000</td>\n",
       "      <td>1.000000</td>\n",
       "      <td>1.000000</td>\n",
       "      <td>1.000000</td>\n",
       "      <td>1.000000</td>\n",
       "      <td>1.000000</td>\n",
       "      <td>1.000000</td>\n",
       "      <td>1.000000</td>\n",
       "      <td>1.000000</td>\n",
       "    </tr>\n",
       "    <tr>\n",
       "      <th>25%</th>\n",
       "      <td>3060.500000</td>\n",
       "      <td>3.000000</td>\n",
       "      <td>8.000000</td>\n",
       "      <td>4.000000</td>\n",
       "      <td>10.000000</td>\n",
       "      <td>13.000000</td>\n",
       "      <td>30.000000</td>\n",
       "      <td>1.000000</td>\n",
       "      <td>1.000000</td>\n",
       "      <td>1.000000</td>\n",
       "      <td>1.000000</td>\n",
       "      <td>1.000000</td>\n",
       "      <td>1.000000</td>\n",
       "      <td>1.000000</td>\n",
       "      <td>1.000000</td>\n",
       "    </tr>\n",
       "    <tr>\n",
       "      <th>50%</th>\n",
       "      <td>7009.000000</td>\n",
       "      <td>3.000000</td>\n",
       "      <td>16.000000</td>\n",
       "      <td>7.000000</td>\n",
       "      <td>14.000000</td>\n",
       "      <td>13.000000</td>\n",
       "      <td>30.000000</td>\n",
       "      <td>6.000000</td>\n",
       "      <td>4.000000</td>\n",
       "      <td>1.000000</td>\n",
       "      <td>1.000000</td>\n",
       "      <td>3.000000</td>\n",
       "      <td>3.000000</td>\n",
       "      <td>1.000000</td>\n",
       "      <td>1.000000</td>\n",
       "    </tr>\n",
       "    <tr>\n",
       "      <th>75%</th>\n",
       "      <td>10078.500000</td>\n",
       "      <td>3.000000</td>\n",
       "      <td>23.000000</td>\n",
       "      <td>10.000000</td>\n",
       "      <td>17.000000</td>\n",
       "      <td>13.000000</td>\n",
       "      <td>60.000000</td>\n",
       "      <td>12.000000</td>\n",
       "      <td>7.000000</td>\n",
       "      <td>1.000000</td>\n",
       "      <td>1.000000</td>\n",
       "      <td>5.000000</td>\n",
       "      <td>9.000000</td>\n",
       "      <td>2.000000</td>\n",
       "      <td>1.000000</td>\n",
       "    </tr>\n",
       "    <tr>\n",
       "      <th>max</th>\n",
       "      <td>13147.000000</td>\n",
       "      <td>3.000000</td>\n",
       "      <td>31.000000</td>\n",
       "      <td>12.000000</td>\n",
       "      <td>23.000000</td>\n",
       "      <td>14.000000</td>\n",
       "      <td>70.000000</td>\n",
       "      <td>12.000000</td>\n",
       "      <td>7.000000</td>\n",
       "      <td>3.000000</td>\n",
       "      <td>12.000000</td>\n",
       "      <td>7.000000</td>\n",
       "      <td>10.000000</td>\n",
       "      <td>10.000000</td>\n",
       "      <td>6.000000</td>\n",
       "    </tr>\n",
       "  </tbody>\n",
       "</table>\n",
       "</div>"
      ],
      "text/plain": [
       "       Collision_Ref_No  Collision_Severity  Day_of_Collision  \\\n",
       "count      10043.000000        10043.000000      10043.000000   \n",
       "mean        6565.855720            2.880613         15.662153   \n",
       "std         3928.749772            0.359226          8.783339   \n",
       "min            1.000000            1.000000          1.000000   \n",
       "25%         3060.500000            3.000000          8.000000   \n",
       "50%         7009.000000            3.000000         16.000000   \n",
       "75%        10078.500000            3.000000         23.000000   \n",
       "max        13147.000000            3.000000         31.000000   \n",
       "\n",
       "       Month_of_Collision  Hour_of_Collision  Carriageway_Type   Speed_Limit  \\\n",
       "count        10043.000000        9759.000000      10043.000000  10043.000000   \n",
       "mean             6.655382          13.624859         12.201036     42.415613   \n",
       "std              3.526781           5.099759          2.744209     14.524589   \n",
       "min              1.000000           0.000000          1.000000     10.000000   \n",
       "25%              4.000000          10.000000         13.000000     30.000000   \n",
       "50%              7.000000          14.000000         13.000000     30.000000   \n",
       "75%             10.000000          17.000000         13.000000     60.000000   \n",
       "max             12.000000          23.000000         14.000000     70.000000   \n",
       "\n",
       "       Junction_Detail  Junction_Control  Ped_Crossing_HC  Ped_Crossing_PC  \\\n",
       "count      9750.000000       9744.000000      9722.000000      9743.000000   \n",
       "mean          6.400410          4.158764         1.007714         2.231243   \n",
       "std           5.016853          2.864940         0.114938         3.252212   \n",
       "min           1.000000          1.000000         1.000000         1.000000   \n",
       "25%           1.000000          1.000000         1.000000         1.000000   \n",
       "50%           6.000000          4.000000         1.000000         1.000000   \n",
       "75%          12.000000          7.000000         1.000000         1.000000   \n",
       "max          12.000000          7.000000         3.000000        12.000000   \n",
       "\n",
       "       Light_Conditions  Weather_Conditions  Road_Surface_Conditions  \\\n",
       "count      10043.000000        10043.000000              9734.000000   \n",
       "mean           3.237778            4.717216                 1.661804   \n",
       "std            2.067334            3.745739                 1.470371   \n",
       "min            1.000000            1.000000                 1.000000   \n",
       "25%            1.000000            1.000000                 1.000000   \n",
       "50%            3.000000            3.000000                 1.000000   \n",
       "75%            5.000000            9.000000                 2.000000   \n",
       "max            7.000000           10.000000                10.000000   \n",
       "\n",
       "       Special_Conditions_at_Site  \n",
       "count                 9755.000000  \n",
       "mean                     1.057099  \n",
       "std                      0.480414  \n",
       "min                      1.000000  \n",
       "25%                      1.000000  \n",
       "50%                      1.000000  \n",
       "75%                      1.000000  \n",
       "max                      6.000000  "
      ]
     },
     "execution_count": 7,
     "metadata": {},
     "output_type": "execute_result"
    }
   ],
   "source": [
    "df_train.describe()"
   ]
  },
  {
   "cell_type": "markdown",
   "metadata": {},
   "source": [
    "Now we have general idea of the dataset contents, we can dive deeper into each column, will be doing exploratory data analysis and cleaning data to setup 'features' we'll be using in our machine learning algorithm "
   ]
  },
  {
   "cell_type": "code",
   "execution_count": 8,
   "metadata": {},
   "outputs": [
    {
     "data": {
      "image/png": "[encoded data removed]",
      "text/plain": [
       "<Figure size 720x720 with 6 Axes>"
      ]
     },
     "metadata": {},
     "output_type": "display_data"
    }
   ],
   "source": [
    "#setup a grid of plots\n",
    "# Size of matplotlib figures that contain subplots\n",
    "fizsize_with_subplots = (10, 10)\n",
    "\n",
    "fig = plt.figure(figsize=fizsize_with_subplots)\n",
    "fig_dims = (3, 2)\n",
    "\n",
    "#plot Collision_Severity count\n",
    "plt.subplot2grid(fig_dims, (0, 0))\n",
    "df_train['Collision_Severity'].value_counts().plot(kind='bar', \\\n",
    "                                                title='Collision severity count', \\\n",
    "                                                   color='blue')\n",
    "\n",
    "#Road Surface conditions\n",
    "plt.subplot2grid(fig_dims, (0, 1))\n",
    "df_train['Road_Surface_Conditions'].value_counts().plot(kind='bar', \\\n",
    "                                                title='Road_Surface_Condition count', \\\n",
    "                                                       color='blue')\n",
    "\n",
    "#Special_Conditions_at_Site\n",
    "plt.subplot2grid(fig_dims, (1, 0))\n",
    "df_train['Special_Conditions_at_Site'].value_counts().plot(kind='bar', \\\n",
    "                                                title='Special conditions at site count', \\\n",
    "                                                       color='blue')\n",
    "\n",
    "\n",
    "#Special_Conditions_at_Site\n",
    "plt.subplot2grid(fig_dims, (1, 1))\n",
    "df_train['Weather_Conditions'].value_counts().plot(kind='bar', \\\n",
    "                                                title='Weather_Conditions count', \\\n",
    "                                                       color='blue')\n",
    "\n",
    "\n",
    "\n",
    "\n",
    "#Ped_Crossing HC\n",
    "plt.subplot2grid(fig_dims, (2, 0))\n",
    "df_train['Ped_Crossing_HC'].value_counts().plot(kind='bar', \\\n",
    "                                                title='Ped Crossing HC count', \\\n",
    "                                                       color='blue')\n",
    "\n",
    "#Ped_Crossing_PC\n",
    "plt.subplot2grid(fig_dims, (2, 1))\n",
    "df_train['Ped_Crossing_PC'].value_counts().plot(kind='bar', \\\n",
    "                                                title='Ped Crossing PC Count ', \\\n",
    "                                                       color='blue')\n",
    "\n",
    "plt.show()"
   ]
  },
  {
   "cell_type": "markdown",
   "metadata": {},
   "source": [
    "Next we'll explore the features to view their impact on survival rates"
   ]
  },
  {
   "cell_type": "markdown",
   "metadata": {},
   "source": [
    "<h2>Feature:  Weather Condition</h2>"
   ]
  },
  {
   "cell_type": "markdown",
   "metadata": {},
   "source": [
    "In the previous exploratory analysis we see collision severity is high for fatal injury collision, compared to serious and slight injury."
   ]
  },
  {
   "cell_type": "markdown",
   "metadata": {},
   "source": [
    "The weather condition has high variation with number of casualities, so let us check the proportion of collision severity on the weather condition"
   ]
  },
  {
   "cell_type": "code",
   "execution_count": 9,
   "metadata": {},
   "outputs": [
    {
     "data": {
      "text/html": [
       "<div>\n",
       "<style scoped>\n",
       "    .dataframe tbody tr th:only-of-type {\n",
       "        vertical-align: middle;\n",
       "    }\n",
       "\n",
       "    .dataframe tbody tr th {\n",
       "        vertical-align: top;\n",
       "    }\n",
       "\n",
       "    .dataframe thead th {\n",
       "        text-align: right;\n",
       "    }\n",
       "</style>\n",
       "<table border=\"1\" class=\"dataframe\">\n",
       "  <thead>\n",
       "    <tr style=\"text-align: right;\">\n",
       "      <th>Collision_Severity</th>\n",
       "      <th>1</th>\n",
       "      <th>2</th>\n",
       "      <th>3</th>\n",
       "    </tr>\n",
       "    <tr>\n",
       "      <th>Weather_Conditions</th>\n",
       "      <th></th>\n",
       "      <th></th>\n",
       "      <th></th>\n",
       "    </tr>\n",
       "  </thead>\n",
       "  <tbody>\n",
       "    <tr>\n",
       "      <th>1</th>\n",
       "      <td>81</td>\n",
       "      <td>652</td>\n",
       "      <td>1810</td>\n",
       "    </tr>\n",
       "    <tr>\n",
       "      <th>2</th>\n",
       "      <td>20</td>\n",
       "      <td>122</td>\n",
       "      <td>1789</td>\n",
       "    </tr>\n",
       "    <tr>\n",
       "      <th>3</th>\n",
       "      <td>0</td>\n",
       "      <td>5</td>\n",
       "      <td>1793</td>\n",
       "    </tr>\n",
       "    <tr>\n",
       "      <th>4</th>\n",
       "      <td>5</td>\n",
       "      <td>15</td>\n",
       "      <td>0</td>\n",
       "    </tr>\n",
       "    <tr>\n",
       "      <th>5</th>\n",
       "      <td>4</td>\n",
       "      <td>29</td>\n",
       "      <td>0</td>\n",
       "    </tr>\n",
       "    <tr>\n",
       "      <th>6</th>\n",
       "      <td>1</td>\n",
       "      <td>2</td>\n",
       "      <td>0</td>\n",
       "    </tr>\n",
       "    <tr>\n",
       "      <th>7</th>\n",
       "      <td>2</td>\n",
       "      <td>6</td>\n",
       "      <td>0</td>\n",
       "    </tr>\n",
       "    <tr>\n",
       "      <th>8</th>\n",
       "      <td>0</td>\n",
       "      <td>13</td>\n",
       "      <td>0</td>\n",
       "    </tr>\n",
       "    <tr>\n",
       "      <th>9</th>\n",
       "      <td>1</td>\n",
       "      <td>36</td>\n",
       "      <td>1750</td>\n",
       "    </tr>\n",
       "    <tr>\n",
       "      <th>10</th>\n",
       "      <td>6</td>\n",
       "      <td>79</td>\n",
       "      <td>1822</td>\n",
       "    </tr>\n",
       "  </tbody>\n",
       "</table>\n",
       "</div>"
      ],
      "text/plain": [
       "Collision_Severity   1    2     3\n",
       "Weather_Conditions               \n",
       "1                   81  652  1810\n",
       "2                   20  122  1789\n",
       "3                    0    5  1793\n",
       "4                    5   15     0\n",
       "5                    4   29     0\n",
       "6                    1    2     0\n",
       "7                    2    6     0\n",
       "8                    0   13     0\n",
       "9                    1   36  1750\n",
       "10                   6   79  1822"
      ]
     },
     "execution_count": 9,
     "metadata": {},
     "output_type": "execute_result"
    }
   ],
   "source": [
    "wcondi_xt = pd.crosstab(df_train['Weather_Conditions'], \\\n",
    "                       df_train['Collision_Severity'])\n",
    "wcondi_xt"
   ]
  },
  {
   "cell_type": "code",
   "execution_count": 10,
   "metadata": {},
   "outputs": [
    {
     "data": {
      "image/png": "[encoded data removed]",
      "text/plain": [
       "<Figure size 720x360 with 1 Axes>"
      ]
     },
     "metadata": {},
     "output_type": "display_data"
    }
   ],
   "source": [
    "# Normalize the cross tab to sum to 1:\n",
    "#wcondi_xt = wcondi_xt.div(wcondi_xt.sum(1).astype(float), axis=0)\n",
    "\n",
    "wcondi_xt.plot(kind='bar', \n",
    "                   stacked=True, \\\n",
    "                   title='Collision rate by weather condition')\n",
    "plt.xlabel('Weather condition')\n",
    "plt.ylabel('Collision Rate')\n",
    "plt.show()"
   ]
  },
  {
   "cell_type": "markdown",
   "metadata": {},
   "source": [
    "High wind and Hazard fog are the major reason for the Fatal and Serious Injury collision\n",
    "\n",
    "1 :  Fatal injury collision<br>\n",
    "2 :  Serious injury collision\n",
    "    #weather Condition\n",
    "    4 :  Fine with high winds\n",
    "    5 :  Raining with high winds\n",
    "    6 :  Snowing with high winds\n",
    "    7 :  Fog or mist - if hazard\n",
    "    8 :  Strong sun (glaring)\n"
   ]
  },
  {
   "cell_type": "markdown",
   "metadata": {},
   "source": [
    "<h2>Feature:  Light Conditions</h2>"
   ]
  },
  {
   "cell_type": "code",
   "execution_count": 11,
   "metadata": {},
   "outputs": [
    {
     "data": {
      "text/html": [
       "<div>\n",
       "<style scoped>\n",
       "    .dataframe tbody tr th:only-of-type {\n",
       "        vertical-align: middle;\n",
       "    }\n",
       "\n",
       "    .dataframe tbody tr th {\n",
       "        vertical-align: top;\n",
       "    }\n",
       "\n",
       "    .dataframe thead th {\n",
       "        text-align: right;\n",
       "    }\n",
       "</style>\n",
       "<table border=\"1\" class=\"dataframe\">\n",
       "  <thead>\n",
       "    <tr style=\"text-align: right;\">\n",
       "      <th>Collision_Severity</th>\n",
       "      <th>1</th>\n",
       "      <th>2</th>\n",
       "      <th>3</th>\n",
       "    </tr>\n",
       "    <tr>\n",
       "      <th>Light_Conditions</th>\n",
       "      <th></th>\n",
       "      <th></th>\n",
       "      <th></th>\n",
       "    </tr>\n",
       "  </thead>\n",
       "  <tbody>\n",
       "    <tr>\n",
       "      <th>1</th>\n",
       "      <td>28</td>\n",
       "      <td>237</td>\n",
       "      <td>2309</td>\n",
       "    </tr>\n",
       "    <tr>\n",
       "      <th>2</th>\n",
       "      <td>39</td>\n",
       "      <td>231</td>\n",
       "      <td>2039</td>\n",
       "    </tr>\n",
       "    <tr>\n",
       "      <th>3</th>\n",
       "      <td>11</td>\n",
       "      <td>113</td>\n",
       "      <td>1281</td>\n",
       "    </tr>\n",
       "    <tr>\n",
       "      <th>4</th>\n",
       "      <td>5</td>\n",
       "      <td>116</td>\n",
       "      <td>695</td>\n",
       "    </tr>\n",
       "    <tr>\n",
       "      <th>5</th>\n",
       "      <td>10</td>\n",
       "      <td>75</td>\n",
       "      <td>980</td>\n",
       "    </tr>\n",
       "    <tr>\n",
       "      <th>6</th>\n",
       "      <td>15</td>\n",
       "      <td>84</td>\n",
       "      <td>498</td>\n",
       "    </tr>\n",
       "    <tr>\n",
       "      <th>7</th>\n",
       "      <td>12</td>\n",
       "      <td>103</td>\n",
       "      <td>1162</td>\n",
       "    </tr>\n",
       "  </tbody>\n",
       "</table>\n",
       "</div>"
      ],
      "text/plain": [
       "Collision_Severity   1    2     3\n",
       "Light_Conditions                 \n",
       "1                   28  237  2309\n",
       "2                   39  231  2039\n",
       "3                   11  113  1281\n",
       "4                    5  116   695\n",
       "5                   10   75   980\n",
       "6                   15   84   498\n",
       "7                   12  103  1162"
      ]
     },
     "execution_count": 11,
     "metadata": {},
     "output_type": "execute_result"
    }
   ],
   "source": [
    "Lcondi_xt = pd.crosstab(df_train['Light_Conditions'], \\\n",
    "                       df_train['Collision_Severity'])\n",
    "Lcondi_xt"
   ]
  },
  {
   "cell_type": "code",
   "execution_count": 12,
   "metadata": {},
   "outputs": [
    {
     "data": {
      "image/png": "[encoded data removed]",
      "text/plain": [
       "<Figure size 720x360 with 1 Axes>"
      ]
     },
     "metadata": {},
     "output_type": "display_data"
    }
   ],
   "source": [
    "# Normalize the cross tab to sum to 1:\n",
    "#Lcondi_xt = Lcondi_xt.div(Lcondi_xt.sum(1).astype(float), axis=0)\n",
    "\n",
    "Lcondi_xt.plot(kind='bar', \n",
    "                   stacked=True, \\\n",
    "                   title='Collision rate by Light condition')\n",
    "plt.xlabel('Light condition')\n",
    "plt.ylabel('Collision Rate')\n",
    "plt.show()"
   ]
  },
  {
   "cell_type": "markdown",
   "metadata": {},
   "source": [
    "-Interms of Darkness the more from \"street lights present but unlit\" than the \"street lights present and lit\"<br>\n",
    "-But \"Fatal Injury Collisions\" are from street lights present but unlit<br>\n",
    "-\"Fatal Injury Collisions\" are high with \"No Light Conditions\" than \"Light Conditions\""
   ]
  },
  {
   "cell_type": "markdown",
   "metadata": {},
   "source": [
    "<h2>Feature: Road_Surface_Conditions</h2>"
   ]
  },
  {
   "cell_type": "code",
   "execution_count": 13,
   "metadata": {},
   "outputs": [
    {
     "data": {
      "text/html": [
       "<div>\n",
       "<style scoped>\n",
       "    .dataframe tbody tr th:only-of-type {\n",
       "        vertical-align: middle;\n",
       "    }\n",
       "\n",
       "    .dataframe tbody tr th {\n",
       "        vertical-align: top;\n",
       "    }\n",
       "\n",
       "    .dataframe thead th {\n",
       "        text-align: right;\n",
       "    }\n",
       "</style>\n",
       "<table border=\"1\" class=\"dataframe\">\n",
       "  <thead>\n",
       "    <tr style=\"text-align: right;\">\n",
       "      <th>Collision_Severity</th>\n",
       "      <th>1</th>\n",
       "      <th>2</th>\n",
       "      <th>3</th>\n",
       "    </tr>\n",
       "    <tr>\n",
       "      <th>Road_Surface_Conditions</th>\n",
       "      <th></th>\n",
       "      <th></th>\n",
       "      <th></th>\n",
       "    </tr>\n",
       "  </thead>\n",
       "  <tbody>\n",
       "    <tr>\n",
       "      <th>1.0</th>\n",
       "      <td>69</td>\n",
       "      <td>559</td>\n",
       "      <td>5370</td>\n",
       "    </tr>\n",
       "    <tr>\n",
       "      <th>2.0</th>\n",
       "      <td>43</td>\n",
       "      <td>302</td>\n",
       "      <td>2791</td>\n",
       "    </tr>\n",
       "    <tr>\n",
       "      <th>3.0</th>\n",
       "      <td>0</td>\n",
       "      <td>5</td>\n",
       "      <td>55</td>\n",
       "    </tr>\n",
       "    <tr>\n",
       "      <th>4.0</th>\n",
       "      <td>3</td>\n",
       "      <td>19</td>\n",
       "      <td>135</td>\n",
       "    </tr>\n",
       "    <tr>\n",
       "      <th>5.0</th>\n",
       "      <td>1</td>\n",
       "      <td>3</td>\n",
       "      <td>26</td>\n",
       "    </tr>\n",
       "    <tr>\n",
       "      <th>6.0</th>\n",
       "      <td>0</td>\n",
       "      <td>10</td>\n",
       "      <td>87</td>\n",
       "    </tr>\n",
       "    <tr>\n",
       "      <th>7.0</th>\n",
       "      <td>0</td>\n",
       "      <td>5</td>\n",
       "      <td>21</td>\n",
       "    </tr>\n",
       "    <tr>\n",
       "      <th>8.0</th>\n",
       "      <td>0</td>\n",
       "      <td>3</td>\n",
       "      <td>6</td>\n",
       "    </tr>\n",
       "    <tr>\n",
       "      <th>9.0</th>\n",
       "      <td>0</td>\n",
       "      <td>11</td>\n",
       "      <td>87</td>\n",
       "    </tr>\n",
       "    <tr>\n",
       "      <th>10.0</th>\n",
       "      <td>1</td>\n",
       "      <td>15</td>\n",
       "      <td>107</td>\n",
       "    </tr>\n",
       "  </tbody>\n",
       "</table>\n",
       "</div>"
      ],
      "text/plain": [
       "Collision_Severity        1    2     3\n",
       "Road_Surface_Conditions               \n",
       "1.0                      69  559  5370\n",
       "2.0                      43  302  2791\n",
       "3.0                       0    5    55\n",
       "4.0                       3   19   135\n",
       "5.0                       1    3    26\n",
       "6.0                       0   10    87\n",
       "7.0                       0    5    21\n",
       "8.0                       0    3     6\n",
       "9.0                       0   11    87\n",
       "10.0                      1   15   107"
      ]
     },
     "execution_count": 13,
     "metadata": {},
     "output_type": "execute_result"
    }
   ],
   "source": [
    "Rcondi_xt = pd.crosstab(df_train['Road_Surface_Conditions'], \\\n",
    "                       df_train['Collision_Severity'])\n",
    "Rcondi_xt"
   ]
  },
  {
   "cell_type": "code",
   "execution_count": 14,
   "metadata": {},
   "outputs": [
    {
     "data": {
      "image/png": "[encoded data removed]",
      "text/plain": [
       "<Figure size 720x360 with 1 Axes>"
      ]
     },
     "metadata": {},
     "output_type": "display_data"
    }
   ],
   "source": [
    "# Normalize the cross tab to sum to 1:\n",
    "#Rcondi_xt = Rcondi_xt.div(Rcondi_xt.sum(1).astype(float), axis=0)\n",
    "\n",
    "Rcondi_xt.plot(kind='bar', \n",
    "                   stacked=True, \\\n",
    "                   title='Collision rate by Road condition')\n",
    "plt.xlabel('Road condition')\n",
    "plt.ylabel('Collision Rate')\n",
    "plt.show()"
   ]
  },
  {
   "cell_type": "markdown",
   "metadata": {},
   "source": [
    "<h2>Feature: Pedestrian Crossing – Human Control/Physical Control</h2>"
   ]
  },
  {
   "cell_type": "markdown",
   "metadata": {},
   "source": [
    "During Univariate Analysis, I found that the more number of collisions are happening in the place of No Control(Human or Physical). Its clear that more number of Collisions are Slight Injury collisions.\n",
    "\n",
    "But I want to check the collision distribuition for Fatal and Serious Injuries. for both Human and Physical Controlled Pedestrian crossing"
   ]
  },
  {
   "cell_type": "code",
   "execution_count": 15,
   "metadata": {},
   "outputs": [
    {
     "name": "stdout",
     "output_type": "stream",
     "text": [
      "120\n",
      "959\n"
     ]
    }
   ],
   "source": [
    "col_severity_1 = df_train[df_train[\"Collision_Severity\"] == 1]\n",
    "print(len(col_severity_1))\n",
    "\n",
    "col_severity_2 = df_train[df_train[\"Collision_Severity\"] == 2]\n",
    "print(len(col_severity_2))"
   ]
  },
  {
   "cell_type": "markdown",
   "metadata": {},
   "source": [
    "There are total of 120 Fatal injury collisions and 959 serious injury collision"
   ]
  },
  {
   "cell_type": "markdown",
   "metadata": {},
   "source": [
    "<b>Pedistrian Crossing HC Zone</b>"
   ]
  },
  {
   "cell_type": "code",
   "execution_count": 16,
   "metadata": {},
   "outputs": [
    {
     "name": "stdout",
     "output_type": "stream",
     "text": [
      "Collision_Severity    1\n",
      "Ped_Crossing_HC        \n",
      "1.0                 117\n",
      " \n",
      "Collision_Severity    2\n",
      "Ped_Crossing_HC        \n",
      "1.0                 923\n",
      "2.0                   2\n",
      "3.0                   3\n"
     ]
    }
   ],
   "source": [
    "pcrossHC_sev1_xt = pd.crosstab(col_severity_1['Ped_Crossing_HC'], \\\n",
    "                       col_severity_1['Collision_Severity'])\n",
    "print(pcrossHC_sev1_xt)\n",
    "\n",
    "print(' ')\n",
    "pcrossHC_sev2_xt = pd.crosstab(col_severity_2['Ped_Crossing_HC'], \\\n",
    "                       col_severity_2['Collision_Severity'])\n",
    "print(pcrossHC_sev2_xt)\n"
   ]
  },
  {
   "cell_type": "markdown",
   "metadata": {},
   "source": [
    "Pedistrian crossing zone with No Human Control is major cause for High Number of collision"
   ]
  },
  {
   "cell_type": "markdown",
   "metadata": {},
   "source": [
    "<b>Pedistrian Crossing PC Zone</b>"
   ]
  },
  {
   "cell_type": "code",
   "execution_count": 17,
   "metadata": {},
   "outputs": [
    {
     "name": "stdout",
     "output_type": "stream",
     "text": [
      "Collision_Severity    1\n",
      "Ped_Crossing_PC        \n",
      "1.0                 111\n",
      "2.0                   1\n",
      "9.0                   2\n",
      "11.0                  1\n",
      "12.0                  3\n",
      " \n",
      "Collision_Severity    2\n",
      "Ped_Crossing_PC        \n",
      "1.0                 811\n",
      "2.0                  11\n",
      "9.0                  14\n",
      "10.0                  6\n",
      "11.0                 66\n",
      "12.0                 24\n"
     ]
    }
   ],
   "source": [
    "pcrossPC_sev1_xt = pd.crosstab(col_severity_1['Ped_Crossing_PC'], \\\n",
    "                       col_severity_1['Collision_Severity'])\n",
    "print(pcrossPC_sev1_xt)\n",
    "\n",
    "print(' ')\n",
    "pcrossPC_sev2_xt = pd.crosstab(col_severity_2['Ped_Crossing_PC'], \\\n",
    "                       col_severity_2['Collision_Severity'])\n",
    "print(pcrossPC_sev2_xt)"
   ]
  },
  {
   "cell_type": "markdown",
   "metadata": {},
   "source": [
    "Pedistrian crossing in the no physical control place is another major reason for higher collisions.\n",
    "\n",
    "Other Causes</br>\n",
    "Pedestrian phase at traffic signal junction<br>\n",
    "Non junction pedestrian light crossing"
   ]
  },
  {
   "cell_type": "markdown",
   "metadata": {},
   "source": [
    "Collision Severity is potentially high from the place with No Human control while pedistrecian crossing Road"
   ]
  },
  {
   "cell_type": "markdown",
   "metadata": {},
   "source": [
    "<h2>Feature: Weekday of Collision</h2>"
   ]
  },
  {
   "cell_type": "code",
   "execution_count": 18,
   "metadata": {},
   "outputs": [
    {
     "name": "stdout",
     "output_type": "stream",
     "text": [
      "Collision_Severity     1    2     3\n",
      "Weekday_of_Collision               \n",
      "FRI                   20  158  1515\n",
      "MON                   14  122  1289\n",
      "SAT                   14  151  1138\n",
      "SUN                   19  147   897\n",
      "THU                   14  127  1422\n",
      "TUE                   20  122  1321\n",
      "WED                   19  132  1382\n"
     ]
    }
   ],
   "source": [
    "week_day_collision = pd.crosstab(df_train['Weekday_of_Collision'], \\\n",
    "                       df_train['Collision_Severity'])\n",
    "print(week_day_collision)"
   ]
  },
  {
   "cell_type": "code",
   "execution_count": 19,
   "metadata": {},
   "outputs": [
    {
     "data": {
      "image/png": "[encoded data removed]",
      "text/plain": [
       "<Figure size 720x360 with 1 Axes>"
      ]
     },
     "metadata": {},
     "output_type": "display_data"
    }
   ],
   "source": [
    "week_day_collision.plot(kind='bar', \n",
    "                   stacked=True, \\\n",
    "                   title='Collision rate by Road condition')\n",
    "plt.xlabel('Weekday Collision')\n",
    "plt.ylabel('Collision Rate')\n",
    "plt.show()"
   ]
  },
  {
   "cell_type": "markdown",
   "metadata": {},
   "source": [
    "More accidents are happening in the Weekdays compared to Weekends\n",
    "\n",
    "High Casualities are on Friday<br>\n",
    "Less Casualities are on Sunday"
   ]
  },
  {
   "cell_type": "markdown",
   "metadata": {},
   "source": [
    "<h2>Features WeekDay and Hour of the Day</h2>"
   ]
  },
  {
   "cell_type": "code",
   "execution_count": 20,
   "metadata": {},
   "outputs": [
    {
     "name": "stdout",
     "output_type": "stream",
     "text": [
      "Weekday_of_Collision  FRI  MON  SAT  SUN  THU  TUE  WED\n",
      "Hour_of_Collision                                      \n",
      "0.0                    22   14   26   40    8   15   18\n",
      "1.0                    14   16   27   45   15   10    9\n",
      "2.0                     9   16   21   52   10   10    7\n",
      "3.0                     5    5   16   41    7    4    7\n",
      "4.0                     2    6    9   11    6    3    5\n",
      "5.0                     9    7   10    9    6    4    7\n",
      "6.0                    28   17   11   14   17    9   16\n",
      "7.0                    61   56   17    7   55   51   69\n",
      "8.0                   100  128   34   19  144  127  104\n",
      "9.0                    88   88   44   27  103   96   89\n",
      "10.0                   73   54   61   37   70   72   67\n",
      "11.0                   87   61   82   54   63   60   66\n",
      "12.0                  106   73   88   63   86   74   95\n",
      "13.0                   87   92  134   83  104   83   77\n",
      "14.0                  115   91   99   76  102   99  118\n",
      "15.0                  136  102   90   68  123  116  138\n",
      "16.0                  135  110   76   62  105  101  132\n",
      "17.0                  158  144   94   73  145  158  146\n",
      "18.0                  137  103   86   48  120  119  108\n",
      "19.0                   87   53   67   55   72   65   75\n",
      "20.0                   54   53   51   48   65   52   50\n",
      "21.0                   50   37   45   33   42   43   47\n",
      "22.0                   43   29   46   48   30   28   32\n",
      "23.0                   34   28   39   13   22   17   19\n"
     ]
    }
   ],
   "source": [
    "week_day_vs_hour_collision = pd.crosstab(df_train['Hour_of_Collision'], \\\n",
    "                       df_train['Weekday_of_Collision'])\n",
    "print(week_day_vs_hour_collision)"
   ]
  },
  {
   "cell_type": "code",
   "execution_count": 21,
   "metadata": {},
   "outputs": [
    {
     "data": {
      "image/png": "[encoded data removed]",
      "text/plain": [
       "<Figure size 720x360 with 1 Axes>"
      ]
     },
     "metadata": {},
     "output_type": "display_data"
    }
   ],
   "source": [
    "week_day_vs_hour_collision.plot(kind='bar', \n",
    "                   stacked=True, \\\n",
    "                   title='Week Day vs Hour of Collision')\n",
    "plt.xlabel('Weekday Collision')\n",
    "plt.ylabel('Hour of Collision')\n",
    "plt.show()"
   ]
  },
  {
   "cell_type": "markdown",
   "metadata": {},
   "source": [
    "The more number of Accidents are happening between 7AM to 19PM"
   ]
  },
  {
   "cell_type": "markdown",
   "metadata": {},
   "source": [
    "<h3>Handling Missing Values</h3>"
   ]
  },
  {
   "cell_type": "code",
   "execution_count": 22,
   "metadata": {},
   "outputs": [
    {
     "data": {
      "text/html": [
       "<div>\n",
       "<style scoped>\n",
       "    .dataframe tbody tr th:only-of-type {\n",
       "        vertical-align: middle;\n",
       "    }\n",
       "\n",
       "    .dataframe tbody tr th {\n",
       "        vertical-align: top;\n",
       "    }\n",
       "\n",
       "    .dataframe thead th {\n",
       "        text-align: right;\n",
       "    }\n",
       "</style>\n",
       "<table border=\"1\" class=\"dataframe\">\n",
       "  <thead>\n",
       "    <tr style=\"text-align: right;\">\n",
       "      <th></th>\n",
       "      <th>Total</th>\n",
       "      <th>Percent</th>\n",
       "    </tr>\n",
       "  </thead>\n",
       "  <tbody>\n",
       "    <tr>\n",
       "      <th>Policing_Area</th>\n",
       "      <td>334</td>\n",
       "      <td>0.033257</td>\n",
       "    </tr>\n",
       "    <tr>\n",
       "      <th>Ped_Crossing_HC</th>\n",
       "      <td>321</td>\n",
       "      <td>0.031963</td>\n",
       "    </tr>\n",
       "    <tr>\n",
       "      <th>Road_Surface_Conditions</th>\n",
       "      <td>309</td>\n",
       "      <td>0.030768</td>\n",
       "    </tr>\n",
       "    <tr>\n",
       "      <th>Ped_Crossing_PC</th>\n",
       "      <td>300</td>\n",
       "      <td>0.029872</td>\n",
       "    </tr>\n",
       "    <tr>\n",
       "      <th>Junction_Control</th>\n",
       "      <td>299</td>\n",
       "      <td>0.029772</td>\n",
       "    </tr>\n",
       "    <tr>\n",
       "      <th>Junction_Detail</th>\n",
       "      <td>293</td>\n",
       "      <td>0.029175</td>\n",
       "    </tr>\n",
       "    <tr>\n",
       "      <th>Special_Conditions_at_Site</th>\n",
       "      <td>288</td>\n",
       "      <td>0.028677</td>\n",
       "    </tr>\n",
       "    <tr>\n",
       "      <th>Hour_of_Collision</th>\n",
       "      <td>284</td>\n",
       "      <td>0.028278</td>\n",
       "    </tr>\n",
       "    <tr>\n",
       "      <th>Day_of_Collision</th>\n",
       "      <td>0</td>\n",
       "      <td>0.000000</td>\n",
       "    </tr>\n",
       "    <tr>\n",
       "      <th>Collision_Severity</th>\n",
       "      <td>0</td>\n",
       "      <td>0.000000</td>\n",
       "    </tr>\n",
       "    <tr>\n",
       "      <th>Weekday_of_Collision</th>\n",
       "      <td>0</td>\n",
       "      <td>0.000000</td>\n",
       "    </tr>\n",
       "    <tr>\n",
       "      <th>Speed_Limit</th>\n",
       "      <td>0</td>\n",
       "      <td>0.000000</td>\n",
       "    </tr>\n",
       "    <tr>\n",
       "      <th>Month_of_Collision</th>\n",
       "      <td>0</td>\n",
       "      <td>0.000000</td>\n",
       "    </tr>\n",
       "    <tr>\n",
       "      <th>Carriageway_Type</th>\n",
       "      <td>0</td>\n",
       "      <td>0.000000</td>\n",
       "    </tr>\n",
       "    <tr>\n",
       "      <th>Light_Conditions</th>\n",
       "      <td>0</td>\n",
       "      <td>0.000000</td>\n",
       "    </tr>\n",
       "    <tr>\n",
       "      <th>Weather_Conditions</th>\n",
       "      <td>0</td>\n",
       "      <td>0.000000</td>\n",
       "    </tr>\n",
       "    <tr>\n",
       "      <th>Collision_Ref_No</th>\n",
       "      <td>0</td>\n",
       "      <td>0.000000</td>\n",
       "    </tr>\n",
       "  </tbody>\n",
       "</table>\n",
       "</div>"
      ],
      "text/plain": [
       "                            Total   Percent\n",
       "Policing_Area                 334  0.033257\n",
       "Ped_Crossing_HC               321  0.031963\n",
       "Road_Surface_Conditions       309  0.030768\n",
       "Ped_Crossing_PC               300  0.029872\n",
       "Junction_Control              299  0.029772\n",
       "Junction_Detail               293  0.029175\n",
       "Special_Conditions_at_Site    288  0.028677\n",
       "Hour_of_Collision             284  0.028278\n",
       "Day_of_Collision                0  0.000000\n",
       "Collision_Severity              0  0.000000\n",
       "Weekday_of_Collision            0  0.000000\n",
       "Speed_Limit                     0  0.000000\n",
       "Month_of_Collision              0  0.000000\n",
       "Carriageway_Type                0  0.000000\n",
       "Light_Conditions                0  0.000000\n",
       "Weather_Conditions              0  0.000000\n",
       "Collision_Ref_No                0  0.000000"
      ]
     },
     "execution_count": 22,
     "metadata": {},
     "output_type": "execute_result"
    }
   ],
   "source": [
    "total = df_train.isnull().sum().sort_values(ascending=False)\n",
    "percent = (df_train.isnull().sum() / df_train.isnull().count()).sort_values(ascending=False)\n",
    "missing_data = pd.concat([total, percent], axis=1, keys=['Total', 'Percent'])\n",
    "missing_data.head(20)"
   ]
  },
  {
   "cell_type": "markdown",
   "metadata": {},
   "source": [
    "<b>Missing Value Imputation</b>"
   ]
  },
  {
   "cell_type": "markdown",
   "metadata": {},
   "source": [
    "The Missing value percentage in all the variable is between 2 - 4%. So though to impute the every variables seperately"
   ]
  },
  {
   "cell_type": "markdown",
   "metadata": {},
   "source": [
    "<b>Policing_Area</b>"
   ]
  },
  {
   "cell_type": "code",
   "execution_count": 24,
   "metadata": {},
   "outputs": [
    {
     "data": {
      "text/plain": [
       "Policing_Area\n",
       "BELC    1256\n",
       "ARBC     469\n",
       "LISC     438\n",
       "NEMD     438\n",
       "LISB     381\n",
       "Name: Policing_Area, dtype: int64"
      ]
     },
     "execution_count": 24,
     "metadata": {},
     "output_type": "execute_result"
    }
   ],
   "source": [
    "missing_policing = df_train.groupby(['Policing_Area'])['Policing_Area'].count().sort_values(ascending=False)\n",
    "missing_policing[:5]"
   ]
  },
  {
   "cell_type": "markdown",
   "metadata": {},
   "source": [
    "The more number of collisions are from BELC. So I thought to impute the missing values with mode for the policing variable"
   ]
  },
  {
   "cell_type": "code",
   "execution_count": 25,
   "metadata": {},
   "outputs": [
    {
     "data": {
      "text/plain": [
       "0    BELC\n",
       "dtype: object"
      ]
     },
     "execution_count": 25,
     "metadata": {},
     "output_type": "execute_result"
    }
   ],
   "source": [
    "df_train['Policing_Area'].mode()"
   ]
  },
  {
   "cell_type": "code",
   "execution_count": 26,
   "metadata": {},
   "outputs": [],
   "source": [
    "df_train['Policing_Area'] = df_train['Policing_Area'].fillna(df_train['Policing_Area'].mode()[0])"
   ]
  },
  {
   "cell_type": "markdown",
   "metadata": {},
   "source": [
    "Looking at the Daya, most of the variables are biased. So thought to impute the missing values with mode"
   ]
  },
  {
   "cell_type": "code",
   "execution_count": 27,
   "metadata": {},
   "outputs": [],
   "source": [
    "df_train['Ped_Crossing_HC'] = df_train['Ped_Crossing_HC'].fillna(df_train['Ped_Crossing_HC'].mode()[0])\n",
    "df_train['Road_Surface_Conditions'] = df_train['Road_Surface_Conditions'].fillna(df_train['Road_Surface_Conditions'].mode()[0])\n",
    "df_train['Ped_Crossing_PC'] = df_train['Ped_Crossing_PC'].fillna(df_train['Ped_Crossing_PC'].mode()[0])\n",
    "df_train['Junction_Control'] = df_train['Junction_Control'].fillna(df_train['Junction_Control'].mode()[0])\n",
    "df_train['Junction_Detail'] = df_train['Junction_Detail'].fillna(df_train['Junction_Detail'].mode()[0])\n",
    "df_train['Special_Conditions_at_Site'] = df_train['Special_Conditions_at_Site'].fillna(df_train['Special_Conditions_at_Site'].mode()[0])\n",
    "df_train['Hour_of_Collision'] = df_train['Hour_of_Collision'].fillna(df_train['Hour_of_Collision'].mode()[0])"
   ]
  },
  {
   "cell_type": "code",
   "execution_count": 28,
   "metadata": {},
   "outputs": [
    {
     "data": {
      "text/plain": [
       "Special_Conditions_at_Site    0\n",
       "Carriageway_Type              0\n",
       "Policing_Area                 0\n",
       "Collision_Severity            0\n",
       "Weekday_of_Collision          0\n",
       "Day_of_Collision              0\n",
       "Month_of_Collision            0\n",
       "Hour_of_Collision             0\n",
       "Speed_Limit                   0\n",
       "Road_Surface_Conditions       0\n",
       "Junction_Detail               0\n",
       "Junction_Control              0\n",
       "Ped_Crossing_HC               0\n",
       "Ped_Crossing_PC               0\n",
       "Light_Conditions              0\n",
       "Weather_Conditions            0\n",
       "Collision_Ref_No              0\n",
       "dtype: int64"
      ]
     },
     "execution_count": 28,
     "metadata": {},
     "output_type": "execute_result"
    }
   ],
   "source": [
    "df_train.isnull().sum().sort_values(ascending=False)"
   ]
  },
  {
   "cell_type": "markdown",
   "metadata": {},
   "source": [
    "<h3>Checking for the Duplicates</h3>"
   ]
  },
  {
   "cell_type": "code",
   "execution_count": 29,
   "metadata": {},
   "outputs": [
    {
     "data": {
      "text/plain": [
       "0"
      ]
     },
     "execution_count": 29,
     "metadata": {},
     "output_type": "execute_result"
    }
   ],
   "source": [
    "df_train.duplicated().sum()"
   ]
  },
  {
   "cell_type": "markdown",
   "metadata": {},
   "source": [
    "No Duplicates"
   ]
  },
  {
   "cell_type": "markdown",
   "metadata": {},
   "source": [
    "<h3>Checking Pearson Correlation</h3>"
   ]
  },
  {
   "cell_type": "code",
   "execution_count": 162,
   "metadata": {},
   "outputs": [
    {
     "name": "stdout",
     "output_type": "stream",
     "text": [
      "                    Ped_Crossing_HC  Collision_Severity\n",
      "Ped_Crossing_HC                 NaN                 NaN\n",
      "Collision_Severity              NaN                 1.0\n"
     ]
    }
   ],
   "source": [
    "corr_1 = df_train[df_train['Ped_Crossing_HC'] == 1]\n",
    "correlation = corr_1[['Ped_Crossing_HC', 'Collision_Severity']].corr(method='pearson')\n",
    "print(correlation)"
   ]
  },
  {
   "cell_type": "markdown",
   "metadata": {},
   "source": [
    "<b>Correlation Analysis</b>"
   ]
  },
  {
   "cell_type": "code",
   "execution_count": 31,
   "metadata": {},
   "outputs": [
    {
     "data": {
      "text/html": [
       "<div>\n",
       "<style scoped>\n",
       "    .dataframe tbody tr th:only-of-type {\n",
       "        vertical-align: middle;\n",
       "    }\n",
       "\n",
       "    .dataframe tbody tr th {\n",
       "        vertical-align: top;\n",
       "    }\n",
       "\n",
       "    .dataframe thead th {\n",
       "        text-align: right;\n",
       "    }\n",
       "</style>\n",
       "<table border=\"1\" class=\"dataframe\">\n",
       "  <thead>\n",
       "    <tr style=\"text-align: right;\">\n",
       "      <th></th>\n",
       "      <th>Collision_Ref_No</th>\n",
       "      <th>Collision_Severity</th>\n",
       "      <th>Day_of_Collision</th>\n",
       "      <th>Month_of_Collision</th>\n",
       "      <th>Hour_of_Collision</th>\n",
       "      <th>Carriageway_Type</th>\n",
       "      <th>Speed_Limit</th>\n",
       "      <th>Junction_Detail</th>\n",
       "      <th>Junction_Control</th>\n",
       "      <th>Ped_Crossing_HC</th>\n",
       "      <th>Ped_Crossing_PC</th>\n",
       "      <th>Light_Conditions</th>\n",
       "      <th>Weather_Conditions</th>\n",
       "      <th>Road_Surface_Conditions</th>\n",
       "      <th>Special_Conditions_at_Site</th>\n",
       "    </tr>\n",
       "  </thead>\n",
       "  <tbody>\n",
       "    <tr>\n",
       "      <th>Collision_Ref_No</th>\n",
       "      <td>1.000000</td>\n",
       "      <td>0.005700</td>\n",
       "      <td>0.047276</td>\n",
       "      <td>0.448113</td>\n",
       "      <td>0.015147</td>\n",
       "      <td>0.009736</td>\n",
       "      <td>0.017225</td>\n",
       "      <td>-0.007012</td>\n",
       "      <td>-0.014048</td>\n",
       "      <td>-0.006046</td>\n",
       "      <td>0.012721</td>\n",
       "      <td>0.008649</td>\n",
       "      <td>-0.001407</td>\n",
       "      <td>-0.003563</td>\n",
       "      <td>0.012874</td>\n",
       "    </tr>\n",
       "    <tr>\n",
       "      <th>Collision_Severity</th>\n",
       "      <td>0.005700</td>\n",
       "      <td>1.000000</td>\n",
       "      <td>-0.019886</td>\n",
       "      <td>0.005644</td>\n",
       "      <td>0.010722</td>\n",
       "      <td>-0.030402</td>\n",
       "      <td>-0.114203</td>\n",
       "      <td>0.021521</td>\n",
       "      <td>0.019150</td>\n",
       "      <td>0.002338</td>\n",
       "      <td>0.018235</td>\n",
       "      <td>0.001890</td>\n",
       "      <td>0.204848</td>\n",
       "      <td>-0.012583</td>\n",
       "      <td>-0.021367</td>\n",
       "    </tr>\n",
       "    <tr>\n",
       "      <th>Day_of_Collision</th>\n",
       "      <td>0.047276</td>\n",
       "      <td>-0.019886</td>\n",
       "      <td>1.000000</td>\n",
       "      <td>-0.019781</td>\n",
       "      <td>0.018447</td>\n",
       "      <td>0.018485</td>\n",
       "      <td>0.030740</td>\n",
       "      <td>-0.018484</td>\n",
       "      <td>-0.016792</td>\n",
       "      <td>0.003543</td>\n",
       "      <td>-0.008809</td>\n",
       "      <td>0.005488</td>\n",
       "      <td>0.002490</td>\n",
       "      <td>-0.003760</td>\n",
       "      <td>-0.000211</td>\n",
       "    </tr>\n",
       "    <tr>\n",
       "      <th>Month_of_Collision</th>\n",
       "      <td>0.448113</td>\n",
       "      <td>0.005644</td>\n",
       "      <td>-0.019781</td>\n",
       "      <td>1.000000</td>\n",
       "      <td>0.006587</td>\n",
       "      <td>0.001284</td>\n",
       "      <td>-0.002769</td>\n",
       "      <td>0.001688</td>\n",
       "      <td>-0.002868</td>\n",
       "      <td>-0.001786</td>\n",
       "      <td>0.009605</td>\n",
       "      <td>0.021880</td>\n",
       "      <td>-0.002908</td>\n",
       "      <td>0.001090</td>\n",
       "      <td>-0.005369</td>\n",
       "    </tr>\n",
       "    <tr>\n",
       "      <th>Hour_of_Collision</th>\n",
       "      <td>0.015147</td>\n",
       "      <td>0.010722</td>\n",
       "      <td>0.018447</td>\n",
       "      <td>0.006587</td>\n",
       "      <td>1.000000</td>\n",
       "      <td>-0.011947</td>\n",
       "      <td>-0.063001</td>\n",
       "      <td>0.029630</td>\n",
       "      <td>0.021912</td>\n",
       "      <td>0.002607</td>\n",
       "      <td>0.004117</td>\n",
       "      <td>0.178147</td>\n",
       "      <td>-0.006015</td>\n",
       "      <td>0.010112</td>\n",
       "      <td>0.013253</td>\n",
       "    </tr>\n",
       "    <tr>\n",
       "      <th>Carriageway_Type</th>\n",
       "      <td>0.009736</td>\n",
       "      <td>-0.030402</td>\n",
       "      <td>0.018485</td>\n",
       "      <td>0.001284</td>\n",
       "      <td>-0.011947</td>\n",
       "      <td>1.000000</td>\n",
       "      <td>0.096832</td>\n",
       "      <td>0.004720</td>\n",
       "      <td>-0.013921</td>\n",
       "      <td>0.013451</td>\n",
       "      <td>-0.017257</td>\n",
       "      <td>0.015270</td>\n",
       "      <td>0.000116</td>\n",
       "      <td>0.004846</td>\n",
       "      <td>0.002684</td>\n",
       "    </tr>\n",
       "    <tr>\n",
       "      <th>Speed_Limit</th>\n",
       "      <td>0.017225</td>\n",
       "      <td>-0.114203</td>\n",
       "      <td>0.030740</td>\n",
       "      <td>-0.002769</td>\n",
       "      <td>-0.063001</td>\n",
       "      <td>0.096832</td>\n",
       "      <td>1.000000</td>\n",
       "      <td>-0.083841</td>\n",
       "      <td>-0.046000</td>\n",
       "      <td>-0.035232</td>\n",
       "      <td>-0.157273</td>\n",
       "      <td>0.088901</td>\n",
       "      <td>-0.030649</td>\n",
       "      <td>0.054693</td>\n",
       "      <td>-0.029179</td>\n",
       "    </tr>\n",
       "    <tr>\n",
       "      <th>Junction_Detail</th>\n",
       "      <td>-0.007012</td>\n",
       "      <td>0.021521</td>\n",
       "      <td>-0.018484</td>\n",
       "      <td>0.001688</td>\n",
       "      <td>0.029630</td>\n",
       "      <td>0.004720</td>\n",
       "      <td>-0.083841</td>\n",
       "      <td>1.000000</td>\n",
       "      <td>0.815877</td>\n",
       "      <td>0.039031</td>\n",
       "      <td>0.113510</td>\n",
       "      <td>-0.009708</td>\n",
       "      <td>0.002368</td>\n",
       "      <td>-0.075462</td>\n",
       "      <td>-0.010429</td>\n",
       "    </tr>\n",
       "    <tr>\n",
       "      <th>Junction_Control</th>\n",
       "      <td>-0.014048</td>\n",
       "      <td>0.019150</td>\n",
       "      <td>-0.016792</td>\n",
       "      <td>-0.002868</td>\n",
       "      <td>0.021912</td>\n",
       "      <td>-0.013921</td>\n",
       "      <td>-0.046000</td>\n",
       "      <td>0.815877</td>\n",
       "      <td>1.000000</td>\n",
       "      <td>-0.022529</td>\n",
       "      <td>-0.052857</td>\n",
       "      <td>-0.001281</td>\n",
       "      <td>-0.005153</td>\n",
       "      <td>-0.091495</td>\n",
       "      <td>-0.021781</td>\n",
       "    </tr>\n",
       "    <tr>\n",
       "      <th>Ped_Crossing_HC</th>\n",
       "      <td>-0.006046</td>\n",
       "      <td>0.002338</td>\n",
       "      <td>0.003543</td>\n",
       "      <td>-0.001786</td>\n",
       "      <td>0.002607</td>\n",
       "      <td>0.013451</td>\n",
       "      <td>-0.035232</td>\n",
       "      <td>0.039031</td>\n",
       "      <td>-0.022529</td>\n",
       "      <td>1.000000</td>\n",
       "      <td>0.142748</td>\n",
       "      <td>-0.016966</td>\n",
       "      <td>-0.005828</td>\n",
       "      <td>-0.002491</td>\n",
       "      <td>0.114981</td>\n",
       "    </tr>\n",
       "    <tr>\n",
       "      <th>Ped_Crossing_PC</th>\n",
       "      <td>0.012721</td>\n",
       "      <td>0.018235</td>\n",
       "      <td>-0.008809</td>\n",
       "      <td>0.009605</td>\n",
       "      <td>0.004117</td>\n",
       "      <td>-0.017257</td>\n",
       "      <td>-0.157273</td>\n",
       "      <td>0.113510</td>\n",
       "      <td>-0.052857</td>\n",
       "      <td>0.142748</td>\n",
       "      <td>1.000000</td>\n",
       "      <td>-0.051504</td>\n",
       "      <td>0.007638</td>\n",
       "      <td>-0.005677</td>\n",
       "      <td>0.005220</td>\n",
       "    </tr>\n",
       "    <tr>\n",
       "      <th>Light_Conditions</th>\n",
       "      <td>0.008649</td>\n",
       "      <td>0.001890</td>\n",
       "      <td>0.005488</td>\n",
       "      <td>0.021880</td>\n",
       "      <td>0.178147</td>\n",
       "      <td>0.015270</td>\n",
       "      <td>0.088901</td>\n",
       "      <td>-0.009708</td>\n",
       "      <td>-0.001281</td>\n",
       "      <td>-0.016966</td>\n",
       "      <td>-0.051504</td>\n",
       "      <td>1.000000</td>\n",
       "      <td>0.003617</td>\n",
       "      <td>0.028569</td>\n",
       "      <td>-0.007267</td>\n",
       "    </tr>\n",
       "    <tr>\n",
       "      <th>Weather_Conditions</th>\n",
       "      <td>-0.001407</td>\n",
       "      <td>0.204848</td>\n",
       "      <td>0.002490</td>\n",
       "      <td>-0.002908</td>\n",
       "      <td>-0.006015</td>\n",
       "      <td>0.000116</td>\n",
       "      <td>-0.030649</td>\n",
       "      <td>0.002368</td>\n",
       "      <td>-0.005153</td>\n",
       "      <td>-0.005828</td>\n",
       "      <td>0.007638</td>\n",
       "      <td>0.003617</td>\n",
       "      <td>1.000000</td>\n",
       "      <td>0.003217</td>\n",
       "      <td>0.000927</td>\n",
       "    </tr>\n",
       "    <tr>\n",
       "      <th>Road_Surface_Conditions</th>\n",
       "      <td>-0.003563</td>\n",
       "      <td>-0.012583</td>\n",
       "      <td>-0.003760</td>\n",
       "      <td>0.001090</td>\n",
       "      <td>0.010112</td>\n",
       "      <td>0.004846</td>\n",
       "      <td>0.054693</td>\n",
       "      <td>-0.075462</td>\n",
       "      <td>-0.091495</td>\n",
       "      <td>-0.002491</td>\n",
       "      <td>-0.005677</td>\n",
       "      <td>0.028569</td>\n",
       "      <td>0.003217</td>\n",
       "      <td>1.000000</td>\n",
       "      <td>-0.005544</td>\n",
       "    </tr>\n",
       "    <tr>\n",
       "      <th>Special_Conditions_at_Site</th>\n",
       "      <td>0.012874</td>\n",
       "      <td>-0.021367</td>\n",
       "      <td>-0.000211</td>\n",
       "      <td>-0.005369</td>\n",
       "      <td>0.013253</td>\n",
       "      <td>0.002684</td>\n",
       "      <td>-0.029179</td>\n",
       "      <td>-0.010429</td>\n",
       "      <td>-0.021781</td>\n",
       "      <td>0.114981</td>\n",
       "      <td>0.005220</td>\n",
       "      <td>-0.007267</td>\n",
       "      <td>0.000927</td>\n",
       "      <td>-0.005544</td>\n",
       "      <td>1.000000</td>\n",
       "    </tr>\n",
       "  </tbody>\n",
       "</table>\n",
       "</div>"
      ],
      "text/plain": [
       "                            Collision_Ref_No  Collision_Severity  \\\n",
       "Collision_Ref_No                    1.000000            0.005700   \n",
       "Collision_Severity                  0.005700            1.000000   \n",
       "Day_of_Collision                    0.047276           -0.019886   \n",
       "Month_of_Collision                  0.448113            0.005644   \n",
       "Hour_of_Collision                   0.015147            0.010722   \n",
       "Carriageway_Type                    0.009736           -0.030402   \n",
       "Speed_Limit                         0.017225           -0.114203   \n",
       "Junction_Detail                    -0.007012            0.021521   \n",
       "Junction_Control                   -0.014048            0.019150   \n",
       "Ped_Crossing_HC                    -0.006046            0.002338   \n",
       "Ped_Crossing_PC                     0.012721            0.018235   \n",
       "Light_Conditions                    0.008649            0.001890   \n",
       "Weather_Conditions                 -0.001407            0.204848   \n",
       "Road_Surface_Conditions            -0.003563           -0.012583   \n",
       "Special_Conditions_at_Site          0.012874           -0.021367   \n",
       "\n",
       "                            Day_of_Collision  Month_of_Collision  \\\n",
       "Collision_Ref_No                    0.047276            0.448113   \n",
       "Collision_Severity                 -0.019886            0.005644   \n",
       "Day_of_Collision                    1.000000           -0.019781   \n",
       "Month_of_Collision                 -0.019781            1.000000   \n",
       "Hour_of_Collision                   0.018447            0.006587   \n",
       "Carriageway_Type                    0.018485            0.001284   \n",
       "Speed_Limit                         0.030740           -0.002769   \n",
       "Junction_Detail                    -0.018484            0.001688   \n",
       "Junction_Control                   -0.016792           -0.002868   \n",
       "Ped_Crossing_HC                     0.003543           -0.001786   \n",
       "Ped_Crossing_PC                    -0.008809            0.009605   \n",
       "Light_Conditions                    0.005488            0.021880   \n",
       "Weather_Conditions                  0.002490           -0.002908   \n",
       "Road_Surface_Conditions            -0.003760            0.001090   \n",
       "Special_Conditions_at_Site         -0.000211           -0.005369   \n",
       "\n",
       "                            Hour_of_Collision  Carriageway_Type  Speed_Limit  \\\n",
       "Collision_Ref_No                     0.015147          0.009736     0.017225   \n",
       "Collision_Severity                   0.010722         -0.030402    -0.114203   \n",
       "Day_of_Collision                     0.018447          0.018485     0.030740   \n",
       "Month_of_Collision                   0.006587          0.001284    -0.002769   \n",
       "Hour_of_Collision                    1.000000         -0.011947    -0.063001   \n",
       "Carriageway_Type                    -0.011947          1.000000     0.096832   \n",
       "Speed_Limit                         -0.063001          0.096832     1.000000   \n",
       "Junction_Detail                      0.029630          0.004720    -0.083841   \n",
       "Junction_Control                     0.021912         -0.013921    -0.046000   \n",
       "Ped_Crossing_HC                      0.002607          0.013451    -0.035232   \n",
       "Ped_Crossing_PC                      0.004117         -0.017257    -0.157273   \n",
       "Light_Conditions                     0.178147          0.015270     0.088901   \n",
       "Weather_Conditions                  -0.006015          0.000116    -0.030649   \n",
       "Road_Surface_Conditions              0.010112          0.004846     0.054693   \n",
       "Special_Conditions_at_Site           0.013253          0.002684    -0.029179   \n",
       "\n",
       "                            Junction_Detail  Junction_Control  \\\n",
       "Collision_Ref_No                  -0.007012         -0.014048   \n",
       "Collision_Severity                 0.021521          0.019150   \n",
       "Day_of_Collision                  -0.018484         -0.016792   \n",
       "Month_of_Collision                 0.001688         -0.002868   \n",
       "Hour_of_Collision                  0.029630          0.021912   \n",
       "Carriageway_Type                   0.004720         -0.013921   \n",
       "Speed_Limit                       -0.083841         -0.046000   \n",
       "Junction_Detail                    1.000000          0.815877   \n",
       "Junction_Control                   0.815877          1.000000   \n",
       "Ped_Crossing_HC                    0.039031         -0.022529   \n",
       "Ped_Crossing_PC                    0.113510         -0.052857   \n",
       "Light_Conditions                  -0.009708         -0.001281   \n",
       "Weather_Conditions                 0.002368         -0.005153   \n",
       "Road_Surface_Conditions           -0.075462         -0.091495   \n",
       "Special_Conditions_at_Site        -0.010429         -0.021781   \n",
       "\n",
       "                            Ped_Crossing_HC  Ped_Crossing_PC  \\\n",
       "Collision_Ref_No                  -0.006046         0.012721   \n",
       "Collision_Severity                 0.002338         0.018235   \n",
       "Day_of_Collision                   0.003543        -0.008809   \n",
       "Month_of_Collision                -0.001786         0.009605   \n",
       "Hour_of_Collision                  0.002607         0.004117   \n",
       "Carriageway_Type                   0.013451        -0.017257   \n",
       "Speed_Limit                       -0.035232        -0.157273   \n",
       "Junction_Detail                    0.039031         0.113510   \n",
       "Junction_Control                  -0.022529        -0.052857   \n",
       "Ped_Crossing_HC                    1.000000         0.142748   \n",
       "Ped_Crossing_PC                    0.142748         1.000000   \n",
       "Light_Conditions                  -0.016966        -0.051504   \n",
       "Weather_Conditions                -0.005828         0.007638   \n",
       "Road_Surface_Conditions           -0.002491        -0.005677   \n",
       "Special_Conditions_at_Site         0.114981         0.005220   \n",
       "\n",
       "                            Light_Conditions  Weather_Conditions  \\\n",
       "Collision_Ref_No                    0.008649           -0.001407   \n",
       "Collision_Severity                  0.001890            0.204848   \n",
       "Day_of_Collision                    0.005488            0.002490   \n",
       "Month_of_Collision                  0.021880           -0.002908   \n",
       "Hour_of_Collision                   0.178147           -0.006015   \n",
       "Carriageway_Type                    0.015270            0.000116   \n",
       "Speed_Limit                         0.088901           -0.030649   \n",
       "Junction_Detail                    -0.009708            0.002368   \n",
       "Junction_Control                   -0.001281           -0.005153   \n",
       "Ped_Crossing_HC                    -0.016966           -0.005828   \n",
       "Ped_Crossing_PC                    -0.051504            0.007638   \n",
       "Light_Conditions                    1.000000            0.003617   \n",
       "Weather_Conditions                  0.003617            1.000000   \n",
       "Road_Surface_Conditions             0.028569            0.003217   \n",
       "Special_Conditions_at_Site         -0.007267            0.000927   \n",
       "\n",
       "                            Road_Surface_Conditions  \\\n",
       "Collision_Ref_No                          -0.003563   \n",
       "Collision_Severity                        -0.012583   \n",
       "Day_of_Collision                          -0.003760   \n",
       "Month_of_Collision                         0.001090   \n",
       "Hour_of_Collision                          0.010112   \n",
       "Carriageway_Type                           0.004846   \n",
       "Speed_Limit                                0.054693   \n",
       "Junction_Detail                           -0.075462   \n",
       "Junction_Control                          -0.091495   \n",
       "Ped_Crossing_HC                           -0.002491   \n",
       "Ped_Crossing_PC                           -0.005677   \n",
       "Light_Conditions                           0.028569   \n",
       "Weather_Conditions                         0.003217   \n",
       "Road_Surface_Conditions                    1.000000   \n",
       "Special_Conditions_at_Site                -0.005544   \n",
       "\n",
       "                            Special_Conditions_at_Site  \n",
       "Collision_Ref_No                              0.012874  \n",
       "Collision_Severity                           -0.021367  \n",
       "Day_of_Collision                             -0.000211  \n",
       "Month_of_Collision                           -0.005369  \n",
       "Hour_of_Collision                             0.013253  \n",
       "Carriageway_Type                              0.002684  \n",
       "Speed_Limit                                  -0.029179  \n",
       "Junction_Detail                              -0.010429  \n",
       "Junction_Control                             -0.021781  \n",
       "Ped_Crossing_HC                               0.114981  \n",
       "Ped_Crossing_PC                               0.005220  \n",
       "Light_Conditions                             -0.007267  \n",
       "Weather_Conditions                            0.000927  \n",
       "Road_Surface_Conditions                      -0.005544  \n",
       "Special_Conditions_at_Site                    1.000000  "
      ]
     },
     "execution_count": 31,
     "metadata": {},
     "output_type": "execute_result"
    }
   ],
   "source": [
    "import seaborn as sns\n",
    "#Corelation Matrix\n",
    "corrmat = df_train.corr()\n",
    "corrmat"
   ]
  },
  {
   "cell_type": "code",
   "execution_count": 33,
   "metadata": {},
   "outputs": [
    {
     "data": {
      "image/png": "[encoded data removed]",
      "text/plain": [
       "<Figure size 864x648 with 2 Axes>"
      ]
     },
     "metadata": {},
     "output_type": "display_data"
    }
   ],
   "source": [
    "f, ax = plt.subplots(figsize=(12, 9))\n",
    "#control the positive and negative correlation with vmin, vmax\n",
    "sns.heatmap(corrmat, vmin=-1, vmax =1, square=True, annot=True, fmt='.2f', annot_kws={'size': 10})\n",
    "plt.show()"
   ]
  },
  {
   "cell_type": "code",
   "execution_count": 34,
   "metadata": {},
   "outputs": [
    {
     "data": {
      "image/png": "[encoded data removed]",
      "text/plain": [
       "<Figure size 720x360 with 2 Axes>"
      ]
     },
     "metadata": {},
     "output_type": "display_data"
    }
   ],
   "source": [
    "k = 10 #number of variables for heatmap\n",
    "cols = corrmat.nlargest(k, 'Collision_Severity')['Collision_Severity'].index\n",
    "cm = np.corrcoef(df_train[cols].values.T)\n",
    "sns.set(font_scale=1.25)\n",
    "hm = sns.heatmap(cm, cbar=True, annot=True, square=True, \n",
    "                 fmt='.2f', annot_kws={'size': 10}, \n",
    "                 yticklabels=cols.values, xticklabels=cols.values)\n",
    "plt.show()"
   ]
  },
  {
   "cell_type": "markdown",
   "metadata": {},
   "source": [
    "Very few of the Variables are moderately correlated. Junction control and Junction Detail are positively corelated\n",
    "\n",
    "Collision Ref No correlated with Month_of Collision. But No sense of Keeping Reference numbers while modeling"
   ]
  },
  {
   "cell_type": "code",
   "execution_count": 84,
   "metadata": {},
   "outputs": [
    {
     "data": {
      "text/plain": [
       "(10043, 17)"
      ]
     },
     "execution_count": 84,
     "metadata": {},
     "output_type": "execute_result"
    }
   ],
   "source": [
    "df_train.shape"
   ]
  },
  {
   "cell_type": "markdown",
   "metadata": {},
   "source": [
    "<h2>Data Preparation for Machine Learning</h2>"
   ]
  },
  {
   "cell_type": "markdown",
   "metadata": {},
   "source": [
    "Many machine learning algorithms do not work on strings and they usually require the data to be in an array, not a DataFrame."
   ]
  },
  {
   "cell_type": "markdown",
   "metadata": {},
   "source": [
    "Show only the columns of type 'object' (strings):"
   ]
  },
  {
   "cell_type": "code",
   "execution_count": 35,
   "metadata": {},
   "outputs": [
    {
     "data": {
      "text/plain": [
       "Policing_Area           object\n",
       "Weekday_of_Collision    object\n",
       "dtype: object"
      ]
     },
     "execution_count": 35,
     "metadata": {},
     "output_type": "execute_result"
    }
   ],
   "source": [
    "df_train.dtypes[df_train.dtypes.map(lambda x: x == 'object')]"
   ]
  },
  {
   "cell_type": "markdown",
   "metadata": {},
   "source": [
    "<b>Label Encoding</b>"
   ]
  },
  {
   "cell_type": "code",
   "execution_count": 36,
   "metadata": {},
   "outputs": [
    {
     "data": {
      "text/html": [
       "<div>\n",
       "<style scoped>\n",
       "    .dataframe tbody tr th:only-of-type {\n",
       "        vertical-align: middle;\n",
       "    }\n",
       "\n",
       "    .dataframe tbody tr th {\n",
       "        vertical-align: top;\n",
       "    }\n",
       "\n",
       "    .dataframe thead th {\n",
       "        text-align: right;\n",
       "    }\n",
       "</style>\n",
       "<table border=\"1\" class=\"dataframe\">\n",
       "  <thead>\n",
       "    <tr style=\"text-align: right;\">\n",
       "      <th></th>\n",
       "      <th>Collision_Ref_No</th>\n",
       "      <th>Policing_Area</th>\n",
       "      <th>Collision_Severity</th>\n",
       "      <th>Weekday_of_Collision</th>\n",
       "      <th>Day_of_Collision</th>\n",
       "      <th>Month_of_Collision</th>\n",
       "      <th>Hour_of_Collision</th>\n",
       "      <th>Carriageway_Type</th>\n",
       "      <th>Speed_Limit</th>\n",
       "      <th>Junction_Detail</th>\n",
       "      <th>Junction_Control</th>\n",
       "      <th>Ped_Crossing_HC</th>\n",
       "      <th>Ped_Crossing_PC</th>\n",
       "      <th>Light_Conditions</th>\n",
       "      <th>Weather_Conditions</th>\n",
       "      <th>Road_Surface_Conditions</th>\n",
       "      <th>Special_Conditions_at_Site</th>\n",
       "    </tr>\n",
       "  </thead>\n",
       "  <tbody>\n",
       "    <tr>\n",
       "      <th>0</th>\n",
       "      <td>3518</td>\n",
       "      <td>CREA</td>\n",
       "      <td>3</td>\n",
       "      <td>MON</td>\n",
       "      <td>4</td>\n",
       "      <td>8</td>\n",
       "      <td>14.0</td>\n",
       "      <td>13</td>\n",
       "      <td>60</td>\n",
       "      <td>1.0</td>\n",
       "      <td>1.0</td>\n",
       "      <td>1.0</td>\n",
       "      <td>1.0</td>\n",
       "      <td>2</td>\n",
       "      <td>9</td>\n",
       "      <td>9.0</td>\n",
       "      <td>1.0</td>\n",
       "    </tr>\n",
       "    <tr>\n",
       "      <th>1</th>\n",
       "      <td>10557</td>\n",
       "      <td>BELC</td>\n",
       "      <td>3</td>\n",
       "      <td>SAT</td>\n",
       "      <td>8</td>\n",
       "      <td>8</td>\n",
       "      <td>17.0</td>\n",
       "      <td>11</td>\n",
       "      <td>50</td>\n",
       "      <td>12.0</td>\n",
       "      <td>7.0</td>\n",
       "      <td>1.0</td>\n",
       "      <td>1.0</td>\n",
       "      <td>4</td>\n",
       "      <td>3</td>\n",
       "      <td>1.0</td>\n",
       "      <td>1.0</td>\n",
       "    </tr>\n",
       "    <tr>\n",
       "      <th>2</th>\n",
       "      <td>5002</td>\n",
       "      <td>LISB</td>\n",
       "      <td>3</td>\n",
       "      <td>WED</td>\n",
       "      <td>5</td>\n",
       "      <td>11</td>\n",
       "      <td>17.0</td>\n",
       "      <td>1</td>\n",
       "      <td>60</td>\n",
       "      <td>12.0</td>\n",
       "      <td>7.0</td>\n",
       "      <td>1.0</td>\n",
       "      <td>1.0</td>\n",
       "      <td>2</td>\n",
       "      <td>2</td>\n",
       "      <td>2.0</td>\n",
       "      <td>1.0</td>\n",
       "    </tr>\n",
       "    <tr>\n",
       "      <th>3</th>\n",
       "      <td>11714</td>\n",
       "      <td>BELC</td>\n",
       "      <td>3</td>\n",
       "      <td>SUN</td>\n",
       "      <td>18</td>\n",
       "      <td>10</td>\n",
       "      <td>16.0</td>\n",
       "      <td>12</td>\n",
       "      <td>70</td>\n",
       "      <td>6.0</td>\n",
       "      <td>7.0</td>\n",
       "      <td>1.0</td>\n",
       "      <td>1.0</td>\n",
       "      <td>1</td>\n",
       "      <td>3</td>\n",
       "      <td>1.0</td>\n",
       "      <td>1.0</td>\n",
       "    </tr>\n",
       "    <tr>\n",
       "      <th>4</th>\n",
       "      <td>12416</td>\n",
       "      <td>MIDU</td>\n",
       "      <td>3</td>\n",
       "      <td>MON</td>\n",
       "      <td>23</td>\n",
       "      <td>11</td>\n",
       "      <td>9.0</td>\n",
       "      <td>13</td>\n",
       "      <td>60</td>\n",
       "      <td>6.0</td>\n",
       "      <td>7.0</td>\n",
       "      <td>1.0</td>\n",
       "      <td>1.0</td>\n",
       "      <td>2</td>\n",
       "      <td>3</td>\n",
       "      <td>1.0</td>\n",
       "      <td>1.0</td>\n",
       "    </tr>\n",
       "  </tbody>\n",
       "</table>\n",
       "</div>"
      ],
      "text/plain": [
       "   Collision_Ref_No Policing_Area  Collision_Severity Weekday_of_Collision  \\\n",
       "0              3518          CREA                   3                  MON   \n",
       "1             10557          BELC                   3                  SAT   \n",
       "2              5002          LISB                   3                  WED   \n",
       "3             11714          BELC                   3                  SUN   \n",
       "4             12416          MIDU                   3                  MON   \n",
       "\n",
       "   Day_of_Collision  Month_of_Collision  Hour_of_Collision  Carriageway_Type  \\\n",
       "0                 4                   8               14.0                13   \n",
       "1                 8                   8               17.0                11   \n",
       "2                 5                  11               17.0                 1   \n",
       "3                18                  10               16.0                12   \n",
       "4                23                  11                9.0                13   \n",
       "\n",
       "   Speed_Limit  Junction_Detail  Junction_Control  Ped_Crossing_HC  \\\n",
       "0           60              1.0               1.0              1.0   \n",
       "1           50             12.0               7.0              1.0   \n",
       "2           60             12.0               7.0              1.0   \n",
       "3           70              6.0               7.0              1.0   \n",
       "4           60              6.0               7.0              1.0   \n",
       "\n",
       "   Ped_Crossing_PC  Light_Conditions  Weather_Conditions  \\\n",
       "0              1.0                 2                   9   \n",
       "1              1.0                 4                   3   \n",
       "2              1.0                 2                   2   \n",
       "3              1.0                 1                   3   \n",
       "4              1.0                 2                   3   \n",
       "\n",
       "   Road_Surface_Conditions  Special_Conditions_at_Site  \n",
       "0                      9.0                         1.0  \n",
       "1                      1.0                         1.0  \n",
       "2                      2.0                         1.0  \n",
       "3                      1.0                         1.0  \n",
       "4                      1.0                         1.0  "
      ]
     },
     "execution_count": 36,
     "metadata": {},
     "output_type": "execute_result"
    }
   ],
   "source": [
    "df_clean = df_train\n",
    "df_clean.head()"
   ]
  },
  {
   "cell_type": "code",
   "execution_count": 37,
   "metadata": {},
   "outputs": [],
   "source": [
    "from sklearn.preprocessing import LabelEncoder\n",
    "\n",
    "lb_encode = LabelEncoder()\n",
    "df_clean['Policing_Area'] = lb_encode.fit_transform(df_clean['Policing_Area'])\n",
    "df_clean['Weekday_of_Collision'] = lb_encode.fit_transform(df_clean['Weekday_of_Collision'])"
   ]
  },
  {
   "cell_type": "code",
   "execution_count": 38,
   "metadata": {},
   "outputs": [
    {
     "data": {
      "text/html": [
       "<div>\n",
       "<style scoped>\n",
       "    .dataframe tbody tr th:only-of-type {\n",
       "        vertical-align: middle;\n",
       "    }\n",
       "\n",
       "    .dataframe tbody tr th {\n",
       "        vertical-align: top;\n",
       "    }\n",
       "\n",
       "    .dataframe thead th {\n",
       "        text-align: right;\n",
       "    }\n",
       "</style>\n",
       "<table border=\"1\" class=\"dataframe\">\n",
       "  <thead>\n",
       "    <tr style=\"text-align: right;\">\n",
       "      <th></th>\n",
       "      <th>Collision_Ref_No</th>\n",
       "      <th>Policing_Area</th>\n",
       "      <th>Collision_Severity</th>\n",
       "      <th>Weekday_of_Collision</th>\n",
       "      <th>Day_of_Collision</th>\n",
       "      <th>Month_of_Collision</th>\n",
       "      <th>Hour_of_Collision</th>\n",
       "      <th>Carriageway_Type</th>\n",
       "      <th>Speed_Limit</th>\n",
       "      <th>Junction_Detail</th>\n",
       "      <th>Junction_Control</th>\n",
       "      <th>Ped_Crossing_HC</th>\n",
       "      <th>Ped_Crossing_PC</th>\n",
       "      <th>Light_Conditions</th>\n",
       "      <th>Weather_Conditions</th>\n",
       "      <th>Road_Surface_Conditions</th>\n",
       "      <th>Special_Conditions_at_Site</th>\n",
       "    </tr>\n",
       "  </thead>\n",
       "  <tbody>\n",
       "    <tr>\n",
       "      <th>0</th>\n",
       "      <td>3518</td>\n",
       "      <td>19</td>\n",
       "      <td>3</td>\n",
       "      <td>1</td>\n",
       "      <td>4</td>\n",
       "      <td>8</td>\n",
       "      <td>14.0</td>\n",
       "      <td>13</td>\n",
       "      <td>60</td>\n",
       "      <td>1.0</td>\n",
       "      <td>1.0</td>\n",
       "      <td>1.0</td>\n",
       "      <td>1.0</td>\n",
       "      <td>2</td>\n",
       "      <td>9</td>\n",
       "      <td>9.0</td>\n",
       "      <td>1.0</td>\n",
       "    </tr>\n",
       "    <tr>\n",
       "      <th>1</th>\n",
       "      <td>10557</td>\n",
       "      <td>7</td>\n",
       "      <td>3</td>\n",
       "      <td>2</td>\n",
       "      <td>8</td>\n",
       "      <td>8</td>\n",
       "      <td>17.0</td>\n",
       "      <td>11</td>\n",
       "      <td>50</td>\n",
       "      <td>12.0</td>\n",
       "      <td>7.0</td>\n",
       "      <td>1.0</td>\n",
       "      <td>1.0</td>\n",
       "      <td>4</td>\n",
       "      <td>3</td>\n",
       "      <td>1.0</td>\n",
       "      <td>1.0</td>\n",
       "    </tr>\n",
       "    <tr>\n",
       "      <th>2</th>\n",
       "      <td>5002</td>\n",
       "      <td>28</td>\n",
       "      <td>3</td>\n",
       "      <td>6</td>\n",
       "      <td>5</td>\n",
       "      <td>11</td>\n",
       "      <td>17.0</td>\n",
       "      <td>1</td>\n",
       "      <td>60</td>\n",
       "      <td>12.0</td>\n",
       "      <td>7.0</td>\n",
       "      <td>1.0</td>\n",
       "      <td>1.0</td>\n",
       "      <td>2</td>\n",
       "      <td>2</td>\n",
       "      <td>2.0</td>\n",
       "      <td>1.0</td>\n",
       "    </tr>\n",
       "    <tr>\n",
       "      <th>3</th>\n",
       "      <td>11714</td>\n",
       "      <td>7</td>\n",
       "      <td>3</td>\n",
       "      <td>3</td>\n",
       "      <td>18</td>\n",
       "      <td>10</td>\n",
       "      <td>16.0</td>\n",
       "      <td>12</td>\n",
       "      <td>70</td>\n",
       "      <td>6.0</td>\n",
       "      <td>7.0</td>\n",
       "      <td>1.0</td>\n",
       "      <td>1.0</td>\n",
       "      <td>1</td>\n",
       "      <td>3</td>\n",
       "      <td>1.0</td>\n",
       "      <td>1.0</td>\n",
       "    </tr>\n",
       "    <tr>\n",
       "      <th>4</th>\n",
       "      <td>12416</td>\n",
       "      <td>32</td>\n",
       "      <td>3</td>\n",
       "      <td>1</td>\n",
       "      <td>23</td>\n",
       "      <td>11</td>\n",
       "      <td>9.0</td>\n",
       "      <td>13</td>\n",
       "      <td>60</td>\n",
       "      <td>6.0</td>\n",
       "      <td>7.0</td>\n",
       "      <td>1.0</td>\n",
       "      <td>1.0</td>\n",
       "      <td>2</td>\n",
       "      <td>3</td>\n",
       "      <td>1.0</td>\n",
       "      <td>1.0</td>\n",
       "    </tr>\n",
       "  </tbody>\n",
       "</table>\n",
       "</div>"
      ],
      "text/plain": [
       "   Collision_Ref_No  Policing_Area  Collision_Severity  Weekday_of_Collision  \\\n",
       "0              3518             19                   3                     1   \n",
       "1             10557              7                   3                     2   \n",
       "2              5002             28                   3                     6   \n",
       "3             11714              7                   3                     3   \n",
       "4             12416             32                   3                     1   \n",
       "\n",
       "   Day_of_Collision  Month_of_Collision  Hour_of_Collision  Carriageway_Type  \\\n",
       "0                 4                   8               14.0                13   \n",
       "1                 8                   8               17.0                11   \n",
       "2                 5                  11               17.0                 1   \n",
       "3                18                  10               16.0                12   \n",
       "4                23                  11                9.0                13   \n",
       "\n",
       "   Speed_Limit  Junction_Detail  Junction_Control  Ped_Crossing_HC  \\\n",
       "0           60              1.0               1.0              1.0   \n",
       "1           50             12.0               7.0              1.0   \n",
       "2           60             12.0               7.0              1.0   \n",
       "3           70              6.0               7.0              1.0   \n",
       "4           60              6.0               7.0              1.0   \n",
       "\n",
       "   Ped_Crossing_PC  Light_Conditions  Weather_Conditions  \\\n",
       "0              1.0                 2                   9   \n",
       "1              1.0                 4                   3   \n",
       "2              1.0                 2                   2   \n",
       "3              1.0                 1                   3   \n",
       "4              1.0                 2                   3   \n",
       "\n",
       "   Road_Surface_Conditions  Special_Conditions_at_Site  \n",
       "0                      9.0                         1.0  \n",
       "1                      1.0                         1.0  \n",
       "2                      2.0                         1.0  \n",
       "3                      1.0                         1.0  \n",
       "4                      1.0                         1.0  "
      ]
     },
     "execution_count": 38,
     "metadata": {},
     "output_type": "execute_result"
    }
   ],
   "source": [
    "df_clean.head()"
   ]
  },
  {
   "cell_type": "code",
   "execution_count": 39,
   "metadata": {},
   "outputs": [
    {
     "data": {
      "text/plain": [
       "(10043, 17)"
      ]
     },
     "execution_count": 39,
     "metadata": {},
     "output_type": "execute_result"
    }
   ],
   "source": [
    "df_clean.shape"
   ]
  },
  {
   "cell_type": "markdown",
   "metadata": {},
   "source": [
    "<h3>Creating a New Variables</h3>"
   ]
  },
  {
   "cell_type": "markdown",
   "metadata": {},
   "source": [
    "We noticed that the more accidents are happening in the pedistrian zone with no Human or Physical control. So we created a new variables by combining the Ped_Crossing_HC and Ped_Crossing_PC with the severity of collisions"
   ]
  },
  {
   "cell_type": "markdown",
   "metadata": {},
   "source": [
    "1. ped_nocntr_Sev_1: Ped Crossing with no Human or Physical control and severity - 1\n",
    "2. ped_nocntr_Sev_2: Ped Crossing with no Human or Physical control and severity - 2\n",
    "3. ped_nocntr_Sev_3: Ped Crossing with no Human or Physical control and severity - 3"
   ]
  },
  {
   "cell_type": "code",
   "execution_count": 66,
   "metadata": {},
   "outputs": [
    {
     "data": {
      "text/plain": [
       "3    8964\n",
       "2     959\n",
       "1     120\n",
       "Name: Collision_Severity, dtype: int64"
      ]
     },
     "execution_count": 66,
     "metadata": {},
     "output_type": "execute_result"
    }
   ],
   "source": [
    "df_train['Collision_Severity'].value_counts()"
   ]
  },
  {
   "cell_type": "markdown",
   "metadata": {},
   "source": [
    "The Target Class is Unbiased with 8964, 959, 120 collision severity"
   ]
  },
  {
   "cell_type": "code",
   "execution_count": 96,
   "metadata": {},
   "outputs": [],
   "source": [
    "#Collision severity 1 in the no control zone while Pedistrian crossing\n",
    "df_clean[\"ped_nocntr_Sev_1\"] = df_clean['Ped_Crossing_HC'][(df_clean['Ped_Crossing_HC']==1) &\n",
    "                                                   (df_clean['Ped_Crossing_PC']==1) &\n",
    "                                                   \n",
    "                                (df_clean['Collision_Severity'] == 1) ]\n",
    "df_clean[\"ped_nocntr_Sev_1\"] = df_clean.pc_NC_SV.fillna(0)\n",
    "\n",
    "\n",
    "\n",
    "#Collision severity 2 in the no control zone while Pedistrian crossing\n",
    "df_clean[\"ped_nocntr_Sev_2\"] = df_clean['Ped_Crossing_HC'][(df_clean['Ped_Crossing_HC']==1) &\n",
    "                                                   (df_clean['Ped_Crossing_PC']==1) &\n",
    "                                                   \n",
    "                                (df_clean['Collision_Severity'] == 2) ]\n",
    "df_clean[\"ped_nocntr_Sev_2\"] = df_clean.pc_NC_SV.fillna(0)\n",
    "\n",
    "\n",
    "#Collision severity 3 in the no control zone while Pedistrian crossing  \n",
    "df_clean[\"ped_nocntr_Sev_3\"] = df_clean['Ped_Crossing_HC'][(df_clean['Ped_Crossing_HC']==1) &\n",
    "                                                   (df_clean['Ped_Crossing_PC']==1) &\n",
    "                                                   \n",
    "                                (df_clean['Collision_Severity'] == 3) ]\n",
    "df_clean[\"ped_nocntr_Sev_3\"] = df_clean.pc_NC_SV.fillna(0)"
   ]
  },
  {
   "cell_type": "markdown",
   "metadata": {},
   "source": [
    "<b>Pedistrian Crossing zone with Control</b>"
   ]
  },
  {
   "cell_type": "code",
   "execution_count": 97,
   "metadata": {},
   "outputs": [],
   "source": [
    "#Pedestrian crossing zone with Human Control\n",
    "df_clean[\"pedHC_Control\"] = df_clean['Ped_Crossing_HC'][(df_clean['Ped_Crossing_HC']!=1)]\n",
    "df_clean[\"pedHC_Control\"] = df_clean.pedHC_Control.fillna(0)\n",
    "\n",
    "#Pedestrian crossing zone with Physical Control\n",
    "df_clean[\"pedPC_Control\"] = df_clean['Ped_Crossing_PC'][(df_clean['Ped_Crossing_PC']!=1)]\n",
    "df_clean[\"pedPC_Control\"] = df_clean.pedPC_Control.fillna(0)"
   ]
  },
  {
   "cell_type": "markdown",
   "metadata": {},
   "source": [
    "Drop the columns we won't use and create the features and labels array"
   ]
  },
  {
   "cell_type": "code",
   "execution_count": 98,
   "metadata": {},
   "outputs": [
    {
     "name": "stdout",
     "output_type": "stream",
     "text": [
      "[[ 19.   1.   4. ...,   0.   0.   0.]\n",
      " [  7.   2.   8. ...,   0.   0.   0.]\n",
      " [ 28.   6.   5. ...,   0.   0.   0.]\n",
      " ..., \n",
      " [  5.   0.  16. ...,   0.   0.   0.]\n",
      " [  7.   6.  18. ...,   0.   0.   0.]\n",
      " [ 36.   0.  21. ...,   0.   0.   0.]]\n"
     ]
    }
   ],
   "source": [
    "X = df_clean.drop(['Collision_Ref_No', 'Collision_Severity', 'Ped_Crossing_HC', \\\n",
    "                  'Ped_Crossing_PC'], 1)\n",
    "X = np.array(X)\n",
    "print(X)"
   ]
  },
  {
   "cell_type": "code",
   "execution_count": 99,
   "metadata": {},
   "outputs": [
    {
     "name": "stdout",
     "output_type": "stream",
     "text": [
      "[3 3 3 ..., 3 3 3]\n"
     ]
    }
   ],
   "source": [
    "y = df_train['Collision_Severity']\n",
    "y = np.array(y)\n",
    "print(y)"
   ]
  },
  {
   "cell_type": "markdown",
   "metadata": {},
   "source": [
    "<h3>PCA</h3>"
   ]
  },
  {
   "cell_type": "code",
   "execution_count": 104,
   "metadata": {},
   "outputs": [],
   "source": [
    "from sklearn.decomposition import PCA\n",
    "\n",
    "pca_fit = PCA(n_components=10)\n",
    "pca_fit.fit(X)\n",
    "pca_samples = pca_fit.transform(X)"
   ]
  },
  {
   "cell_type": "code",
   "execution_count": 198,
   "metadata": {},
   "outputs": [
    {
     "name": "stdout",
     "output_type": "stream",
     "text": [
      "Original number of features: 19\n",
      "Reduced number of features: 10\n"
     ]
    }
   ],
   "source": [
    "print('Original number of features:', X.shape[1])\n",
    "print('Reduced number of features:', pca_samples.shape[1])"
   ]
  },
  {
   "cell_type": "code",
   "execution_count": 105,
   "metadata": {},
   "outputs": [
    {
     "data": {
      "text/plain": [
       "0.98440319172350788"
      ]
     },
     "execution_count": 105,
     "metadata": {},
     "output_type": "execute_result"
    }
   ],
   "source": [
    "pca_variance = pca_fit.explained_variance_ratio_\n",
    "\n",
    "pca_variance[0:10].sum()"
   ]
  },
  {
   "cell_type": "code",
   "execution_count": 199,
   "metadata": {},
   "outputs": [
    {
     "data": {
      "image/png": "[encoded data removed]",
      "text/plain": [
       "<Figure size 1080x288 with 1 Axes>"
      ]
     },
     "metadata": {},
     "output_type": "display_data"
    }
   ],
   "source": [
    "fig, ax = plt.subplots(figsize=(15, 4))\n",
    "#sns.set(font_scale=1)\n",
    "plt.step(range(pca_samples.shape[1]), pca_fit.explained_variance_ratio_.cumsum(), \\\n",
    "        label='cumulative explained variance')\n",
    "plt.show()"
   ]
  },
  {
   "cell_type": "markdown",
   "metadata": {},
   "source": [
    "98% of variance captured with 10 components"
   ]
  },
  {
   "cell_type": "markdown",
   "metadata": {},
   "source": [
    "<h3>Decission Tree: Training</h3>"
   ]
  },
  {
   "cell_type": "markdown",
   "metadata": {},
   "source": [
    "Importing the module to split the data for training and testing purpose"
   ]
  },
  {
   "cell_type": "code",
   "execution_count": 100,
   "metadata": {},
   "outputs": [],
   "source": [
    "from sklearn import preprocessing\n",
    "from sklearn.cross_validation import train_test_split"
   ]
  },
  {
   "cell_type": "markdown",
   "metadata": {},
   "source": [
    "Seperating the Training and Testing data"
   ]
  },
  {
   "cell_type": "code",
   "execution_count": 173,
   "metadata": {},
   "outputs": [
    {
     "name": "stdout",
     "output_type": "stream",
     "text": [
      "Training Features shape (8034, 10)\n",
      "Testing Features shape (2009, 10)\n",
      "Training Labels shape (8034,)\n",
      "Testing Labels shape (2009,)\n"
     ]
    }
   ],
   "source": [
    "x_train, x_test, y_train, y_test = train_test_split(pca_samples, y, test_size=0.2, \\\n",
    "                                                    random_state=42)\n",
    "\n",
    "print(\"Training Features shape\", x_train.shape)\n",
    "print(\"Testing Features shape\", x_test.shape)\n",
    "print(\"Training Labels shape\", y_train.shape)\n",
    "print(\"Testing Labels shape\", y_test.shape)"
   ]
  },
  {
   "cell_type": "markdown",
   "metadata": {},
   "source": [
    "Creating Decission Tree Object"
   ]
  },
  {
   "cell_type": "code",
   "execution_count": 174,
   "metadata": {},
   "outputs": [],
   "source": [
    "\n",
    "from sklearn.tree import DecisionTreeClassifier\n",
    "\n",
    "\n",
    "clf = DecisionTreeClassifier(criterion='gini', max_depth=10,\\\n",
    "                                            min_samples_split=30)"
   ]
  },
  {
   "cell_type": "markdown",
   "metadata": {},
   "source": [
    "Fit the Training Data and Create the Decission Trees"
   ]
  },
  {
   "cell_type": "code",
   "execution_count": 179,
   "metadata": {},
   "outputs": [
    {
     "name": "stdout",
     "output_type": "stream",
     "text": [
      "Mean Accuracy of Decission_tree 0.8770532603285216\n"
     ]
    }
   ],
   "source": [
    "clf_train = clf.fit(x_train, y_train)\n",
    "\n",
    "clf_score = clf_train.score(x_test, y_test)\n",
    "print(\"Mean Accuracy of Decission_tree {}\".format(clf_score))"
   ]
  },
  {
   "cell_type": "markdown",
   "metadata": {},
   "source": [
    "<h3>Evaluate Model Accuracy</h3>"
   ]
  },
  {
   "cell_type": "code",
   "execution_count": 180,
   "metadata": {},
   "outputs": [
    {
     "name": "stdout",
     "output_type": "stream",
     "text": [
      "[3 3 3 3 3 3 3 3 3 3 3 3 3 3 3 3 3 3 3 3 3 3 3 3 3 3 3 3 3 3 3 3 3 3 3 3 3\n",
      " 3 3 3 3 3 3 3 3 3 2 3 3 3 3 3 3 3 3 3 3 3 3 3 3 3 2 3 3 3 3 3 3 3 3 3 3 3\n",
      " 3 3 3 3 3 3 3 3 3 3 3 3 3 3 3 3 3 3 3 3 3 3 3 3 3 3]\n"
     ]
    }
   ],
   "source": [
    "clf_predict = clf_train.predict(x_test)\n",
    "print(clf_predict[:100])"
   ]
  },
  {
   "cell_type": "code",
   "execution_count": 181,
   "metadata": {},
   "outputs": [
    {
     "name": "stdout",
     "output_type": "stream",
     "text": [
      "Predicting the probability of Model Classifier [ 0.0256144   0.45454545  0.0256144  ...,  0.          0.          0.        ]\n"
     ]
    }
   ],
   "source": [
    "clf_prob = clf_train.predict_proba(x_test)[:,1]\n",
    "print(\"Predicting the probability of Model Classifier\", clf_prob)"
   ]
  },
  {
   "cell_type": "markdown",
   "metadata": {},
   "source": [
    "Get the Model Score by Confusion Matrix"
   ]
  },
  {
   "cell_type": "code",
   "execution_count": 182,
   "metadata": {},
   "outputs": [
    {
     "data": {
      "text/plain": [
       "array([[   0,    2,   18],\n",
       "       [   3,   25,  165],\n",
       "       [   5,   54, 1737]])"
      ]
     },
     "execution_count": 182,
     "metadata": {},
     "output_type": "execute_result"
    }
   ],
   "source": [
    "#Confusion Matrix\n",
    "from sklearn.metrics import confusion_matrix\n",
    "confusion_matrix(y_test, clf_predict, labels=[1, 2, 3])"
   ]
  },
  {
   "cell_type": "markdown",
   "metadata": {},
   "source": [
    "<h3>Precison and Recall</h3>"
   ]
  },
  {
   "cell_type": "markdown",
   "metadata": {},
   "source": [
    "The classification report provides a comprehensive view on how the classifier performs on each class. "
   ]
  },
  {
   "cell_type": "markdown",
   "metadata": {},
   "source": [
    "<img src=\"clf_report.png\" /img width=400>"
   ]
  },
  {
   "cell_type": "code",
   "execution_count": 197,
   "metadata": {},
   "outputs": [
    {
     "name": "stdout",
     "output_type": "stream",
     "text": [
      "             precision    recall  f1-score   support\n",
      "\n",
      "          1       0.00      0.00      0.00         9\n",
      "          2       0.63      0.26      0.36       105\n",
      "          3       0.91      0.98      0.95       890\n",
      "\n",
      "avg / total       0.87      0.90      0.88      1004\n",
      "\n"
     ]
    },
    {
     "name": "stderr",
     "output_type": "stream",
     "text": [
      "/Users/afnity_computer/anaconda3/lib/python3.5/site-packages/sklearn/metrics/classification.py:1135: UndefinedMetricWarning: Precision and F-score are ill-defined and being set to 0.0 in labels with no predicted samples.\n",
      "  'precision', 'predicted', average, warn_for)\n"
     ]
    }
   ],
   "source": [
    "from sklearn.metrics import classification_report\n",
    "\n",
    "report = classification_report(y_test, clf_predict)\n",
    "print(report)"
   ]
  },
  {
   "cell_type": "markdown",
   "metadata": {},
   "source": [
    "With the 87% of Decission tree accuracy, the model is failed to classify the Fatal and Serious collisions. Tuning the parameters, eliminating the zero variance variables or working optimal depth for decission tree might help us increase the model accuracy"
   ]
  },
  {
   "cell_type": "markdown",
   "metadata": {},
   "source": [
    "<b>Random Forest</b>"
   ]
  },
  {
   "cell_type": "code",
   "execution_count": 183,
   "metadata": {},
   "outputs": [
    {
     "name": "stdout",
     "output_type": "stream",
     "text": [
      "0.894972623196\n"
     ]
    }
   ],
   "source": [
    "from sklearn.ensemble import RandomForestClassifier\n",
    "random_forest = RandomForestClassifier(n_estimators=100,\n",
    "                                       criterion='gini', \n",
    "                                n_jobs=-1)\n",
    "clf_train =  random_forest.fit(x_train, y_train)\n",
    "clf_score = clf_train.score(x_test, y_test)\n",
    "print(clf_score)\n",
    "\n"
   ]
  },
  {
   "cell_type": "code",
   "execution_count": 184,
   "metadata": {},
   "outputs": [
    {
     "name": "stdout",
     "output_type": "stream",
     "text": [
      "[3 3 3 3 3 3 3 3 3 3 3 3 3 3 3 3 3 3 3 3 3 3 3 3 3 3 3 3 2 3 3 3 3 3 3 3 3\n",
      " 3 3 3 3 3 3 3 3 3 2 3 3 3 3 3 3 3 3 3 3 3 3 3 3 3 3 3 3 3 3 3 3 2 3 3 3 3\n",
      " 3 3 3 3 3 3 3 3 3 3 3 2 3 3 3 3 3 3 3 3 3 3 3 3 3 3]\n"
     ]
    }
   ],
   "source": [
    "clf_predict = clf_train.predict(x_test)\n",
    "print(clf_predict[:100])"
   ]
  },
  {
   "cell_type": "code",
   "execution_count": 185,
   "metadata": {},
   "outputs": [
    {
     "name": "stdout",
     "output_type": "stream",
     "text": [
      "Predicting the probability of Model Classifier [ 0.29  0.25  0.03 ...,  0.04  0.04  0.16]\n"
     ]
    }
   ],
   "source": [
    "clf_prob = clf_train.predict_proba(x_test)[:,1]\n",
    "print(\"Predicting the probability of Model Classifier\", clf_prob)"
   ]
  },
  {
   "cell_type": "code",
   "execution_count": 186,
   "metadata": {},
   "outputs": [
    {
     "data": {
      "text/plain": [
       "array([[   0,    3,   17],\n",
       "       [   0,   16,  177],\n",
       "       [   1,   13, 1782]])"
      ]
     },
     "execution_count": 186,
     "metadata": {},
     "output_type": "execute_result"
    }
   ],
   "source": [
    "#Confusion Matrix\n",
    "from sklearn.metrics import confusion_matrix\n",
    "confusion_matrix(y_test, clf_predict, labels=[1, 2, 3])"
   ]
  },
  {
   "cell_type": "markdown",
   "metadata": {},
   "source": [
    "<h3>Hyper Parameter Tuning</h3>"
   ]
  },
  {
   "cell_type": "code",
   "execution_count": 187,
   "metadata": {},
   "outputs": [],
   "source": [
    "from sklearn.model_selection import KFold, cross_val_score\n",
    "k_fold = KFold(n_splits=10)\n",
    "for train_indices, test_indices in k_fold.split(pca_samples, y):\n",
    "    x_train, x_test = pca_samples[train_indices], pca_samples[test_indices]\n",
    "    y_train, y_test = y[train_indices], y[test_indices]"
   ]
  },
  {
   "cell_type": "code",
   "execution_count": 188,
   "metadata": {},
   "outputs": [
    {
     "name": "stdout",
     "output_type": "stream",
     "text": [
      "9039\n",
      "1004\n",
      "9039\n",
      "1004\n"
     ]
    }
   ],
   "source": [
    "#shape of training and testing\n",
    "print(len(x_train))\n",
    "print(len(x_test))\n",
    "print(len(y_train))\n",
    "print(len(y_test))"
   ]
  },
  {
   "cell_type": "markdown",
   "metadata": {},
   "source": [
    "<h3>Random Forest After with KFold Split</h3>"
   ]
  },
  {
   "cell_type": "code",
   "execution_count": 189,
   "metadata": {},
   "outputs": [
    {
     "name": "stdout",
     "output_type": "stream",
     "text": [
      "0.888446215139\n"
     ]
    }
   ],
   "source": [
    "from sklearn.ensemble import RandomForestClassifier\n",
    "random_forest = RandomForestClassifier(n_estimators=100,\n",
    "                                       criterion='gini', \n",
    "                                n_jobs=-1)\n",
    "clf_train =  random_forest.fit(x_train, y_train)\n",
    "clf_score = clf_train.score(x_test, y_test)\n",
    "print(clf_score)"
   ]
  },
  {
   "cell_type": "markdown",
   "metadata": {},
   "source": [
    "<h3>Decision Tree with KFold Split</h3>"
   ]
  },
  {
   "cell_type": "code",
   "execution_count": 190,
   "metadata": {},
   "outputs": [
    {
     "name": "stdout",
     "output_type": "stream",
     "text": [
      "Mean Accuracy of Decission_tree 0.8814741035856574\n"
     ]
    }
   ],
   "source": [
    "from sklearn.tree import DecisionTreeClassifier\n",
    "\n",
    "\n",
    "clf = DecisionTreeClassifier(criterion='gini', max_depth=10,\\\n",
    "                                            min_samples_split=30)\n",
    "\n",
    "clf_train = clf.fit(x_train, y_train)\n",
    "\n",
    "clf_score = clf_train.score(x_test, y_test)\n",
    "print(\"Mean Accuracy of Decission_tree {}\".format(clf_score))\n"
   ]
  },
  {
   "cell_type": "markdown",
   "metadata": {},
   "source": [
    "<h3>Support Vector Machine with KFold Split</h3>"
   ]
  },
  {
   "cell_type": "code",
   "execution_count": 191,
   "metadata": {},
   "outputs": [
    {
     "name": "stdout",
     "output_type": "stream",
     "text": [
      "0.884462151394\n"
     ]
    }
   ],
   "source": [
    "from sklearn import svm\n",
    "\n",
    "svm_clf = svm.SVC(C=1.0, kernel='rbf')\n",
    "\n",
    "clf_train =  svm_clf.fit(x_train, y_train)\n",
    "clf_score = clf_train.score(x_test, y_test)\n",
    "print(clf_score)"
   ]
  },
  {
   "cell_type": "markdown",
   "metadata": {},
   "source": [
    "<h3>AdaBoost with KFold Grid Search</h3>"
   ]
  },
  {
   "cell_type": "code",
   "execution_count": 203,
   "metadata": {},
   "outputs": [
    {
     "name": "stdout",
     "output_type": "stream",
     "text": [
      "{'max_depth': 3}\n"
     ]
    }
   ],
   "source": [
    "parameters = {'max_depth': [3, 10, None]}\n",
    "\n",
    "decision_tree = DecisionTreeClassifier(criterion='gini', min_samples_split=30)\n",
    "\n",
    "\n",
    "from sklearn.model_selection import GridSearchCV\n",
    "grid_search = GridSearchCV(decision_tree, parameters, n_jobs=-1, cv=3)\n",
    "grid_search = grid_search.fit(x_train, y_train)\n",
    "\n",
    "print(grid_search.best_params_)\n"
   ]
  },
  {
   "cell_type": "code",
   "execution_count": 207,
   "metadata": {},
   "outputs": [
    {
     "name": "stdout",
     "output_type": "stream",
     "text": [
      "0.885458167331\n"
     ]
    }
   ],
   "source": [
    "from  sklearn.ensemble import AdaBoostClassifier\n",
    "clf_adaboost = AdaBoostClassifier(DecisionTreeClassifier(max_depth=3, min_samples_split=30), \n",
    "                                 n_estimators=600,\n",
    "                                 learning_rate=0.5,\n",
    "                                 algorithm='SAMME')\n",
    "\n",
    "clf_train =  clf_adaboost.fit(x_train, y_train)\n",
    "clf_score = clf_train.score(x_test, y_test)\n",
    "print(clf_score)"
   ]
  },
  {
   "cell_type": "code",
   "execution_count": 208,
   "metadata": {},
   "outputs": [
    {
     "name": "stdout",
     "output_type": "stream",
     "text": [
      "[3 3 3 3 3 3 3 3 3 3 3 3 3 3 3 3 3 3 3 3 3 3 3 3 3 3 3 2 3 3 3 3 3 3 3 3 3\n",
      " 3 3 3 3 3 2 3 3 3 2 3 3 3 3 3 3 3 3 3 3 3 3 3 3 3 3 3 3 3 3 3 3 3 3 3 3 3\n",
      " 3 3 3 3 3 3 3 3 3 3 3 3 3 3 3 3 3 3 3 3 3 3 3 3 3 3]\n"
     ]
    }
   ],
   "source": [
    "clf_predict = clf_train.predict(x_test)\n",
    "print(clf_predict[:100])"
   ]
  },
  {
   "cell_type": "code",
   "execution_count": 209,
   "metadata": {},
   "outputs": [
    {
     "name": "stdout",
     "output_type": "stream",
     "text": [
      "Predicting the probability of Model Classifier [ 0.33497097  0.3419943   0.33588716 ...,  0.33964397  0.33911732\n",
      "  0.32986998]\n"
     ]
    }
   ],
   "source": [
    "clf_prob = clf_train.predict_proba(x_test)[:,1]\n",
    "print(\"Predicting the probability of Model Classifier\", clf_prob)"
   ]
  },
  {
   "cell_type": "code",
   "execution_count": 210,
   "metadata": {},
   "outputs": [
    {
     "data": {
      "text/plain": [
       "array([[  0,   2,   7],\n",
       "       [  0,  15,  90],\n",
       "       [  0,  16, 874]])"
      ]
     },
     "execution_count": 210,
     "metadata": {},
     "output_type": "execute_result"
    }
   ],
   "source": [
    "#Confusion Matrix\n",
    "from sklearn.metrics import confusion_matrix\n",
    "confusion_matrix(y_test, clf_predict, labels=[1, 2, 3])"
   ]
  }
 ],
 "metadata": {
  "kernelspec": {
   "display_name": "Python 3",
   "language": "python",
   "name": "python3"
  },
  "language_info": {
   "codemirror_mode": {
    "name": "ipython",
    "version": 3
   },
   "file_extension": ".py",
   "mimetype": "text/x-python",
   "name": "python",
   "nbconvert_exporter": "python",
   "pygments_lexer": "ipython3",
   "version": "3.5.4"
  }
 },
 "nbformat": 4,
 "nbformat_minor": 2
}
