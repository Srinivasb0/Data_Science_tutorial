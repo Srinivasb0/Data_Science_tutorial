{
 "cells": [
  {
   "cell_type": "markdown",
   "metadata": {},
   "source": [
    "<h2>Data Ssientist Job Market Analysis In India</h2>"
   ]
  },
  {
   "cell_type": "code",
   "execution_count": 2,
   "metadata": {},
   "outputs": [],
   "source": [
    "import requests\n",
    "import bs4\n",
    "from bs4 import BeautifulSoup"
   ]
  },
  {
   "cell_type": "code",
   "execution_count": 3,
   "metadata": {},
   "outputs": [],
   "source": [
    "from time import sleep"
   ]
  },
  {
   "cell_type": "code",
   "execution_count": 4,
   "metadata": {},
   "outputs": [],
   "source": [
    "import pandas as pd\n",
    "import numpy as np"
   ]
  },
  {
   "cell_type": "code",
   "execution_count": 24,
   "metadata": {},
   "outputs": [],
   "source": [
    "\n",
    "indeed_cities = ['San+Francisco', 'California', 'San+Diego', 'Sunnyvale' \\\n",
    "                'Mountain+View', 'San+Jose', 'Los+Angeles', 'Palo+Alto', \\\n",
    "                'Redwood+City', 'Menlo+Park', 'Santa+Clara', 'South+San+Francisco', \\\n",
    "                'El+Segundo', 'Santa+Clara+Valley', 'Irvine']"
   ]
  },
  {
   "cell_type": "code",
   "execution_count": 25,
   "metadata": {},
   "outputs": [
    {
     "name": "stdout",
     "output_type": "stream",
     "text": [
      "https://www.indeed.com/jobs?q=Data+Scientist&l=San+Francisco&limit=50&radius=25&start=0\n",
      "https://www.indeed.com/jobs?q=Data+Scientist&l=San+Francisco&limit=50&radius=25&start=50\n",
      "https://www.indeed.com/jobs?q=Data+Scientist&l=San+Francisco&limit=50&radius=25&start=100\n",
      "https://www.indeed.com/jobs?q=Data+Scientist&l=San+Francisco&limit=50&radius=25&start=150\n",
      "https://www.indeed.com/jobs?q=Data+Scientist&l=San+Francisco&limit=50&radius=25&start=200\n",
      "https://www.indeed.com/jobs?q=Data+Scientist&l=San+Francisco&limit=50&radius=25&start=250\n",
      "https://www.indeed.com/jobs?q=Data+Scientist&l=San+Francisco&limit=50&radius=25&start=300\n",
      "https://www.indeed.com/jobs?q=Data+Scientist&l=San+Francisco&limit=50&radius=25&start=350\n",
      "https://www.indeed.com/jobs?q=Data+Scientist&l=San+Francisco&limit=50&radius=25&start=400\n",
      "https://www.indeed.com/jobs?q=Data+Scientist&l=San+Francisco&limit=50&radius=25&start=450\n",
      "https://www.indeed.com/jobs?q=Data+Scientist&l=San+Francisco&limit=50&radius=25&start=500\n",
      "https://www.indeed.com/jobs?q=Data+Scientist&l=San+Francisco&limit=50&radius=25&start=550\n",
      "https://www.indeed.com/jobs?q=Data+Scientist&l=San+Francisco&limit=50&radius=25&start=600\n",
      "https://www.indeed.com/jobs?q=Data+Scientist&l=San+Francisco&limit=50&radius=25&start=650\n",
      "https://www.indeed.com/jobs?q=Data+Scientist&l=San+Francisco&limit=50&radius=25&start=700\n",
      "https://www.indeed.com/jobs?q=Data+Scientist&l=San+Francisco&limit=50&radius=25&start=750\n",
      "https://www.indeed.com/jobs?q=Data+Scientist&l=San+Francisco&limit=50&radius=25&start=800\n",
      "https://www.indeed.com/jobs?q=Data+Scientist&l=San+Francisco&limit=50&radius=25&start=850\n",
      "https://www.indeed.com/jobs?q=Data+Scientist&l=San+Francisco&limit=50&radius=25&start=900\n",
      "https://www.indeed.com/jobs?q=Data+Scientist&l=San+Francisco&limit=50&radius=25&start=950\n",
      "https://www.indeed.com/jobs?q=Data+Scientist&l=San+Francisco&limit=50&radius=25&start=1000\n",
      "https://www.indeed.com/jobs?q=Data+Scientist&l=San+Francisco&limit=50&radius=25&start=1050\n",
      "https://www.indeed.com/jobs?q=Data+Scientist&l=San+Francisco&limit=50&radius=25&start=1100\n",
      "https://www.indeed.com/jobs?q=Data+Scientist&l=San+Francisco&limit=50&radius=25&start=1150\n",
      "https://www.indeed.com/jobs?q=Data+Scientist&l=San+Francisco&limit=50&radius=25&start=1200\n",
      "https://www.indeed.com/jobs?q=Data+Scientist&l=San+Francisco&limit=50&radius=25&start=1250\n",
      "https://www.indeed.com/jobs?q=Data+Scientist&l=San+Francisco&limit=50&radius=25&start=1300\n",
      "https://www.indeed.com/jobs?q=Data+Scientist&l=San+Francisco&limit=50&radius=25&start=1350\n",
      "https://www.indeed.com/jobs?q=Data+Scientist&l=San+Francisco&limit=50&radius=25&start=1400\n",
      "https://www.indeed.com/jobs?q=Data+Scientist&l=San+Francisco&limit=50&radius=25&start=1450\n",
      "https://www.indeed.com/jobs?q=Data+Scientist&l=San+Francisco&limit=50&radius=25&start=1500\n",
      "https://www.indeed.com/jobs?q=Data+Scientist&l=San+Francisco&limit=50&radius=25&start=1550\n",
      "https://www.indeed.com/jobs?q=Data+Scientist&l=San+Francisco&limit=50&radius=25&start=1600\n",
      "https://www.indeed.com/jobs?q=Data+Scientist&l=San+Francisco&limit=50&radius=25&start=1650\n",
      "https://www.indeed.com/jobs?q=Data+Scientist&l=San+Francisco&limit=50&radius=25&start=1700\n",
      "https://www.indeed.com/jobs?q=Data+Scientist&l=San+Francisco&limit=50&radius=25&start=1750\n",
      "https://www.indeed.com/jobs?q=Data+Scientist&l=San+Francisco&limit=50&radius=25&start=1800\n",
      "https://www.indeed.com/jobs?q=Data+Scientist&l=San+Francisco&limit=50&radius=25&start=1850\n",
      "https://www.indeed.com/jobs?q=Data+Scientist&l=San+Francisco&limit=50&radius=25&start=1900\n",
      "https://www.indeed.com/jobs?q=Data+Scientist&l=San+Francisco&limit=50&radius=25&start=1950\n",
      "https://www.indeed.com/jobs?q=Data+Scientist&l=California&limit=50&radius=25&start=0\n",
      "https://www.indeed.com/jobs?q=Data+Scientist&l=California&limit=50&radius=25&start=50\n",
      "https://www.indeed.com/jobs?q=Data+Scientist&l=California&limit=50&radius=25&start=100\n",
      "https://www.indeed.com/jobs?q=Data+Scientist&l=California&limit=50&radius=25&start=150\n",
      "https://www.indeed.com/jobs?q=Data+Scientist&l=California&limit=50&radius=25&start=200\n",
      "https://www.indeed.com/jobs?q=Data+Scientist&l=California&limit=50&radius=25&start=250\n",
      "https://www.indeed.com/jobs?q=Data+Scientist&l=California&limit=50&radius=25&start=300\n",
      "https://www.indeed.com/jobs?q=Data+Scientist&l=California&limit=50&radius=25&start=350\n",
      "https://www.indeed.com/jobs?q=Data+Scientist&l=California&limit=50&radius=25&start=400\n",
      "https://www.indeed.com/jobs?q=Data+Scientist&l=California&limit=50&radius=25&start=450\n",
      "https://www.indeed.com/jobs?q=Data+Scientist&l=California&limit=50&radius=25&start=500\n",
      "https://www.indeed.com/jobs?q=Data+Scientist&l=California&limit=50&radius=25&start=550\n",
      "https://www.indeed.com/jobs?q=Data+Scientist&l=California&limit=50&radius=25&start=600\n",
      "https://www.indeed.com/jobs?q=Data+Scientist&l=California&limit=50&radius=25&start=650\n",
      "https://www.indeed.com/jobs?q=Data+Scientist&l=California&limit=50&radius=25&start=700\n",
      "https://www.indeed.com/jobs?q=Data+Scientist&l=California&limit=50&radius=25&start=750\n",
      "https://www.indeed.com/jobs?q=Data+Scientist&l=California&limit=50&radius=25&start=800\n",
      "https://www.indeed.com/jobs?q=Data+Scientist&l=California&limit=50&radius=25&start=850\n",
      "https://www.indeed.com/jobs?q=Data+Scientist&l=California&limit=50&radius=25&start=900\n",
      "https://www.indeed.com/jobs?q=Data+Scientist&l=California&limit=50&radius=25&start=950\n",
      "https://www.indeed.com/jobs?q=Data+Scientist&l=California&limit=50&radius=25&start=1000\n",
      "https://www.indeed.com/jobs?q=Data+Scientist&l=California&limit=50&radius=25&start=1050\n",
      "https://www.indeed.com/jobs?q=Data+Scientist&l=California&limit=50&radius=25&start=1100\n",
      "https://www.indeed.com/jobs?q=Data+Scientist&l=California&limit=50&radius=25&start=1150\n",
      "https://www.indeed.com/jobs?q=Data+Scientist&l=California&limit=50&radius=25&start=1200\n",
      "https://www.indeed.com/jobs?q=Data+Scientist&l=California&limit=50&radius=25&start=1250\n",
      "https://www.indeed.com/jobs?q=Data+Scientist&l=California&limit=50&radius=25&start=1300\n",
      "https://www.indeed.com/jobs?q=Data+Scientist&l=California&limit=50&radius=25&start=1350\n",
      "https://www.indeed.com/jobs?q=Data+Scientist&l=California&limit=50&radius=25&start=1400\n",
      "https://www.indeed.com/jobs?q=Data+Scientist&l=California&limit=50&radius=25&start=1450\n",
      "https://www.indeed.com/jobs?q=Data+Scientist&l=California&limit=50&radius=25&start=1500\n",
      "https://www.indeed.com/jobs?q=Data+Scientist&l=California&limit=50&radius=25&start=1550\n",
      "https://www.indeed.com/jobs?q=Data+Scientist&l=California&limit=50&radius=25&start=1600\n",
      "https://www.indeed.com/jobs?q=Data+Scientist&l=California&limit=50&radius=25&start=1650\n",
      "https://www.indeed.com/jobs?q=Data+Scientist&l=California&limit=50&radius=25&start=1700\n",
      "https://www.indeed.com/jobs?q=Data+Scientist&l=California&limit=50&radius=25&start=1750\n",
      "https://www.indeed.com/jobs?q=Data+Scientist&l=California&limit=50&radius=25&start=1800\n",
      "https://www.indeed.com/jobs?q=Data+Scientist&l=California&limit=50&radius=25&start=1850\n",
      "https://www.indeed.com/jobs?q=Data+Scientist&l=California&limit=50&radius=25&start=1900\n",
      "https://www.indeed.com/jobs?q=Data+Scientist&l=California&limit=50&radius=25&start=1950\n",
      "https://www.indeed.com/jobs?q=Data+Scientist&l=San+Diego&limit=50&radius=25&start=0\n",
      "https://www.indeed.com/jobs?q=Data+Scientist&l=San+Diego&limit=50&radius=25&start=50\n",
      "https://www.indeed.com/jobs?q=Data+Scientist&l=San+Diego&limit=50&radius=25&start=100\n",
      "https://www.indeed.com/jobs?q=Data+Scientist&l=San+Diego&limit=50&radius=25&start=150\n",
      "https://www.indeed.com/jobs?q=Data+Scientist&l=San+Diego&limit=50&radius=25&start=200\n",
      "https://www.indeed.com/jobs?q=Data+Scientist&l=San+Diego&limit=50&radius=25&start=250\n",
      "https://www.indeed.com/jobs?q=Data+Scientist&l=San+Diego&limit=50&radius=25&start=300\n",
      "https://www.indeed.com/jobs?q=Data+Scientist&l=San+Diego&limit=50&radius=25&start=350\n",
      "https://www.indeed.com/jobs?q=Data+Scientist&l=San+Diego&limit=50&radius=25&start=400\n",
      "https://www.indeed.com/jobs?q=Data+Scientist&l=San+Diego&limit=50&radius=25&start=450\n",
      "https://www.indeed.com/jobs?q=Data+Scientist&l=San+Diego&limit=50&radius=25&start=500\n",
      "https://www.indeed.com/jobs?q=Data+Scientist&l=San+Diego&limit=50&radius=25&start=550\n",
      "https://www.indeed.com/jobs?q=Data+Scientist&l=San+Diego&limit=50&radius=25&start=600\n"
     ]
    },
    {
     "name": "stdout",
     "output_type": "stream",
     "text": [
      "https://www.indeed.com/jobs?q=Data+Scientist&l=San+Diego&limit=50&radius=25&start=650\n",
      "https://www.indeed.com/jobs?q=Data+Scientist&l=San+Diego&limit=50&radius=25&start=700\n",
      "https://www.indeed.com/jobs?q=Data+Scientist&l=San+Diego&limit=50&radius=25&start=750\n",
      "https://www.indeed.com/jobs?q=Data+Scientist&l=San+Diego&limit=50&radius=25&start=800\n",
      "https://www.indeed.com/jobs?q=Data+Scientist&l=San+Diego&limit=50&radius=25&start=850\n",
      "https://www.indeed.com/jobs?q=Data+Scientist&l=San+Diego&limit=50&radius=25&start=900\n",
      "https://www.indeed.com/jobs?q=Data+Scientist&l=San+Diego&limit=50&radius=25&start=950\n",
      "https://www.indeed.com/jobs?q=Data+Scientist&l=San+Diego&limit=50&radius=25&start=1000\n",
      "https://www.indeed.com/jobs?q=Data+Scientist&l=San+Diego&limit=50&radius=25&start=1050\n",
      "https://www.indeed.com/jobs?q=Data+Scientist&l=San+Diego&limit=50&radius=25&start=1100\n",
      "https://www.indeed.com/jobs?q=Data+Scientist&l=San+Diego&limit=50&radius=25&start=1150\n",
      "https://www.indeed.com/jobs?q=Data+Scientist&l=San+Diego&limit=50&radius=25&start=1200\n",
      "https://www.indeed.com/jobs?q=Data+Scientist&l=San+Diego&limit=50&radius=25&start=1250\n",
      "https://www.indeed.com/jobs?q=Data+Scientist&l=San+Diego&limit=50&radius=25&start=1300\n",
      "https://www.indeed.com/jobs?q=Data+Scientist&l=San+Diego&limit=50&radius=25&start=1350\n",
      "https://www.indeed.com/jobs?q=Data+Scientist&l=San+Diego&limit=50&radius=25&start=1400\n",
      "https://www.indeed.com/jobs?q=Data+Scientist&l=San+Diego&limit=50&radius=25&start=1450\n",
      "https://www.indeed.com/jobs?q=Data+Scientist&l=San+Diego&limit=50&radius=25&start=1500\n",
      "https://www.indeed.com/jobs?q=Data+Scientist&l=San+Diego&limit=50&radius=25&start=1550\n",
      "https://www.indeed.com/jobs?q=Data+Scientist&l=San+Diego&limit=50&radius=25&start=1600\n",
      "https://www.indeed.com/jobs?q=Data+Scientist&l=San+Diego&limit=50&radius=25&start=1650\n",
      "https://www.indeed.com/jobs?q=Data+Scientist&l=San+Diego&limit=50&radius=25&start=1700\n",
      "https://www.indeed.com/jobs?q=Data+Scientist&l=San+Diego&limit=50&radius=25&start=1750\n",
      "https://www.indeed.com/jobs?q=Data+Scientist&l=San+Diego&limit=50&radius=25&start=1800\n",
      "https://www.indeed.com/jobs?q=Data+Scientist&l=San+Diego&limit=50&radius=25&start=1850\n",
      "https://www.indeed.com/jobs?q=Data+Scientist&l=San+Diego&limit=50&radius=25&start=1900\n",
      "https://www.indeed.com/jobs?q=Data+Scientist&l=San+Diego&limit=50&radius=25&start=1950\n",
      "https://www.indeed.com/jobs?q=Data+Scientist&l=SunnyvaleMountain+View&limit=50&radius=25&start=0\n",
      "https://www.indeed.com/jobs?q=Data+Scientist&l=SunnyvaleMountain+View&limit=50&radius=25&start=50\n",
      "https://www.indeed.com/jobs?q=Data+Scientist&l=SunnyvaleMountain+View&limit=50&radius=25&start=100\n",
      "https://www.indeed.com/jobs?q=Data+Scientist&l=SunnyvaleMountain+View&limit=50&radius=25&start=150\n",
      "https://www.indeed.com/jobs?q=Data+Scientist&l=SunnyvaleMountain+View&limit=50&radius=25&start=200\n",
      "https://www.indeed.com/jobs?q=Data+Scientist&l=SunnyvaleMountain+View&limit=50&radius=25&start=250\n",
      "https://www.indeed.com/jobs?q=Data+Scientist&l=SunnyvaleMountain+View&limit=50&radius=25&start=300\n",
      "https://www.indeed.com/jobs?q=Data+Scientist&l=SunnyvaleMountain+View&limit=50&radius=25&start=350\n",
      "https://www.indeed.com/jobs?q=Data+Scientist&l=SunnyvaleMountain+View&limit=50&radius=25&start=400\n",
      "https://www.indeed.com/jobs?q=Data+Scientist&l=SunnyvaleMountain+View&limit=50&radius=25&start=450\n",
      "https://www.indeed.com/jobs?q=Data+Scientist&l=SunnyvaleMountain+View&limit=50&radius=25&start=500\n",
      "https://www.indeed.com/jobs?q=Data+Scientist&l=SunnyvaleMountain+View&limit=50&radius=25&start=550\n",
      "https://www.indeed.com/jobs?q=Data+Scientist&l=SunnyvaleMountain+View&limit=50&radius=25&start=600\n",
      "https://www.indeed.com/jobs?q=Data+Scientist&l=SunnyvaleMountain+View&limit=50&radius=25&start=650\n",
      "https://www.indeed.com/jobs?q=Data+Scientist&l=SunnyvaleMountain+View&limit=50&radius=25&start=700\n",
      "https://www.indeed.com/jobs?q=Data+Scientist&l=SunnyvaleMountain+View&limit=50&radius=25&start=750\n",
      "https://www.indeed.com/jobs?q=Data+Scientist&l=SunnyvaleMountain+View&limit=50&radius=25&start=800\n",
      "https://www.indeed.com/jobs?q=Data+Scientist&l=SunnyvaleMountain+View&limit=50&radius=25&start=850\n",
      "https://www.indeed.com/jobs?q=Data+Scientist&l=SunnyvaleMountain+View&limit=50&radius=25&start=900\n",
      "https://www.indeed.com/jobs?q=Data+Scientist&l=SunnyvaleMountain+View&limit=50&radius=25&start=950\n",
      "https://www.indeed.com/jobs?q=Data+Scientist&l=SunnyvaleMountain+View&limit=50&radius=25&start=1000\n",
      "https://www.indeed.com/jobs?q=Data+Scientist&l=SunnyvaleMountain+View&limit=50&radius=25&start=1050\n",
      "https://www.indeed.com/jobs?q=Data+Scientist&l=SunnyvaleMountain+View&limit=50&radius=25&start=1100\n",
      "https://www.indeed.com/jobs?q=Data+Scientist&l=SunnyvaleMountain+View&limit=50&radius=25&start=1150\n",
      "https://www.indeed.com/jobs?q=Data+Scientist&l=SunnyvaleMountain+View&limit=50&radius=25&start=1200\n",
      "https://www.indeed.com/jobs?q=Data+Scientist&l=SunnyvaleMountain+View&limit=50&radius=25&start=1250\n",
      "https://www.indeed.com/jobs?q=Data+Scientist&l=SunnyvaleMountain+View&limit=50&radius=25&start=1300\n",
      "https://www.indeed.com/jobs?q=Data+Scientist&l=SunnyvaleMountain+View&limit=50&radius=25&start=1350\n",
      "https://www.indeed.com/jobs?q=Data+Scientist&l=SunnyvaleMountain+View&limit=50&radius=25&start=1400\n",
      "https://www.indeed.com/jobs?q=Data+Scientist&l=SunnyvaleMountain+View&limit=50&radius=25&start=1450\n",
      "https://www.indeed.com/jobs?q=Data+Scientist&l=SunnyvaleMountain+View&limit=50&radius=25&start=1500\n",
      "https://www.indeed.com/jobs?q=Data+Scientist&l=SunnyvaleMountain+View&limit=50&radius=25&start=1550\n",
      "https://www.indeed.com/jobs?q=Data+Scientist&l=SunnyvaleMountain+View&limit=50&radius=25&start=1600\n",
      "https://www.indeed.com/jobs?q=Data+Scientist&l=SunnyvaleMountain+View&limit=50&radius=25&start=1650\n",
      "https://www.indeed.com/jobs?q=Data+Scientist&l=SunnyvaleMountain+View&limit=50&radius=25&start=1700\n",
      "https://www.indeed.com/jobs?q=Data+Scientist&l=SunnyvaleMountain+View&limit=50&radius=25&start=1750\n",
      "https://www.indeed.com/jobs?q=Data+Scientist&l=SunnyvaleMountain+View&limit=50&radius=25&start=1800\n",
      "https://www.indeed.com/jobs?q=Data+Scientist&l=SunnyvaleMountain+View&limit=50&radius=25&start=1850\n",
      "https://www.indeed.com/jobs?q=Data+Scientist&l=SunnyvaleMountain+View&limit=50&radius=25&start=1900\n",
      "https://www.indeed.com/jobs?q=Data+Scientist&l=SunnyvaleMountain+View&limit=50&radius=25&start=1950\n",
      "https://www.indeed.com/jobs?q=Data+Scientist&l=San+Jose&limit=50&radius=25&start=0\n",
      "https://www.indeed.com/jobs?q=Data+Scientist&l=San+Jose&limit=50&radius=25&start=50\n",
      "https://www.indeed.com/jobs?q=Data+Scientist&l=San+Jose&limit=50&radius=25&start=100\n",
      "https://www.indeed.com/jobs?q=Data+Scientist&l=San+Jose&limit=50&radius=25&start=150\n",
      "https://www.indeed.com/jobs?q=Data+Scientist&l=San+Jose&limit=50&radius=25&start=200\n",
      "https://www.indeed.com/jobs?q=Data+Scientist&l=San+Jose&limit=50&radius=25&start=250\n",
      "https://www.indeed.com/jobs?q=Data+Scientist&l=San+Jose&limit=50&radius=25&start=300\n",
      "https://www.indeed.com/jobs?q=Data+Scientist&l=San+Jose&limit=50&radius=25&start=350\n",
      "https://www.indeed.com/jobs?q=Data+Scientist&l=San+Jose&limit=50&radius=25&start=400\n",
      "https://www.indeed.com/jobs?q=Data+Scientist&l=San+Jose&limit=50&radius=25&start=450\n",
      "https://www.indeed.com/jobs?q=Data+Scientist&l=San+Jose&limit=50&radius=25&start=500\n",
      "https://www.indeed.com/jobs?q=Data+Scientist&l=San+Jose&limit=50&radius=25&start=550\n",
      "https://www.indeed.com/jobs?q=Data+Scientist&l=San+Jose&limit=50&radius=25&start=600\n",
      "https://www.indeed.com/jobs?q=Data+Scientist&l=San+Jose&limit=50&radius=25&start=650\n",
      "https://www.indeed.com/jobs?q=Data+Scientist&l=San+Jose&limit=50&radius=25&start=700\n",
      "https://www.indeed.com/jobs?q=Data+Scientist&l=San+Jose&limit=50&radius=25&start=750\n",
      "https://www.indeed.com/jobs?q=Data+Scientist&l=San+Jose&limit=50&radius=25&start=800\n",
      "https://www.indeed.com/jobs?q=Data+Scientist&l=San+Jose&limit=50&radius=25&start=850\n",
      "https://www.indeed.com/jobs?q=Data+Scientist&l=San+Jose&limit=50&radius=25&start=900\n",
      "https://www.indeed.com/jobs?q=Data+Scientist&l=San+Jose&limit=50&radius=25&start=950\n",
      "https://www.indeed.com/jobs?q=Data+Scientist&l=San+Jose&limit=50&radius=25&start=1000\n",
      "https://www.indeed.com/jobs?q=Data+Scientist&l=San+Jose&limit=50&radius=25&start=1050\n",
      "https://www.indeed.com/jobs?q=Data+Scientist&l=San+Jose&limit=50&radius=25&start=1100\n"
     ]
    },
    {
     "name": "stdout",
     "output_type": "stream",
     "text": [
      "https://www.indeed.com/jobs?q=Data+Scientist&l=San+Jose&limit=50&radius=25&start=1150\n",
      "https://www.indeed.com/jobs?q=Data+Scientist&l=San+Jose&limit=50&radius=25&start=1200\n",
      "https://www.indeed.com/jobs?q=Data+Scientist&l=San+Jose&limit=50&radius=25&start=1250\n",
      "https://www.indeed.com/jobs?q=Data+Scientist&l=San+Jose&limit=50&radius=25&start=1300\n",
      "https://www.indeed.com/jobs?q=Data+Scientist&l=San+Jose&limit=50&radius=25&start=1350\n",
      "https://www.indeed.com/jobs?q=Data+Scientist&l=San+Jose&limit=50&radius=25&start=1400\n",
      "https://www.indeed.com/jobs?q=Data+Scientist&l=San+Jose&limit=50&radius=25&start=1450\n",
      "https://www.indeed.com/jobs?q=Data+Scientist&l=San+Jose&limit=50&radius=25&start=1500\n",
      "https://www.indeed.com/jobs?q=Data+Scientist&l=San+Jose&limit=50&radius=25&start=1550\n",
      "https://www.indeed.com/jobs?q=Data+Scientist&l=San+Jose&limit=50&radius=25&start=1600\n",
      "https://www.indeed.com/jobs?q=Data+Scientist&l=San+Jose&limit=50&radius=25&start=1650\n",
      "https://www.indeed.com/jobs?q=Data+Scientist&l=San+Jose&limit=50&radius=25&start=1700\n",
      "https://www.indeed.com/jobs?q=Data+Scientist&l=San+Jose&limit=50&radius=25&start=1750\n",
      "https://www.indeed.com/jobs?q=Data+Scientist&l=San+Jose&limit=50&radius=25&start=1800\n",
      "https://www.indeed.com/jobs?q=Data+Scientist&l=San+Jose&limit=50&radius=25&start=1850\n",
      "https://www.indeed.com/jobs?q=Data+Scientist&l=San+Jose&limit=50&radius=25&start=1900\n",
      "https://www.indeed.com/jobs?q=Data+Scientist&l=San+Jose&limit=50&radius=25&start=1950\n",
      "[1, 1, 1, 1, 1, 1, 1, 1, 1, 1, 1, 1, 1, 1, 1]\n"
     ]
    }
   ],
   "source": [
    "max_results_per_city = 2000\n",
    "\n",
    "results = []\n",
    "\n",
    "\n",
    "\n",
    "for city in indeed_cities:\n",
    "    for start in range(0, max_results_per_city, 50):\n",
    "        #for .in extraction\n",
    "        #url = \"https://www.indeed.co.in/jobs?q=Data+Scientist&l=\" + city + \"&limit=50&radius=25&start=\" + str(start)\n",
    "        #for .com extraction\n",
    "        url = \"https://www.indeed.com/jobs?q=Data+Scientist&l=\" + city + \"&limit=50&radius=25&start=\" + str(start)\n",
    "        print(url)\n",
    "        html = requests.get(url)\n",
    "        soup = BeautifulSoup(html.text, 'html.parser')\n",
    "        for result in soup.find_all('div', {'class':' row result'}):\n",
    "            results.append(result)\n",
    "        sleep(1)\n",
    "print(url_count)"
   ]
  },
  {
   "cell_type": "code",
   "execution_count": 39,
   "metadata": {},
   "outputs": [],
   "source": [
    "def get_loc(result):\n",
    "    try:\n",
    "        return result.find('span', {'class': 'location'}).text\n",
    "    except:\n",
    "        return np.nan"
   ]
  },
  {
   "cell_type": "code",
   "execution_count": 40,
   "metadata": {},
   "outputs": [],
   "source": [
    "def get_comp(result):\n",
    "    try:\n",
    "        return result.find('span', {'class': 'company'}).text\n",
    "    except:\n",
    "        return np.nan"
   ]
  },
  {
   "cell_type": "code",
   "execution_count": 41,
   "metadata": {},
   "outputs": [],
   "source": [
    "def get_job(result):\n",
    "    try:\n",
    "        return result.find('a', {'data-tn-element': 'jobTitle' }).text\n",
    "    except:\n",
    "        return np.nan"
   ]
  },
  {
   "cell_type": "code",
   "execution_count": 42,
   "metadata": {},
   "outputs": [],
   "source": [
    "def get_sal(result):\n",
    "    try:\n",
    "        return result.find('span', {'class': 'no-wrap'}).text\n",
    "    except:\n",
    "        return np.nan"
   ]
  },
  {
   "cell_type": "code",
   "execution_count": 43,
   "metadata": {},
   "outputs": [],
   "source": [
    "def get_desc(result):\n",
    "    try:\n",
    "        return result.find('span', {'class': 'summary'}).text\n",
    "    except:\n",
    "        return np.nan"
   ]
  },
  {
   "cell_type": "code",
   "execution_count": 44,
   "metadata": {},
   "outputs": [],
   "source": [
    "jobs0 = pd.DataFrame(columns=['location', 'title', 'company', 'salary', 'summary'])"
   ]
  },
  {
   "cell_type": "code",
   "execution_count": 45,
   "metadata": {},
   "outputs": [
    {
     "data": {
      "text/html": [
       "<div>\n",
       "<style scoped>\n",
       "    .dataframe tbody tr th:only-of-type {\n",
       "        vertical-align: middle;\n",
       "    }\n",
       "\n",
       "    .dataframe tbody tr th {\n",
       "        vertical-align: top;\n",
       "    }\n",
       "\n",
       "    .dataframe thead th {\n",
       "        text-align: right;\n",
       "    }\n",
       "</style>\n",
       "<table border=\"1\" class=\"dataframe\">\n",
       "  <thead>\n",
       "    <tr style=\"text-align: right;\">\n",
       "      <th></th>\n",
       "      <th>location</th>\n",
       "      <th>title</th>\n",
       "      <th>company</th>\n",
       "      <th>salary</th>\n",
       "      <th>summary</th>\n",
       "    </tr>\n",
       "  </thead>\n",
       "  <tbody>\n",
       "    <tr>\n",
       "      <th>0</th>\n",
       "      <td>San Francisco, CA 94111 (Financial District area)</td>\n",
       "      <td>Data Scientist</td>\n",
       "      <td>\\n\\n    BAIN &amp; COMPANY</td>\n",
       "      <td>NaN</td>\n",
       "      <td>\\n            Experience with explaining and a...</td>\n",
       "    </tr>\n",
       "    <tr>\n",
       "      <th>1</th>\n",
       "      <td>San Francisco, CA</td>\n",
       "      <td>Data Scientist - San Francisco, CA</td>\n",
       "      <td>\\n    SymbaSync</td>\n",
       "      <td>\\n                $105,000 - $135,000 a year</td>\n",
       "      <td>\\n            You will build machine learning ...</td>\n",
       "    </tr>\n",
       "    <tr>\n",
       "      <th>2</th>\n",
       "      <td>San Francisco, CA 94103 (South Of Market area)</td>\n",
       "      <td>Machine Learning Engineer (Connections), AI Labs</td>\n",
       "      <td>\\n\\n    Uber</td>\n",
       "      <td>NaN</td>\n",
       "      <td>\\n            You will work closely with resea...</td>\n",
       "    </tr>\n",
       "    <tr>\n",
       "      <th>3</th>\n",
       "      <td>San Francisco, CA</td>\n",
       "      <td>Data Analyst / Data Scientist</td>\n",
       "      <td>\\n    Need To Impeach</td>\n",
       "      <td>NaN</td>\n",
       "      <td>\\n            Need To Impeach is seeking a Dat...</td>\n",
       "    </tr>\n",
       "    <tr>\n",
       "      <th>4</th>\n",
       "      <td>San Francisco, CA</td>\n",
       "      <td>Data Scientist</td>\n",
       "      <td>\\n    King.com</td>\n",
       "      <td>NaN</td>\n",
       "      <td>\\n            We are looking for a talented an...</td>\n",
       "    </tr>\n",
       "  </tbody>\n",
       "</table>\n",
       "</div>"
      ],
      "text/plain": [
       "                                            location  \\\n",
       "0  San Francisco, CA 94111 (Financial District area)   \n",
       "1                                  San Francisco, CA   \n",
       "2     San Francisco, CA 94103 (South Of Market area)   \n",
       "3                                  San Francisco, CA   \n",
       "4                                  San Francisco, CA   \n",
       "\n",
       "                                              title                 company  \\\n",
       "0                                    Data Scientist  \\n\\n    BAIN & COMPANY   \n",
       "1                Data Scientist - San Francisco, CA         \\n    SymbaSync   \n",
       "2  Machine Learning Engineer (Connections), AI Labs            \\n\\n    Uber   \n",
       "3                     Data Analyst / Data Scientist   \\n    Need To Impeach   \n",
       "4                                    Data Scientist          \\n    King.com   \n",
       "\n",
       "                                         salary  \\\n",
       "0                                           NaN   \n",
       "1  \\n                $105,000 - $135,000 a year   \n",
       "2                                           NaN   \n",
       "3                                           NaN   \n",
       "4                                           NaN   \n",
       "\n",
       "                                             summary  \n",
       "0  \\n            Experience with explaining and a...  \n",
       "1  \\n            You will build machine learning ...  \n",
       "2  \\n            You will work closely with resea...  \n",
       "3  \\n            Need To Impeach is seeking a Dat...  \n",
       "4  \\n            We are looking for a talented an...  "
      ]
     },
     "execution_count": 45,
     "metadata": {},
     "output_type": "execute_result"
    }
   ],
   "source": [
    "for entry in results:\n",
    "    location = get_loc(entry)\n",
    "    title = get_job(entry)\n",
    "    #print(title)\n",
    "    company = get_comp(entry)\n",
    "    #print(company)\n",
    "    salary = get_sal(entry)\n",
    "    desc = get_desc(entry)\n",
    "    #print(jobs0.loc[len(jobs0)])\n",
    "    \n",
    "    jobs0.loc[len(jobs0)] = [location, title, company, salary, desc]\n",
    "jobs0.head()"
   ]
  },
  {
   "cell_type": "code",
   "execution_count": 46,
   "metadata": {},
   "outputs": [],
   "source": [
    "#replacing the \\n\n",
    "jobs0 = jobs0.replace('\\n', '', regex=True)"
   ]
  },
  {
   "cell_type": "code",
   "execution_count": 47,
   "metadata": {},
   "outputs": [
    {
     "data": {
      "text/html": [
       "<div>\n",
       "<style scoped>\n",
       "    .dataframe tbody tr th:only-of-type {\n",
       "        vertical-align: middle;\n",
       "    }\n",
       "\n",
       "    .dataframe tbody tr th {\n",
       "        vertical-align: top;\n",
       "    }\n",
       "\n",
       "    .dataframe thead th {\n",
       "        text-align: right;\n",
       "    }\n",
       "</style>\n",
       "<table border=\"1\" class=\"dataframe\">\n",
       "  <thead>\n",
       "    <tr style=\"text-align: right;\">\n",
       "      <th></th>\n",
       "      <th>location</th>\n",
       "      <th>title</th>\n",
       "      <th>company</th>\n",
       "      <th>salary</th>\n",
       "      <th>summary</th>\n",
       "    </tr>\n",
       "  </thead>\n",
       "  <tbody>\n",
       "    <tr>\n",
       "      <th>0</th>\n",
       "      <td>San Francisco, CA 94111 (Financial District area)</td>\n",
       "      <td>Data Scientist</td>\n",
       "      <td>BAIN &amp; COMPANY</td>\n",
       "      <td>NaN</td>\n",
       "      <td>Experience with explaining and app...</td>\n",
       "    </tr>\n",
       "    <tr>\n",
       "      <th>1</th>\n",
       "      <td>San Francisco, CA</td>\n",
       "      <td>Data Scientist - San Francisco, CA</td>\n",
       "      <td>SymbaSync</td>\n",
       "      <td>$105,000 - $135,000 a year</td>\n",
       "      <td>You will build machine learning mo...</td>\n",
       "    </tr>\n",
       "    <tr>\n",
       "      <th>2</th>\n",
       "      <td>San Francisco, CA 94103 (South Of Market area)</td>\n",
       "      <td>Machine Learning Engineer (Connections), AI Labs</td>\n",
       "      <td>Uber</td>\n",
       "      <td>NaN</td>\n",
       "      <td>You will work closely with researc...</td>\n",
       "    </tr>\n",
       "    <tr>\n",
       "      <th>3</th>\n",
       "      <td>San Francisco, CA</td>\n",
       "      <td>Data Analyst / Data Scientist</td>\n",
       "      <td>Need To Impeach</td>\n",
       "      <td>NaN</td>\n",
       "      <td>Need To Impeach is seeking a Data ...</td>\n",
       "    </tr>\n",
       "    <tr>\n",
       "      <th>4</th>\n",
       "      <td>San Francisco, CA</td>\n",
       "      <td>Data Scientist</td>\n",
       "      <td>King.com</td>\n",
       "      <td>NaN</td>\n",
       "      <td>We are looking for a talented and ...</td>\n",
       "    </tr>\n",
       "  </tbody>\n",
       "</table>\n",
       "</div>"
      ],
      "text/plain": [
       "                                            location  \\\n",
       "0  San Francisco, CA 94111 (Financial District area)   \n",
       "1                                  San Francisco, CA   \n",
       "2     San Francisco, CA 94103 (South Of Market area)   \n",
       "3                                  San Francisco, CA   \n",
       "4                                  San Francisco, CA   \n",
       "\n",
       "                                              title              company  \\\n",
       "0                                    Data Scientist       BAIN & COMPANY   \n",
       "1                Data Scientist - San Francisco, CA            SymbaSync   \n",
       "2  Machine Learning Engineer (Connections), AI Labs                 Uber   \n",
       "3                     Data Analyst / Data Scientist      Need To Impeach   \n",
       "4                                    Data Scientist             King.com   \n",
       "\n",
       "                                       salary  \\\n",
       "0                                         NaN   \n",
       "1                  $105,000 - $135,000 a year   \n",
       "2                                         NaN   \n",
       "3                                         NaN   \n",
       "4                                         NaN   \n",
       "\n",
       "                                             summary  \n",
       "0              Experience with explaining and app...  \n",
       "1              You will build machine learning mo...  \n",
       "2              You will work closely with researc...  \n",
       "3              Need To Impeach is seeking a Data ...  \n",
       "4              We are looking for a talented and ...  "
      ]
     },
     "execution_count": 47,
     "metadata": {},
     "output_type": "execute_result"
    }
   ],
   "source": [
    "jobs0.head()"
   ]
  },
  {
   "cell_type": "code",
   "execution_count": 48,
   "metadata": {},
   "outputs": [
    {
     "data": {
      "text/plain": [
       "(23299, 5)"
      ]
     },
     "execution_count": 48,
     "metadata": {},
     "output_type": "execute_result"
    }
   ],
   "source": [
    "jobs0.shape"
   ]
  },
  {
   "cell_type": "code",
   "execution_count": 49,
   "metadata": {},
   "outputs": [
    {
     "data": {
      "text/plain": [
       "location        0\n",
       "title           0\n",
       "company         0\n",
       "salary      22180\n",
       "summary         0\n",
       "dtype: int64"
      ]
     },
     "execution_count": 49,
     "metadata": {},
     "output_type": "execute_result"
    }
   ],
   "source": [
    "jobs0.isnull().sum()"
   ]
  },
  {
   "cell_type": "markdown",
   "metadata": {},
   "source": [
    "Majority of the companies doesen't' declare the salaries. So we will be considering either Mean or Median Salary for the Analysis"
   ]
  },
  {
   "cell_type": "markdown",
   "metadata": {},
   "source": [
    "<b>Converting object into CSV file</b>"
   ]
  },
  {
   "cell_type": "code",
   "execution_count": 51,
   "metadata": {},
   "outputs": [],
   "source": [
    "jobs0.to_csv('datascientist-job-results.csv', index=False, encoding='utf-8')"
   ]
  },
  {
   "cell_type": "code",
   "execution_count": 5,
   "metadata": {},
   "outputs": [],
   "source": [
    "#Reading CSV File\n",
    "df_indeed_result = pd.read_csv('datascientist-job-results.csv')"
   ]
  },
  {
   "cell_type": "code",
   "execution_count": 6,
   "metadata": {},
   "outputs": [
    {
     "data": {
      "text/plain": [
       "['Data Scientist',\n",
       " 'Data Scientist - San Francisco, CA',\n",
       " 'Machine Learning Engineer (Connections), AI Labs',\n",
       " 'Data Analyst / Data Scientist',\n",
       " 'Data Analyst / Data Scientist']"
      ]
     },
     "execution_count": 6,
     "metadata": {},
     "output_type": "execute_result"
    }
   ],
   "source": [
    "#Deleting all the non_matching titles from the dataset\n",
    "\n",
    "#Key words to match the titles\n",
    "title_keywords = ['data', 'Machine', 'Scientist', 'Analyst', 'SAS', 'Statistician', \\\n",
    "                    'Analytics', 'Science']\n",
    "#dictionary to store all matching titles\n",
    "title_dictionary = []\n",
    "\n",
    "#isolating title from dataset\n",
    "title = df_indeed_result['title']\n",
    "\n",
    "for job_title in title:\n",
    "    #print(job_title)\n",
    "    for title_split in job_title.split():\n",
    "        #print(title_split)\n",
    "        if title_split in title_keywords:\n",
    "            title_dictionary.append(job_title)\n",
    "title_dictionary[:5]"
   ]
  },
  {
   "cell_type": "code",
   "execution_count": 7,
   "metadata": {},
   "outputs": [
    {
     "name": "stdout",
     "output_type": "stream",
     "text": [
      "(11119, 5)\n"
     ]
    },
    {
     "data": {
      "text/html": [
       "<div>\n",
       "<style scoped>\n",
       "    .dataframe tbody tr th:only-of-type {\n",
       "        vertical-align: middle;\n",
       "    }\n",
       "\n",
       "    .dataframe tbody tr th {\n",
       "        vertical-align: top;\n",
       "    }\n",
       "\n",
       "    .dataframe thead th {\n",
       "        text-align: right;\n",
       "    }\n",
       "</style>\n",
       "<table border=\"1\" class=\"dataframe\">\n",
       "  <thead>\n",
       "    <tr style=\"text-align: right;\">\n",
       "      <th></th>\n",
       "      <th>location</th>\n",
       "      <th>title</th>\n",
       "      <th>company</th>\n",
       "      <th>salary</th>\n",
       "      <th>summary</th>\n",
       "    </tr>\n",
       "  </thead>\n",
       "  <tbody>\n",
       "    <tr>\n",
       "      <th>0</th>\n",
       "      <td>San Francisco, CA 94111 (Financial District area)</td>\n",
       "      <td>Data Scientist</td>\n",
       "      <td>BAIN &amp; COMPANY</td>\n",
       "      <td>NaN</td>\n",
       "      <td>Experience with explaining and app...</td>\n",
       "    </tr>\n",
       "    <tr>\n",
       "      <th>1</th>\n",
       "      <td>San Francisco, CA</td>\n",
       "      <td>Data Scientist - San Francisco, CA</td>\n",
       "      <td>SymbaSync</td>\n",
       "      <td>$105,000 - $135,000 a year</td>\n",
       "      <td>You will build machine learning mo...</td>\n",
       "    </tr>\n",
       "    <tr>\n",
       "      <th>2</th>\n",
       "      <td>San Francisco, CA 94103 (South Of Market area)</td>\n",
       "      <td>Machine Learning Engineer (Connections), AI Labs</td>\n",
       "      <td>Uber</td>\n",
       "      <td>NaN</td>\n",
       "      <td>You will work closely with researc...</td>\n",
       "    </tr>\n",
       "    <tr>\n",
       "      <th>3</th>\n",
       "      <td>San Francisco, CA</td>\n",
       "      <td>Data Analyst / Data Scientist</td>\n",
       "      <td>Need To Impeach</td>\n",
       "      <td>NaN</td>\n",
       "      <td>Need To Impeach is seeking a Data ...</td>\n",
       "    </tr>\n",
       "    <tr>\n",
       "      <th>4</th>\n",
       "      <td>San Francisco, CA</td>\n",
       "      <td>Data Scientist</td>\n",
       "      <td>King.com</td>\n",
       "      <td>NaN</td>\n",
       "      <td>We are looking for a talented and ...</td>\n",
       "    </tr>\n",
       "  </tbody>\n",
       "</table>\n",
       "</div>"
      ],
      "text/plain": [
       "                                            location  \\\n",
       "0  San Francisco, CA 94111 (Financial District area)   \n",
       "1                                  San Francisco, CA   \n",
       "2     San Francisco, CA 94103 (South Of Market area)   \n",
       "3                                  San Francisco, CA   \n",
       "4                                  San Francisco, CA   \n",
       "\n",
       "                                              title              company  \\\n",
       "0                                    Data Scientist       BAIN & COMPANY   \n",
       "1                Data Scientist - San Francisco, CA            SymbaSync   \n",
       "2  Machine Learning Engineer (Connections), AI Labs                 Uber   \n",
       "3                     Data Analyst / Data Scientist      Need To Impeach   \n",
       "4                                    Data Scientist             King.com   \n",
       "\n",
       "                                       salary  \\\n",
       "0                                         NaN   \n",
       "1                  $105,000 - $135,000 a year   \n",
       "2                                         NaN   \n",
       "3                                         NaN   \n",
       "4                                         NaN   \n",
       "\n",
       "                                             summary  \n",
       "0              Experience with explaining and app...  \n",
       "1              You will build machine learning mo...  \n",
       "2              You will work closely with researc...  \n",
       "3              Need To Impeach is seeking a Data ...  \n",
       "4              We are looking for a talented and ...  "
      ]
     },
     "execution_count": 7,
     "metadata": {},
     "output_type": "execute_result"
    }
   ],
   "source": [
    "#filtering the matching titles with dictionary\n",
    "df_results_title_filter = df_indeed_result[df_indeed_result.title.apply(lambda x: x in title_dictionary)]\n",
    "print(df_results_title_filter.shape)\n",
    "\n",
    "#display only matching role for datascientist\n",
    "df_results_title_filter.head()"
   ]
  },
  {
   "cell_type": "code",
   "execution_count": 8,
   "metadata": {},
   "outputs": [
    {
     "name": "stderr",
     "output_type": "stream",
     "text": [
      "/Users/afnity_computer/anaconda3/lib/python3.5/site-packages/ipykernel_launcher.py:3: SettingWithCopyWarning: \n",
      "A value is trying to be set on a copy of a slice from a DataFrame\n",
      "\n",
      "See the caveats in the documentation: http://pandas.pydata.org/pandas-docs/stable/indexing.html#indexing-view-versus-copy\n",
      "  This is separate from the ipykernel package so we can avoid doing imports until\n"
     ]
    },
    {
     "data": {
      "text/html": [
       "<div>\n",
       "<style scoped>\n",
       "    .dataframe tbody tr th:only-of-type {\n",
       "        vertical-align: middle;\n",
       "    }\n",
       "\n",
       "    .dataframe tbody tr th {\n",
       "        vertical-align: top;\n",
       "    }\n",
       "\n",
       "    .dataframe thead th {\n",
       "        text-align: right;\n",
       "    }\n",
       "</style>\n",
       "<table border=\"1\" class=\"dataframe\">\n",
       "  <thead>\n",
       "    <tr style=\"text-align: right;\">\n",
       "      <th></th>\n",
       "      <th>location</th>\n",
       "      <th>title</th>\n",
       "      <th>company</th>\n",
       "      <th>salary</th>\n",
       "      <th>summary</th>\n",
       "    </tr>\n",
       "  </thead>\n",
       "  <tbody>\n",
       "    <tr>\n",
       "      <th>16326</th>\n",
       "      <td>Mountain View, CA 94041</td>\n",
       "      <td>Scientist - Population Genetics</td>\n",
       "      <td>23andMe</td>\n",
       "      <td>NaN</td>\n",
       "      <td>We are seeking a team member who i...</td>\n",
       "    </tr>\n",
       "    <tr>\n",
       "      <th>11176</th>\n",
       "      <td>Mountain View, CA 94041</td>\n",
       "      <td>Scientist / Senior Scientist - Statistical Gen...</td>\n",
       "      <td>23andMe</td>\n",
       "      <td>NaN</td>\n",
       "      <td>For senior scientists:. Supervise,...</td>\n",
       "    </tr>\n",
       "    <tr>\n",
       "      <th>7637</th>\n",
       "      <td>Mountain View, CA 94041</td>\n",
       "      <td>Scientist / Senior Scientist - Health R&amp;D</td>\n",
       "      <td>23andMe</td>\n",
       "      <td>NaN</td>\n",
       "      <td>Communicate project results both v...</td>\n",
       "    </tr>\n",
       "    <tr>\n",
       "      <th>7638</th>\n",
       "      <td>Mountain View, CA 94041</td>\n",
       "      <td>Scientist / Senior Scientist - Computational B...</td>\n",
       "      <td>23andMe</td>\n",
       "      <td>NaN</td>\n",
       "      <td>For senior scientists:. Supervise,...</td>\n",
       "    </tr>\n",
       "    <tr>\n",
       "      <th>17097</th>\n",
       "      <td>Mountain View, CA 94041</td>\n",
       "      <td>Scientist / Senior Scientist - Statistical Gen...</td>\n",
       "      <td>23andMe</td>\n",
       "      <td>NaN</td>\n",
       "      <td>For senior scientists:. Supervise,...</td>\n",
       "    </tr>\n",
       "  </tbody>\n",
       "</table>\n",
       "</div>"
      ],
      "text/plain": [
       "                      location  \\\n",
       "16326  Mountain View, CA 94041   \n",
       "11176  Mountain View, CA 94041   \n",
       "7637   Mountain View, CA 94041   \n",
       "7638   Mountain View, CA 94041   \n",
       "17097  Mountain View, CA 94041   \n",
       "\n",
       "                                                   title      company salary  \\\n",
       "16326                    Scientist - Population Genetics      23andMe    NaN   \n",
       "11176  Scientist / Senior Scientist - Statistical Gen...      23andMe    NaN   \n",
       "7637           Scientist / Senior Scientist - Health R&D      23andMe    NaN   \n",
       "7638   Scientist / Senior Scientist - Computational B...      23andMe    NaN   \n",
       "17097  Scientist / Senior Scientist - Statistical Gen...      23andMe    NaN   \n",
       "\n",
       "                                                 summary  \n",
       "16326              We are seeking a team member who i...  \n",
       "11176              For senior scientists:. Supervise,...  \n",
       "7637               Communicate project results both v...  \n",
       "7638               For senior scientists:. Supervise,...  \n",
       "17097              For senior scientists:. Supervise,...  "
      ]
     },
     "execution_count": 8,
     "metadata": {},
     "output_type": "execute_result"
    }
   ],
   "source": [
    "#checking for the duplicates\n",
    "df_results_duplicates = df_results_title_filter[df_results_title_filter.duplicated()]\n",
    "df_results_duplicates.sort_values('company', inplace=True)\n",
    "df_results_duplicates[:5]"
   ]
  },
  {
   "cell_type": "code",
   "execution_count": 60,
   "metadata": {},
   "outputs": [],
   "source": [
    "#Dropping duplicates\n",
    "df_result_final = df_results_title_filter.drop_duplicates(subset=['company', 'title', 'location', 'summary'])\n",
    "df_result_final.shape\n",
    "df_result_final.to_csv(\"indeed_ds_job_data.csv\", index=False, encoding='utf-8')"
   ]
  },
  {
   "cell_type": "code",
   "execution_count": 69,
   "metadata": {},
   "outputs": [
    {
     "name": "stdout",
     "output_type": "stream",
     "text": [
      "company      object\n",
      "job_count     int64\n",
      "dtype: object\n"
     ]
    },
    {
     "data": {
      "text/html": [
       "<div>\n",
       "<style scoped>\n",
       "    .dataframe tbody tr th:only-of-type {\n",
       "        vertical-align: middle;\n",
       "    }\n",
       "\n",
       "    .dataframe tbody tr th {\n",
       "        vertical-align: top;\n",
       "    }\n",
       "\n",
       "    .dataframe thead th {\n",
       "        text-align: right;\n",
       "    }\n",
       "</style>\n",
       "<table border=\"1\" class=\"dataframe\">\n",
       "  <thead>\n",
       "    <tr style=\"text-align: right;\">\n",
       "      <th></th>\n",
       "      <th>company</th>\n",
       "      <th>job_count</th>\n",
       "    </tr>\n",
       "  </thead>\n",
       "  <tbody>\n",
       "    <tr>\n",
       "      <th>0</th>\n",
       "      <td>Apple</td>\n",
       "      <td>88</td>\n",
       "    </tr>\n",
       "    <tr>\n",
       "      <th>1</th>\n",
       "      <td>Amazon.com</td>\n",
       "      <td>51</td>\n",
       "    </tr>\n",
       "    <tr>\n",
       "      <th>2</th>\n",
       "      <td>Facebook</td>\n",
       "      <td>50</td>\n",
       "    </tr>\n",
       "    <tr>\n",
       "      <th>3</th>\n",
       "      <td>Google</td>\n",
       "      <td>42</td>\n",
       "    </tr>\n",
       "    <tr>\n",
       "      <th>4</th>\n",
       "      <td>Adobe</td>\n",
       "      <td>30</td>\n",
       "    </tr>\n",
       "    <tr>\n",
       "      <th>5</th>\n",
       "      <td>Cedars-Sinai Medical Center</td>\n",
       "      <td>27</td>\n",
       "    </tr>\n",
       "    <tr>\n",
       "      <th>6</th>\n",
       "      <td>JD.com</td>\n",
       "      <td>26</td>\n",
       "    </tr>\n",
       "    <tr>\n",
       "      <th>7</th>\n",
       "      <td>Harnham</td>\n",
       "      <td>23</td>\n",
       "    </tr>\n",
       "    <tr>\n",
       "      <th>8</th>\n",
       "      <td>The Aerospace Corporation</td>\n",
       "      <td>18</td>\n",
       "    </tr>\n",
       "    <tr>\n",
       "      <th>9</th>\n",
       "      <td>Jobspring Partners</td>\n",
       "      <td>18</td>\n",
       "    </tr>\n",
       "  </tbody>\n",
       "</table>\n",
       "</div>"
      ],
      "text/plain": [
       "                           company  job_count\n",
       "0                            Apple         88\n",
       "1                       Amazon.com         51\n",
       "2                         Facebook         50\n",
       "3                           Google         42\n",
       "4                            Adobe         30\n",
       "5      Cedars-Sinai Medical Center         27\n",
       "6                           JD.com         26\n",
       "7                          Harnham         23\n",
       "8        The Aerospace Corporation         18\n",
       "9               Jobspring Partners         18"
      ]
     },
     "execution_count": 69,
     "metadata": {},
     "output_type": "execute_result"
    }
   ],
   "source": [
    "#Top 50 Companies listing out jobs\n",
    "\n",
    "from collections import Counter\n",
    "company_job_list = Counter(df_result_final.company)\n",
    "\n",
    "Total_jobs_company = pd.DataFrame.from_dict(company_job_list,  orient='index').reset_index()\n",
    "Total_jobs_company = Total_jobs_company.rename(columns={'index': 'company', 0:'job_count'})\n",
    "\n",
    "Total_jobs_company['job_count'] = Total_jobs_company['job_count'].astype('int')\n",
    "Total_jobs_company['company'] = Total_jobs_company['company'].astype('str')\n",
    "\n",
    "print(Total_jobs_company.dtypes)\n",
    "\n",
    "#sorting dataframe\n",
    "df_job_count = Total_jobs_company.sort_values(by='job_count', axis=0, ascending=False).reset_index(drop = True)\n",
    "top_listing = df_job_count.head(10)\n",
    "\n",
    "\n",
    "#Converting into csv file\n",
    "top_listing.to_csv(\"ds_top50_job_listing.csv\", index=False)\n",
    "\n",
    "top_listing[:10]"
   ]
  },
  {
   "cell_type": "markdown",
   "metadata": {},
   "source": [
    "<div>\n",
    "    <a href=\"https://plot.ly/~srini_hubble/15/?share_key=BoWSwcp9YK0VPTFedZjH9t\" target=\"_blank\" title=\"top10_job_listing_companies\" style=\"display: block; text-align: center;\"><img src=\"https://plot.ly/~srini_hubble/15.png?share_key=BoWSwcp9YK0VPTFedZjH9t\" alt=\"top10_job_listing_companies\" style=\"max-width: 100%;width: 700px;\"  width=\"700\" onerror=\"this.onerror=null;this.src='https://plot.ly/404.png';\" /></a>\n",
    "    <script data-plotly=\"srini_hubble:15\" sharekey-plotly=\"BoWSwcp9YK0VPTFedZjH9t\" src=\"https://plot.ly/embed.js\" async></script>\n",
    "</div>\n"
   ]
  },
  {
   "cell_type": "code",
   "execution_count": 64,
   "metadata": {},
   "outputs": [
    {
     "data": {
      "text/html": [
       "<div>\n",
       "<style scoped>\n",
       "    .dataframe tbody tr th:only-of-type {\n",
       "        vertical-align: middle;\n",
       "    }\n",
       "\n",
       "    .dataframe tbody tr th {\n",
       "        vertical-align: top;\n",
       "    }\n",
       "\n",
       "    .dataframe thead th {\n",
       "        text-align: right;\n",
       "    }\n",
       "</style>\n",
       "<table border=\"1\" class=\"dataframe\">\n",
       "  <thead>\n",
       "    <tr style=\"text-align: right;\">\n",
       "      <th></th>\n",
       "      <th>company</th>\n",
       "      <th>summary</th>\n",
       "    </tr>\n",
       "  </thead>\n",
       "  <tbody>\n",
       "    <tr>\n",
       "      <th>8</th>\n",
       "      <td>Facebook</td>\n",
       "      <td>The Data Scientist Analytics role ...</td>\n",
       "    </tr>\n",
       "    <tr>\n",
       "      <th>17</th>\n",
       "      <td>Apple</td>\n",
       "      <td>We are looking for people with exc...</td>\n",
       "    </tr>\n",
       "    <tr>\n",
       "      <th>74</th>\n",
       "      <td>Google</td>\n",
       "      <td>Deep interest and aptitude in data...</td>\n",
       "    </tr>\n",
       "    <tr>\n",
       "      <th>161</th>\n",
       "      <td>Adobe</td>\n",
       "      <td>We’re looking for machine learning...</td>\n",
       "    </tr>\n",
       "    <tr>\n",
       "      <th>167</th>\n",
       "      <td>Google</td>\n",
       "      <td>Participate in cutting edge resear...</td>\n",
       "    </tr>\n",
       "    <tr>\n",
       "      <th>205</th>\n",
       "      <td>Amazon.com</td>\n",
       "      <td>As a Machine Learning Engineer you...</td>\n",
       "    </tr>\n",
       "    <tr>\n",
       "      <th>217</th>\n",
       "      <td>Google</td>\n",
       "      <td>Manage projects and deliverables, ...</td>\n",
       "    </tr>\n",
       "    <tr>\n",
       "      <th>230</th>\n",
       "      <td>Amazon.com</td>\n",
       "      <td>We are seeking a Senior Applied Sc...</td>\n",
       "    </tr>\n",
       "    <tr>\n",
       "      <th>233</th>\n",
       "      <td>Google</td>\n",
       "      <td>Deep interest and aptitude in data...</td>\n",
       "    </tr>\n",
       "    <tr>\n",
       "      <th>250</th>\n",
       "      <td>Adobe</td>\n",
       "      <td>Apply data mining and machine lear...</td>\n",
       "    </tr>\n",
       "  </tbody>\n",
       "</table>\n",
       "</div>"
      ],
      "text/plain": [
       "            company                                            summary\n",
       "8          Facebook              The Data Scientist Analytics role ...\n",
       "17            Apple              We are looking for people with exc...\n",
       "74           Google              Deep interest and aptitude in data...\n",
       "161           Adobe              We’re looking for machine learning...\n",
       "167          Google              Participate in cutting edge resear...\n",
       "205      Amazon.com              As a Machine Learning Engineer you...\n",
       "217          Google              Manage projects and deliverables, ...\n",
       "230      Amazon.com              We are seeking a Senior Applied Sc...\n",
       "233          Google              Deep interest and aptitude in data...\n",
       "250           Adobe              Apply data mining and machine lear..."
      ]
     },
     "execution_count": 64,
     "metadata": {},
     "output_type": "execute_result"
    }
   ],
   "source": [
    "#The role description for top 10 companies\n",
    "#df_role_description = df_result_final[top_listing['company']]\n",
    "top_10_listing = top_listing['company']\n",
    "top_10_listing = list(top_10_listing[:10])\n",
    "\n",
    "\n",
    "#filtering the matching titles with dictionary\n",
    "top_10_company_role_description = df_result_final[df_result_final.company.apply(lambda x: x in top_10_listing)]\n",
    "\n",
    "top_10_company_role_description = top_10_company_role_description[['company', 'summary']]\n",
    "top_10_company_role_description[:10]\n",
    "\n",
    "top_10_company_role_description.to_csv(\"top10_ds_description.csv\", index=False)\n",
    "\n",
    "top_10_company_role_description[:10]"
   ]
  },
  {
   "cell_type": "markdown",
   "metadata": {},
   "source": [
    "<b>Trending Job Titles for Data Scientists</b>"
   ]
  },
  {
   "cell_type": "code",
   "execution_count": 65,
   "metadata": {},
   "outputs": [
    {
     "name": "stdout",
     "output_type": "stream",
     "text": [
      "title           object\n",
      "count_titles     int64\n",
      "dtype: object\n"
     ]
    },
    {
     "data": {
      "text/html": [
       "<div>\n",
       "<style scoped>\n",
       "    .dataframe tbody tr th:only-of-type {\n",
       "        vertical-align: middle;\n",
       "    }\n",
       "\n",
       "    .dataframe tbody tr th {\n",
       "        vertical-align: top;\n",
       "    }\n",
       "\n",
       "    .dataframe thead th {\n",
       "        text-align: right;\n",
       "    }\n",
       "</style>\n",
       "<table border=\"1\" class=\"dataframe\">\n",
       "  <thead>\n",
       "    <tr style=\"text-align: right;\">\n",
       "      <th></th>\n",
       "      <th>title</th>\n",
       "      <th>count_titles</th>\n",
       "    </tr>\n",
       "  </thead>\n",
       "  <tbody>\n",
       "    <tr>\n",
       "      <th>0</th>\n",
       "      <td>Data Scientist</td>\n",
       "      <td>146</td>\n",
       "    </tr>\n",
       "    <tr>\n",
       "      <th>1</th>\n",
       "      <td>Senior Data Scientist</td>\n",
       "      <td>67</td>\n",
       "    </tr>\n",
       "    <tr>\n",
       "      <th>2</th>\n",
       "      <td>Machine Learning Engineer</td>\n",
       "      <td>38</td>\n",
       "    </tr>\n",
       "    <tr>\n",
       "      <th>3</th>\n",
       "      <td>Research Scientist</td>\n",
       "      <td>26</td>\n",
       "    </tr>\n",
       "    <tr>\n",
       "      <th>4</th>\n",
       "      <td>Research Analyst</td>\n",
       "      <td>22</td>\n",
       "    </tr>\n",
       "    <tr>\n",
       "      <th>5</th>\n",
       "      <td>Principal Data Scientist</td>\n",
       "      <td>16</td>\n",
       "    </tr>\n",
       "    <tr>\n",
       "      <th>6</th>\n",
       "      <td>Sr. Data Scientist</td>\n",
       "      <td>16</td>\n",
       "    </tr>\n",
       "    <tr>\n",
       "      <th>7</th>\n",
       "      <td>Data Analyst</td>\n",
       "      <td>15</td>\n",
       "    </tr>\n",
       "    <tr>\n",
       "      <th>8</th>\n",
       "      <td>Lead Data Scientist</td>\n",
       "      <td>14</td>\n",
       "    </tr>\n",
       "    <tr>\n",
       "      <th>9</th>\n",
       "      <td>Software Engineer, Machine Learning</td>\n",
       "      <td>12</td>\n",
       "    </tr>\n",
       "  </tbody>\n",
       "</table>\n",
       "</div>"
      ],
      "text/plain": [
       "                                 title  count_titles\n",
       "0                       Data Scientist           146\n",
       "1                Senior Data Scientist            67\n",
       "2            Machine Learning Engineer            38\n",
       "3                   Research Scientist            26\n",
       "4                     Research Analyst            22\n",
       "5             Principal Data Scientist            16\n",
       "6                   Sr. Data Scientist            16\n",
       "7                         Data Analyst            15\n",
       "8                  Lead Data Scientist            14\n",
       "9  Software Engineer, Machine Learning            12"
      ]
     },
     "execution_count": 65,
     "metadata": {},
     "output_type": "execute_result"
    }
   ],
   "source": [
    "#Top 10 titles under the datascintist indeed category\n",
    "\n",
    "company_job_title = Counter(df_result_final.title)\n",
    "\n",
    "Top_titles = pd.DataFrame.from_dict(company_job_title,  orient='index').reset_index()\n",
    "Top_titles = Top_titles.rename(columns={'index': 'title', 0:'count_titles'})\n",
    "\n",
    "Top_titles['count_titles'] = Top_titles['count_titles'].astype('int')\n",
    "Top_titles['title'] = Top_titles['title'].astype('str')\n",
    "\n",
    "print(Top_titles.dtypes)\n",
    "\n",
    "#sorting dataframe\n",
    "top_10_job_titles = Top_titles.sort_values(by='count_titles', axis=0, ascending=False).reset_index(drop = True)\n",
    "top_10_job_titles = top_10_job_titles[:10]\n",
    "\n",
    "top_10_job_titles.to_csv(\"top10_job_titles.csv\", index=False)\n",
    "top_10_job_titles"
   ]
  },
  {
   "cell_type": "markdown",
   "metadata": {},
   "source": [
    "<div>\n",
    "    <a href=\"https://plot.ly/~srini_hubble/20/?share_key=lXOLfM5i5AGH8ZBe0e0zDp\" target=\"_blank\" title=\"Trending_titles_datascience\" style=\"display: block; text-align: center;\"><img src=\"https://plot.ly/~srini_hubble/20.png?share_key=lXOLfM5i5AGH8ZBe0e0zDp\" alt=\"Trending_titles_datascience\" style=\"max-width: 100%;width: 600px;\"  width=\"600\" onerror=\"this.onerror=null;this.src='https://plot.ly/404.png';\" /></a>\n",
    "    <script data-plotly=\"srini_hubble:20\" sharekey-plotly=\"lXOLfM5i5AGH8ZBe0e0zDp\" src=\"https://plot.ly/embed.js\" async></script>\n",
    "</div>\n"
   ]
  },
  {
   "cell_type": "markdown",
   "metadata": {},
   "source": [
    "<h3>Total Jobs by City</h3>"
   ]
  },
  {
   "cell_type": "code",
   "execution_count": 70,
   "metadata": {},
   "outputs": [
    {
     "name": "stdout",
     "output_type": "stream",
     "text": [
      "city          object\n",
      "count_jobs     int64\n",
      "dtype: object\n"
     ]
    },
    {
     "data": {
      "text/html": [
       "<div>\n",
       "<style scoped>\n",
       "    .dataframe tbody tr th:only-of-type {\n",
       "        vertical-align: middle;\n",
       "    }\n",
       "\n",
       "    .dataframe tbody tr th {\n",
       "        vertical-align: top;\n",
       "    }\n",
       "\n",
       "    .dataframe thead th {\n",
       "        text-align: right;\n",
       "    }\n",
       "</style>\n",
       "<table border=\"1\" class=\"dataframe\">\n",
       "  <thead>\n",
       "    <tr style=\"text-align: right;\">\n",
       "      <th></th>\n",
       "      <th>city</th>\n",
       "      <th>count_jobs</th>\n",
       "    </tr>\n",
       "  </thead>\n",
       "  <tbody>\n",
       "    <tr>\n",
       "      <th>0</th>\n",
       "      <td>San Francisco, CA</td>\n",
       "      <td>282</td>\n",
       "    </tr>\n",
       "    <tr>\n",
       "      <th>1</th>\n",
       "      <td>San Diego, CA</td>\n",
       "      <td>111</td>\n",
       "    </tr>\n",
       "    <tr>\n",
       "      <th>2</th>\n",
       "      <td>Los Angeles, CA</td>\n",
       "      <td>99</td>\n",
       "    </tr>\n",
       "    <tr>\n",
       "      <th>3</th>\n",
       "      <td>San Jose, CA</td>\n",
       "      <td>99</td>\n",
       "    </tr>\n",
       "    <tr>\n",
       "      <th>4</th>\n",
       "      <td>Sunnyvale, CA</td>\n",
       "      <td>91</td>\n",
       "    </tr>\n",
       "    <tr>\n",
       "      <th>5</th>\n",
       "      <td>Santa Clara Valley, CA</td>\n",
       "      <td>85</td>\n",
       "    </tr>\n",
       "    <tr>\n",
       "      <th>6</th>\n",
       "      <td>Mountain View, CA</td>\n",
       "      <td>81</td>\n",
       "    </tr>\n",
       "    <tr>\n",
       "      <th>7</th>\n",
       "      <td>Palo Alto, CA</td>\n",
       "      <td>69</td>\n",
       "    </tr>\n",
       "    <tr>\n",
       "      <th>8</th>\n",
       "      <td>Menlo Park, CA</td>\n",
       "      <td>65</td>\n",
       "    </tr>\n",
       "    <tr>\n",
       "      <th>9</th>\n",
       "      <td>Santa Clara, CA</td>\n",
       "      <td>40</td>\n",
       "    </tr>\n",
       "  </tbody>\n",
       "</table>\n",
       "</div>"
      ],
      "text/plain": [
       "                     city  count_jobs\n",
       "0       San Francisco, CA         282\n",
       "1           San Diego, CA         111\n",
       "2         Los Angeles, CA          99\n",
       "3            San Jose, CA          99\n",
       "4           Sunnyvale, CA          91\n",
       "5  Santa Clara Valley, CA          85\n",
       "6       Mountain View, CA          81\n",
       "7           Palo Alto, CA          69\n",
       "8          Menlo Park, CA          65\n",
       "9         Santa Clara, CA          40"
      ]
     },
     "execution_count": 70,
     "metadata": {},
     "output_type": "execute_result"
    }
   ],
   "source": [
    "#Leading City in USA for Data Science Jobs\n",
    "#Top 10 titles under the datascintist indeed category\n",
    "\n",
    "company_job_location = Counter(df_result_final.location)\n",
    "\n",
    "Top_cities = pd.DataFrame.from_dict(company_job_location,  orient='index').reset_index()\n",
    "Top_cities = Top_cities.rename(columns={'index': 'city', 0:'count_jobs'})\n",
    "\n",
    "Top_cities['count_jobs'] = Top_cities['count_jobs'].astype('int')\n",
    "Top_cities['city'] = Top_cities['city'].astype('str')\n",
    "\n",
    "print(Top_cities.dtypes)\n",
    "\n",
    "#sorting dataframe\n",
    "job_dist_by_city = Top_cities.sort_values(by='count_jobs', axis=0, ascending=False).reset_index(drop = True)\n",
    "job_dist_by_city = job_dist_by_city.head(10)\n",
    "\n",
    "job_dist_by_city.to_csv(\"city_vs_jobs.csv\", index=False)\n",
    "job_dist_by_city[:10]"
   ]
  },
  {
   "cell_type": "markdown",
   "metadata": {},
   "source": [
    "<div>\n",
    "    <a href=\"https://plot.ly/~srini_hubble/25/?share_key=n8UsKEXfwBpFpKcVScdD34\" target=\"_blank\" title=\"top_10_cities_dataScience_jobs\" style=\"display: block; text-align: center;\"><img src=\"https://plot.ly/~srini_hubble/25.png?share_key=n8UsKEXfwBpFpKcVScdD34\" alt=\"top_10_cities_dataScience_jobs\" style=\"max-width: 100%;width: 600px;\"  width=\"600\" onerror=\"this.onerror=null;this.src='https://plot.ly/404.png';\" /></a>\n",
    "    <script data-plotly=\"srini_hubble:25\" sharekey-plotly=\"n8UsKEXfwBpFpKcVScdD34\" src=\"https://plot.ly/embed.js\" async></script>\n",
    "</div>"
   ]
  },
  {
   "cell_type": "markdown",
   "metadata": {},
   "source": [
    "<h3>Salary Information</h3>"
   ]
  },
  {
   "cell_type": "markdown",
   "metadata": {},
   "source": [
    "The data for Salary is highly messed, so it's a littile tricky task to clean this data. For this Analysis we are using the salry information of for Year and incase of range converted into average salary"
   ]
  },
  {
   "cell_type": "code",
   "execution_count": 28,
   "metadata": {},
   "outputs": [],
   "source": [
    "salaries = df_result_final[df_result_final.salary.notnull()]"
   ]
  },
  {
   "cell_type": "code",
   "execution_count": 29,
   "metadata": {},
   "outputs": [
    {
     "data": {
      "text/plain": [
       "(138, 5)"
      ]
     },
     "execution_count": 29,
     "metadata": {},
     "output_type": "execute_result"
    }
   ],
   "source": [
    "salaries.shape"
   ]
  },
  {
   "cell_type": "code",
   "execution_count": 30,
   "metadata": {},
   "outputs": [
    {
     "data": {
      "text/html": [
       "<div>\n",
       "<style scoped>\n",
       "    .dataframe tbody tr th:only-of-type {\n",
       "        vertical-align: middle;\n",
       "    }\n",
       "\n",
       "    .dataframe tbody tr th {\n",
       "        vertical-align: top;\n",
       "    }\n",
       "\n",
       "    .dataframe thead th {\n",
       "        text-align: right;\n",
       "    }\n",
       "</style>\n",
       "<table border=\"1\" class=\"dataframe\">\n",
       "  <thead>\n",
       "    <tr style=\"text-align: right;\">\n",
       "      <th></th>\n",
       "      <th>location</th>\n",
       "      <th>title</th>\n",
       "      <th>company</th>\n",
       "      <th>salary</th>\n",
       "      <th>summary</th>\n",
       "    </tr>\n",
       "  </thead>\n",
       "  <tbody>\n",
       "    <tr>\n",
       "      <th>1</th>\n",
       "      <td>San Francisco, CA</td>\n",
       "      <td>Data Scientist - San Francisco, CA</td>\n",
       "      <td>SymbaSync</td>\n",
       "      <td>$105,000 - $135,000 a year</td>\n",
       "      <td>You will build machine learning mo...</td>\n",
       "    </tr>\n",
       "    <tr>\n",
       "      <th>51</th>\n",
       "      <td>Foster City, CA</td>\n",
       "      <td>Data Scientist / Sr. Data Scientist</td>\n",
       "      <td>Visa</td>\n",
       "      <td>$98,000 - $125,000 a year (Ind...</td>\n",
       "      <td>To support our rapidly growing gro...</td>\n",
       "    </tr>\n",
       "    <tr>\n",
       "      <th>52</th>\n",
       "      <td>South San Francisco, CA</td>\n",
       "      <td>Data Scientist</td>\n",
       "      <td>Outpost Games, Inc.</td>\n",
       "      <td>$103,000 - $131,000 a year (In...</td>\n",
       "      <td>Solid understanding of statistical...</td>\n",
       "    </tr>\n",
       "    <tr>\n",
       "      <th>54</th>\n",
       "      <td>San Francisco, CA</td>\n",
       "      <td>Data Scientist (Big Data Analytics)</td>\n",
       "      <td>Ahrefs</td>\n",
       "      <td>$124,000 - $158,000 a year (In...</td>\n",
       "      <td>Good knowledge in a wide variety o...</td>\n",
       "    </tr>\n",
       "    <tr>\n",
       "      <th>55</th>\n",
       "      <td>San Francisco, CA</td>\n",
       "      <td>Data Scientist (Analytics)</td>\n",
       "      <td>Opendoor</td>\n",
       "      <td>$115,000 - $147,000 a year (In...</td>\n",
       "      <td>As a Data Scientist you will:. Cra...</td>\n",
       "    </tr>\n",
       "  </tbody>\n",
       "</table>\n",
       "</div>"
      ],
      "text/plain": [
       "                   location                                title  \\\n",
       "1         San Francisco, CA   Data Scientist - San Francisco, CA   \n",
       "51          Foster City, CA  Data Scientist / Sr. Data Scientist   \n",
       "52  South San Francisco, CA                       Data Scientist   \n",
       "54        San Francisco, CA  Data Scientist (Big Data Analytics)   \n",
       "55        San Francisco, CA           Data Scientist (Analytics)   \n",
       "\n",
       "                    company  \\\n",
       "1                 SymbaSync   \n",
       "51                     Visa   \n",
       "52      Outpost Games, Inc.   \n",
       "54                   Ahrefs   \n",
       "55                 Opendoor   \n",
       "\n",
       "                                               salary  \\\n",
       "1                          $105,000 - $135,000 a year   \n",
       "51                  $98,000 - $125,000 a year (Ind...   \n",
       "52                  $103,000 - $131,000 a year (In...   \n",
       "54                  $124,000 - $158,000 a year (In...   \n",
       "55                  $115,000 - $147,000 a year (In...   \n",
       "\n",
       "                                              summary  \n",
       "1               You will build machine learning mo...  \n",
       "51              To support our rapidly growing gro...  \n",
       "52              Solid understanding of statistical...  \n",
       "54              Good knowledge in a wide variety o...  \n",
       "55              As a Data Scientist you will:. Cra...  "
      ]
     },
     "execution_count": 30,
     "metadata": {},
     "output_type": "execute_result"
    }
   ],
   "source": [
    "salaries.head()"
   ]
  },
  {
   "cell_type": "code",
   "execution_count": 31,
   "metadata": {},
   "outputs": [
    {
     "name": "stderr",
     "output_type": "stream",
     "text": [
      "/Users/afnity_computer/anaconda3/lib/python3.5/site-packages/pandas/core/generic.py:3643: SettingWithCopyWarning: \n",
      "A value is trying to be set on a copy of a slice from a DataFrame.\n",
      "Try using .loc[row_indexer,col_indexer] = value instead\n",
      "\n",
      "See the caveats in the documentation: http://pandas.pydata.org/pandas-docs/stable/indexing.html#indexing-view-versus-copy\n",
      "  self[name] = value\n"
     ]
    }
   ],
   "source": [
    "\n",
    "df_cleaned_salaries = salaries[(~salaries.salary.str.contains('an hour')) & (~salaries.salary.str.contains('a month'))\n",
    "                   & (~salaries.salary.str.contains('a week')) & (~salaries.salary.str.contains('a day'))]\n",
    "\n",
    "\n",
    "df_cleaned_salaries.salary = salaries.salary.str.replace('a year', \\\n",
    "                                                         '').str.replace(',', \\\n",
    "                                                                         '').str.replace('$', '').str.replace('(Indeed est.)',\\\n",
    "                                                                                                              '')"
   ]
  },
  {
   "cell_type": "code",
   "execution_count": 45,
   "metadata": {},
   "outputs": [
    {
     "data": {
      "text/plain": [
       "(124, 5)"
      ]
     },
     "execution_count": 45,
     "metadata": {},
     "output_type": "execute_result"
    }
   ],
   "source": [
    "#Variation in the input and output salaries\n",
    "#Its because we deleted hours and monthly based salaries from dataset\n",
    "df_cleaned_salaries.shape"
   ]
  },
  {
   "cell_type": "markdown",
   "metadata": {},
   "source": [
    "<b>Removing extra paranthesis in salary variable</b>"
   ]
  },
  {
   "cell_type": "code",
   "execution_count": 46,
   "metadata": {},
   "outputs": [
    {
     "name": "stdout",
     "output_type": "stream",
     "text": [
      "[['                105000 - 135000 '], ['                98000 - 125000  ']]\n",
      "124\n"
     ]
    }
   ],
   "source": [
    "salary_data_cleaned = []\n",
    "\n",
    "for x in df_cleaned_salaries.salary:\n",
    "    #removing extra paranthesis\n",
    "    x = x.split('()')\n",
    "    if len(x) > 1:\n",
    "        del x[1]\n",
    "    salary_data_cleaned.append(x)\n",
    "        \n",
    "print(salary_data_cleaned[:2])  \n",
    "print(len(salary_data_cleaned))"
   ]
  },
  {
   "cell_type": "markdown",
   "metadata": {},
   "source": [
    "<b>Turn salary ranges to an average and convert that into floats</b>"
   ]
  },
  {
   "cell_type": "code",
   "execution_count": 47,
   "metadata": {},
   "outputs": [],
   "source": [
    "#nested for loop to handle multi dimensional list\n",
    "#salary_data_cleaned is multi dimensional\n",
    "\n",
    "new_salaries = []\n",
    "for salary_clean in salary_data_cleaned:\n",
    "    for i in salary_clean:\n",
    "        a = i.split('-')\n",
    "        if len(a) == 2:\n",
    "            new_salaries.append(np.mean([float(b) for b in a]))\n",
    "        else:\n",
    "            new_salaries.append(float(a[0]))"
   ]
  },
  {
   "cell_type": "code",
   "execution_count": 48,
   "metadata": {},
   "outputs": [
    {
     "data": {
      "text/plain": [
       "[120000.0,\n",
       " 111500.0,\n",
       " 117000.0,\n",
       " 141000.0,\n",
       " 131000.0,\n",
       " 129500.0,\n",
       " 125000.0,\n",
       " 122500.0,\n",
       " 155500.0,\n",
       " 143000.0]"
      ]
     },
     "execution_count": 48,
     "metadata": {},
     "output_type": "execute_result"
    }
   ],
   "source": [
    "new_salaries[0:10]"
   ]
  },
  {
   "cell_type": "code",
   "execution_count": 49,
   "metadata": {},
   "outputs": [
    {
     "name": "stderr",
     "output_type": "stream",
     "text": [
      "/Users/afnity_computer/anaconda3/lib/python3.5/site-packages/pandas/core/generic.py:3643: SettingWithCopyWarning: \n",
      "A value is trying to be set on a copy of a slice from a DataFrame.\n",
      "Try using .loc[row_indexer,col_indexer] = value instead\n",
      "\n",
      "See the caveats in the documentation: http://pandas.pydata.org/pandas-docs/stable/indexing.html#indexing-view-versus-copy\n",
      "  self[name] = value\n"
     ]
    }
   ],
   "source": [
    "df_cleaned_salaries.salary = new_salaries"
   ]
  },
  {
   "cell_type": "code",
   "execution_count": 50,
   "metadata": {},
   "outputs": [
    {
     "data": {
      "text/plain": [
       "(124, 5)"
      ]
     },
     "execution_count": 50,
     "metadata": {},
     "output_type": "execute_result"
    }
   ],
   "source": [
    "df_cleaned_salaries.shape"
   ]
  },
  {
   "cell_type": "code",
   "execution_count": 51,
   "metadata": {},
   "outputs": [
    {
     "data": {
      "text/html": [
       "<div>\n",
       "<style scoped>\n",
       "    .dataframe tbody tr th:only-of-type {\n",
       "        vertical-align: middle;\n",
       "    }\n",
       "\n",
       "    .dataframe tbody tr th {\n",
       "        vertical-align: top;\n",
       "    }\n",
       "\n",
       "    .dataframe thead th {\n",
       "        text-align: right;\n",
       "    }\n",
       "</style>\n",
       "<table border=\"1\" class=\"dataframe\">\n",
       "  <thead>\n",
       "    <tr style=\"text-align: right;\">\n",
       "      <th></th>\n",
       "      <th>location</th>\n",
       "      <th>title</th>\n",
       "      <th>company</th>\n",
       "      <th>salary</th>\n",
       "      <th>summary</th>\n",
       "    </tr>\n",
       "  </thead>\n",
       "  <tbody>\n",
       "    <tr>\n",
       "      <th>1</th>\n",
       "      <td>San Francisco, CA</td>\n",
       "      <td>Data Scientist - San Francisco, CA</td>\n",
       "      <td>SymbaSync</td>\n",
       "      <td>120000.0</td>\n",
       "      <td>You will build machine learning mo...</td>\n",
       "    </tr>\n",
       "    <tr>\n",
       "      <th>51</th>\n",
       "      <td>Foster City, CA</td>\n",
       "      <td>Data Scientist / Sr. Data Scientist</td>\n",
       "      <td>Visa</td>\n",
       "      <td>111500.0</td>\n",
       "      <td>To support our rapidly growing gro...</td>\n",
       "    </tr>\n",
       "    <tr>\n",
       "      <th>52</th>\n",
       "      <td>South San Francisco, CA</td>\n",
       "      <td>Data Scientist</td>\n",
       "      <td>Outpost Games, Inc.</td>\n",
       "      <td>117000.0</td>\n",
       "      <td>Solid understanding of statistical...</td>\n",
       "    </tr>\n",
       "    <tr>\n",
       "      <th>54</th>\n",
       "      <td>San Francisco, CA</td>\n",
       "      <td>Data Scientist (Big Data Analytics)</td>\n",
       "      <td>Ahrefs</td>\n",
       "      <td>141000.0</td>\n",
       "      <td>Good knowledge in a wide variety o...</td>\n",
       "    </tr>\n",
       "    <tr>\n",
       "      <th>55</th>\n",
       "      <td>San Francisco, CA</td>\n",
       "      <td>Data Scientist (Analytics)</td>\n",
       "      <td>Opendoor</td>\n",
       "      <td>131000.0</td>\n",
       "      <td>As a Data Scientist you will:. Cra...</td>\n",
       "    </tr>\n",
       "  </tbody>\n",
       "</table>\n",
       "</div>"
      ],
      "text/plain": [
       "                   location                                title  \\\n",
       "1         San Francisco, CA   Data Scientist - San Francisco, CA   \n",
       "51          Foster City, CA  Data Scientist / Sr. Data Scientist   \n",
       "52  South San Francisco, CA                       Data Scientist   \n",
       "54        San Francisco, CA  Data Scientist (Big Data Analytics)   \n",
       "55        San Francisco, CA           Data Scientist (Analytics)   \n",
       "\n",
       "                    company    salary  \\\n",
       "1                 SymbaSync  120000.0   \n",
       "51                     Visa  111500.0   \n",
       "52      Outpost Games, Inc.  117000.0   \n",
       "54                   Ahrefs  141000.0   \n",
       "55                 Opendoor  131000.0   \n",
       "\n",
       "                                              summary  \n",
       "1               You will build machine learning mo...  \n",
       "51              To support our rapidly growing gro...  \n",
       "52              Solid understanding of statistical...  \n",
       "54              Good knowledge in a wide variety o...  \n",
       "55              As a Data Scientist you will:. Cra...  "
      ]
     },
     "execution_count": 51,
     "metadata": {},
     "output_type": "execute_result"
    }
   ],
   "source": [
    "df_cleaned_salaries[:5]"
   ]
  },
  {
   "cell_type": "markdown",
   "metadata": {},
   "source": [
    "<b>Univariate Analysis</b>"
   ]
  },
  {
   "cell_type": "code",
   "execution_count": 52,
   "metadata": {},
   "outputs": [],
   "source": [
    "company_salary = round(df_cleaned_salaries['salary'], 1)"
   ]
  },
  {
   "cell_type": "markdown",
   "metadata": {},
   "source": [
    "<b>Median Salary</b>"
   ]
  },
  {
   "cell_type": "code",
   "execution_count": 53,
   "metadata": {},
   "outputs": [
    {
     "data": {
      "text/plain": [
       "139250.0"
      ]
     },
     "execution_count": 53,
     "metadata": {},
     "output_type": "execute_result"
    }
   ],
   "source": [
    "company_salary.median()"
   ]
  },
  {
   "cell_type": "markdown",
   "metadata": {},
   "source": [
    "The Median Salary of DataScientis is $139,250 for annum"
   ]
  },
  {
   "cell_type": "markdown",
   "metadata": {},
   "source": [
    "<b>Mean Salary</b>"
   ]
  },
  {
   "cell_type": "code",
   "execution_count": 54,
   "metadata": {},
   "outputs": [
    {
     "data": {
      "text/plain": [
       "134296.5"
      ]
     },
     "execution_count": 54,
     "metadata": {},
     "output_type": "execute_result"
    }
   ],
   "source": [
    "round(company_salary.mean(), 1)"
   ]
  },
  {
   "cell_type": "markdown",
   "metadata": {},
   "source": [
    "The Median Salary of DataScientis is $134,296 for annum"
   ]
  },
  {
   "cell_type": "markdown",
   "metadata": {},
   "source": [
    "<b>Average Salary by Cities</b>"
   ]
  },
  {
   "cell_type": "code",
   "execution_count": 56,
   "metadata": {},
   "outputs": [
    {
     "data": {
      "text/html": [
       "<div>\n",
       "<style scoped>\n",
       "    .dataframe tbody tr th:only-of-type {\n",
       "        vertical-align: middle;\n",
       "    }\n",
       "\n",
       "    .dataframe tbody tr th {\n",
       "        vertical-align: top;\n",
       "    }\n",
       "\n",
       "    .dataframe thead th {\n",
       "        text-align: right;\n",
       "    }\n",
       "</style>\n",
       "<table border=\"1\" class=\"dataframe\">\n",
       "  <thead>\n",
       "    <tr style=\"text-align: right;\">\n",
       "      <th></th>\n",
       "      <th>location</th>\n",
       "      <th>salary</th>\n",
       "    </tr>\n",
       "  </thead>\n",
       "  <tbody>\n",
       "    <tr>\n",
       "      <th>1</th>\n",
       "      <td>San Francisco, CA</td>\n",
       "      <td>120000.0</td>\n",
       "    </tr>\n",
       "    <tr>\n",
       "      <th>51</th>\n",
       "      <td>Foster City, CA</td>\n",
       "      <td>111500.0</td>\n",
       "    </tr>\n",
       "    <tr>\n",
       "      <th>52</th>\n",
       "      <td>South San Francisco, CA</td>\n",
       "      <td>117000.0</td>\n",
       "    </tr>\n",
       "    <tr>\n",
       "      <th>54</th>\n",
       "      <td>San Francisco, CA</td>\n",
       "      <td>141000.0</td>\n",
       "    </tr>\n",
       "    <tr>\n",
       "      <th>55</th>\n",
       "      <td>San Francisco, CA</td>\n",
       "      <td>131000.0</td>\n",
       "    </tr>\n",
       "  </tbody>\n",
       "</table>\n",
       "</div>"
      ],
      "text/plain": [
       "                   location    salary\n",
       "1         San Francisco, CA  120000.0\n",
       "51          Foster City, CA  111500.0\n",
       "52  South San Francisco, CA  117000.0\n",
       "54        San Francisco, CA  141000.0\n",
       "55        San Francisco, CA  131000.0"
      ]
     },
     "execution_count": 56,
     "metadata": {},
     "output_type": "execute_result"
    }
   ],
   "source": [
    "salary_city = df_cleaned_salaries[['location', 'salary']]\n",
    "salary_city[:5]"
   ]
  },
  {
   "cell_type": "code",
   "execution_count": 71,
   "metadata": {},
   "outputs": [
    {
     "data": {
      "text/plain": [
       "location\n",
       "Berkeley, CA                                         102525.0\n",
       "Burbank, CA 91505                                     70000.0\n",
       "Cypress, CA                                          140000.0\n",
       "Edwards AFB, CA                                       72993.0\n",
       "Foster City, CA                                      111500.0\n",
       "Irvine, CA                                           120000.0\n",
       "Los Angeles, CA                                      134197.6\n",
       "Los Angeles, CA 90001                                140000.0\n",
       "Menlo Park, CA                                        78582.0\n",
       "Menlo Park, CA 94026                                  94000.0\n",
       "Mountain View, CA                                    172500.0\n",
       "Palo Alto, CA                                        186666.7\n",
       "Pasadena, CA                                          60000.0\n",
       "Redondo Beach, CA                                    108500.0\n",
       "Redwood City, CA                                     165000.0\n",
       "Redwood Shores, CA                                   135500.0\n",
       "San Bruno, CA                                        105500.0\n",
       "San Diego, CA                                         82500.0\n",
       "San Diego, CA 92121                                  142500.0\n",
       "San Diego, CA 92152                                   90500.0\n",
       "San Francisco, CA                                    154906.2\n",
       "San Francisco, CA 94103 (South Of Market area)       150500.0\n",
       "San Francisco, CA 94105 (Financial District area)    129500.0\n",
       "San Francisco, CA 94108 (Financial District area)     90666.7\n",
       "San Francisco, CA 94124 (Bayview area)               146263.0\n",
       "San Francisco, CA 94126 (Financial District area)    135000.0\n",
       "San Jose, CA 95113 (Downtown area)                   132500.0\n",
       "San Mateo, CA                                        170000.0\n",
       "San Mateo, CA 94401 (North Central area)             129500.0\n",
       "Santa Clara, CA                                      147500.0\n",
       "Santa Monica, CA                                     118000.0\n",
       "Santa Monica, CA 90403                               115000.0\n",
       "Sherman Oaks, CA 91423                                40000.0\n",
       "South San Francisco, CA                              130750.0\n",
       "South San Francisco, CA 94080                        163500.0\n",
       "Stockton, CA 95207 (Lakeview area)                    66126.0\n",
       "Sunnyvale, CA                                        155000.0\n",
       "Van Nuys, CA                                          75316.5\n",
       "Name: salary, dtype: float64"
      ]
     },
     "execution_count": 71,
     "metadata": {},
     "output_type": "execute_result"
    }
   ],
   "source": [
    "salary_city_mean = salary_city.groupby(['location'])['salary'].mean()\n",
    "salary_city_mean = round(salary_city_mean, 1)\n",
    "#round(salary_city_mean['salary'], 1)\n",
    "salary_city_mean.to_csv(\"avg_salary_by_city.csv\")\n",
    "salary_city_mean[:50]"
   ]
  },
  {
   "cell_type": "markdown",
   "metadata": {},
   "source": [
    "<div>\n",
    "    <a href=\"https://plot.ly/~srini_hubble/32/?share_key=aa8Kdj5yeOKzElVzMZDJ7m\" target=\"_blank\" title=\"Avg Salary by City\" style=\"display: block; text-align: center;\"><img src=\"https://plot.ly/~srini_hubble/32.png?share_key=aa8Kdj5yeOKzElVzMZDJ7m\" alt=\"Avg Salary by City\" style=\"max-width: 100%;width: 800px;\"  width=\"800\" onerror=\"this.onerror=null;this.src='https://plot.ly/404.png';\" /></a>\n",
    "    <script data-plotly=\"srini_hubble:32\" sharekey-plotly=\"aa8Kdj5yeOKzElVzMZDJ7m\" src=\"https://plot.ly/embed.js\" async></script>\n",
    "</div>\n"
   ]
  },
  {
   "cell_type": "markdown",
   "metadata": {},
   "source": [
    "<h3>Conclusion</h3>"
   ]
  },
  {
   "cell_type": "markdown",
   "metadata": {},
   "source": [
    "1. Apple is the Tob Job listing company for the Data Scientist Roles\n",
    "2. SanFrancisco CA is the better option to look out for a Data Scientist\n",
    "3. Data Scientist is the trending title, probably most of these roles for Beginner level or 2-3    years experienc\n",
    "4. Median Salary for the DataScientist is 139,250 Dollars\n",
    "5. Mean Salary for the DataScientist is 134,296 Dollars\n",
    "6. Avg Salary in San Mateo, CA  is 170,000 Dollars and it is the maximum\n",
    "7. Sherman Oaks, CA 91423 has the lowest Avg salary of $40000"
   ]
  },
  {
   "cell_type": "code",
   "execution_count": null,
   "metadata": {},
   "outputs": [],
   "source": []
  }
 ],
 "metadata": {
  "kernelspec": {
   "display_name": "Python 3",
   "language": "python",
   "name": "python3"
  },
  "language_info": {
   "codemirror_mode": {
    "name": "ipython",
    "version": 3
   },
   "file_extension": ".py",
   "mimetype": "text/x-python",
   "name": "python",
   "nbconvert_exporter": "python",
   "pygments_lexer": "ipython3",
   "version": "3.5.4"
  }
 },
 "nbformat": 4,
 "nbformat_minor": 2
}
