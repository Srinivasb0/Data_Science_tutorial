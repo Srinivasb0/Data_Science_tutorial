{
 "cells": [
  {
   "cell_type": "markdown",
   "metadata": {},
   "source": [
    "<h2>Ultimate Comparision between Ronaldo vs Messi</h2>"
   ]
  },
  {
   "cell_type": "markdown",
   "metadata": {},
   "source": [
    "<img src='ronaldo_vs_messi.png' /img width=800>"
   ]
  },
  {
   "cell_type": "code",
   "execution_count": 1,
   "metadata": {},
   "outputs": [],
   "source": [
    "from urllib.request import urlopen as uReq\n",
    "from bs4 import BeautifulSoup as soup\n",
    "import numpy as np\n",
    "import pandas as pd"
   ]
  },
  {
   "cell_type": "markdown",
   "metadata": {},
   "source": [
    "The datasets are downloaded from this github repository\n",
    "https://github.com/Karim-NoorAli/Ronaldo-and-Messi-Career-Stats"
   ]
  },
  {
   "cell_type": "code",
   "execution_count": 2,
   "metadata": {},
   "outputs": [],
   "source": [
    "df_messi = pd.read_excel(\"Messi Stats.xlsx\")"
   ]
  },
  {
   "cell_type": "code",
   "execution_count": 3,
   "metadata": {},
   "outputs": [
    {
     "data": {
      "text/plain": [
       "(6, 8)"
      ]
     },
     "execution_count": 3,
     "metadata": {},
     "output_type": "execute_result"
    }
   ],
   "source": [
    "df_messi.shape"
   ]
  },
  {
   "cell_type": "code",
   "execution_count": 4,
   "metadata": {},
   "outputs": [
    {
     "data": {
      "text/html": [
       "<div>\n",
       "<style scoped>\n",
       "    .dataframe tbody tr th:only-of-type {\n",
       "        vertical-align: middle;\n",
       "    }\n",
       "\n",
       "    .dataframe tbody tr th {\n",
       "        vertical-align: top;\n",
       "    }\n",
       "\n",
       "    .dataframe thead th {\n",
       "        text-align: right;\n",
       "    }\n",
       "</style>\n",
       "<table border=\"1\" class=\"dataframe\">\n",
       "  <thead>\n",
       "    <tr style=\"text-align: right;\">\n",
       "      <th></th>\n",
       "      <th>Competition</th>\n",
       "      <th>Caps</th>\n",
       "      <th>Goals</th>\n",
       "      <th>Penalties</th>\n",
       "      <th>Missed</th>\n",
       "      <th>Assists</th>\n",
       "      <th>Hat-tricks</th>\n",
       "      <th>Goal Ratio</th>\n",
       "    </tr>\n",
       "  </thead>\n",
       "  <tbody>\n",
       "    <tr>\n",
       "      <th>0</th>\n",
       "      <td>- All Time Career - Club and Country (excludin...</td>\n",
       "      <td>759</td>\n",
       "      <td>759</td>\n",
       "      <td>77</td>\n",
       "      <td>23</td>\n",
       "      <td>249</td>\n",
       "      <td>46</td>\n",
       "      <td>0.81</td>\n",
       "    </tr>\n",
       "    <tr>\n",
       "      <th>1</th>\n",
       "      <td>- All Time Club - (excluding friendlies)</td>\n",
       "      <td>636</td>\n",
       "      <td>636</td>\n",
       "      <td>65</td>\n",
       "      <td>21</td>\n",
       "      <td>212</td>\n",
       "      <td>41</td>\n",
       "      <td>0.87</td>\n",
       "    </tr>\n",
       "    <tr>\n",
       "      <th>2</th>\n",
       "      <td>- League -</td>\n",
       "      <td>417</td>\n",
       "      <td>417</td>\n",
       "      <td>48</td>\n",
       "      <td>11</td>\n",
       "      <td>149</td>\n",
       "      <td>30</td>\n",
       "      <td>0.92</td>\n",
       "    </tr>\n",
       "    <tr>\n",
       "      <th>3</th>\n",
       "      <td>- Europe - UEFA Super Cup goals are included i...</td>\n",
       "      <td>125</td>\n",
       "      <td>125</td>\n",
       "      <td>11</td>\n",
       "      <td>3</td>\n",
       "      <td>27</td>\n",
       "      <td>7</td>\n",
       "      <td>0.80</td>\n",
       "    </tr>\n",
       "    <tr>\n",
       "      <th>4</th>\n",
       "      <td>- Other Cups - Copa Del Rey, Spanish Super Cup...</td>\n",
       "      <td>94</td>\n",
       "      <td>94</td>\n",
       "      <td>6</td>\n",
       "      <td>7</td>\n",
       "      <td>36</td>\n",
       "      <td>4</td>\n",
       "      <td>0.73</td>\n",
       "    </tr>\n",
       "    <tr>\n",
       "      <th>5</th>\n",
       "      <td>- International - Friendlies &amp; Competitive games</td>\n",
       "      <td>123</td>\n",
       "      <td>123</td>\n",
       "      <td>12</td>\n",
       "      <td>2</td>\n",
       "      <td>37</td>\n",
       "      <td>5</td>\n",
       "      <td>0.50</td>\n",
       "    </tr>\n",
       "  </tbody>\n",
       "</table>\n",
       "</div>"
      ],
      "text/plain": [
       "                                         Competition  Caps  Goals  Penalties  \\\n",
       "0  - All Time Career - Club and Country (excludin...   759    759         77   \n",
       "1           - All Time Club - (excluding friendlies)   636    636         65   \n",
       "2                                         - League -   417    417         48   \n",
       "3  - Europe - UEFA Super Cup goals are included i...   125    125         11   \n",
       "4  - Other Cups - Copa Del Rey, Spanish Super Cup...    94     94          6   \n",
       "5   - International - Friendlies & Competitive games   123    123         12   \n",
       "\n",
       "   Missed  Assists  Hat-tricks  Goal Ratio  \n",
       "0      23      249          46        0.81  \n",
       "1      21      212          41        0.87  \n",
       "2      11      149          30        0.92  \n",
       "3       3       27           7        0.80  \n",
       "4       7       36           4        0.73  \n",
       "5       2       37           5        0.50  "
      ]
     },
     "execution_count": 4,
     "metadata": {},
     "output_type": "execute_result"
    }
   ],
   "source": [
    "df_messi.head(6)"
   ]
  },
  {
   "cell_type": "code",
   "execution_count": 5,
   "metadata": {},
   "outputs": [],
   "source": [
    "df_ronaldo = pd.read_excel(\"Ronaldo Stats.xlsx\")"
   ]
  },
  {
   "cell_type": "code",
   "execution_count": 6,
   "metadata": {},
   "outputs": [
    {
     "data": {
      "text/html": [
       "<div>\n",
       "<style scoped>\n",
       "    .dataframe tbody tr th:only-of-type {\n",
       "        vertical-align: middle;\n",
       "    }\n",
       "\n",
       "    .dataframe tbody tr th {\n",
       "        vertical-align: top;\n",
       "    }\n",
       "\n",
       "    .dataframe thead th {\n",
       "        text-align: right;\n",
       "    }\n",
       "</style>\n",
       "<table border=\"1\" class=\"dataframe\">\n",
       "  <thead>\n",
       "    <tr style=\"text-align: right;\">\n",
       "      <th></th>\n",
       "      <th>Competition</th>\n",
       "      <th>Caps</th>\n",
       "      <th>Goals</th>\n",
       "      <th>Penalties</th>\n",
       "      <th>Missed</th>\n",
       "      <th>Assists</th>\n",
       "      <th>Hat-tricks</th>\n",
       "      <th>Goal Ratio</th>\n",
       "    </tr>\n",
       "  </thead>\n",
       "  <tbody>\n",
       "    <tr>\n",
       "      <th>0</th>\n",
       "      <td>- All Time Career - Club and Country (excludin...</td>\n",
       "      <td>908</td>\n",
       "      <td>653</td>\n",
       "      <td>103</td>\n",
       "      <td>21</td>\n",
       "      <td>207</td>\n",
       "      <td>50</td>\n",
       "      <td>0.72</td>\n",
       "    </tr>\n",
       "    <tr>\n",
       "      <th>1</th>\n",
       "      <td>- All Time Club - (excluding friendlies)</td>\n",
       "      <td>759</td>\n",
       "      <td>572</td>\n",
       "      <td>96</td>\n",
       "      <td>16</td>\n",
       "      <td>180</td>\n",
       "      <td>45</td>\n",
       "      <td>0.75</td>\n",
       "    </tr>\n",
       "    <tr>\n",
       "      <th>2</th>\n",
       "      <td>- League -</td>\n",
       "      <td>512</td>\n",
       "      <td>397</td>\n",
       "      <td>72</td>\n",
       "      <td>13</td>\n",
       "      <td>126</td>\n",
       "      <td>35</td>\n",
       "      <td>0.78</td>\n",
       "    </tr>\n",
       "    <tr>\n",
       "      <th>3</th>\n",
       "      <td>- Europe - UEFA Super Cup goals are included i...</td>\n",
       "      <td>158</td>\n",
       "      <td>121</td>\n",
       "      <td>15</td>\n",
       "      <td>3</td>\n",
       "      <td>40</td>\n",
       "      <td>7</td>\n",
       "      <td>0.77</td>\n",
       "    </tr>\n",
       "    <tr>\n",
       "      <th>4</th>\n",
       "      <td>- Other Cups - Copa Del Rey, Spanish Super Cup...</td>\n",
       "      <td>89</td>\n",
       "      <td>54</td>\n",
       "      <td>9</td>\n",
       "      <td>0</td>\n",
       "      <td>14</td>\n",
       "      <td>3</td>\n",
       "      <td>0.61</td>\n",
       "    </tr>\n",
       "    <tr>\n",
       "      <th>5</th>\n",
       "      <td>- International - Friendlies &amp; Competitive games</td>\n",
       "      <td>149</td>\n",
       "      <td>81</td>\n",
       "      <td>7</td>\n",
       "      <td>5</td>\n",
       "      <td>27</td>\n",
       "      <td>5</td>\n",
       "      <td>0.54</td>\n",
       "    </tr>\n",
       "  </tbody>\n",
       "</table>\n",
       "</div>"
      ],
      "text/plain": [
       "                                         Competition  Caps  Goals  Penalties  \\\n",
       "0  - All Time Career - Club and Country (excludin...   908    653        103   \n",
       "1           - All Time Club - (excluding friendlies)   759    572         96   \n",
       "2                                         - League -   512    397         72   \n",
       "3  - Europe - UEFA Super Cup goals are included i...   158    121         15   \n",
       "4  - Other Cups - Copa Del Rey, Spanish Super Cup...    89     54          9   \n",
       "5   - International - Friendlies & Competitive games   149     81          7   \n",
       "\n",
       "   Missed  Assists  Hat-tricks  Goal Ratio  \n",
       "0      21      207          50        0.72  \n",
       "1      16      180          45        0.75  \n",
       "2      13      126          35        0.78  \n",
       "3       3       40           7        0.77  \n",
       "4       0       14           3        0.61  \n",
       "5       5       27           5        0.54  "
      ]
     },
     "execution_count": 6,
     "metadata": {},
     "output_type": "execute_result"
    }
   ],
   "source": [
    "df_ronaldo.head(6)"
   ]
  },
  {
   "cell_type": "code",
   "execution_count": 7,
   "metadata": {},
   "outputs": [
    {
     "data": {
      "text/plain": [
       "(6, 8)"
      ]
     },
     "execution_count": 7,
     "metadata": {},
     "output_type": "execute_result"
    }
   ],
   "source": [
    "df_ronaldo.shape"
   ]
  },
  {
   "cell_type": "code",
   "execution_count": 8,
   "metadata": {},
   "outputs": [
    {
     "data": {
      "text/html": [
       "<div>\n",
       "<style scoped>\n",
       "    .dataframe tbody tr th:only-of-type {\n",
       "        vertical-align: middle;\n",
       "    }\n",
       "\n",
       "    .dataframe tbody tr th {\n",
       "        vertical-align: top;\n",
       "    }\n",
       "\n",
       "    .dataframe thead th {\n",
       "        text-align: right;\n",
       "    }\n",
       "</style>\n",
       "<table border=\"1\" class=\"dataframe\">\n",
       "  <thead>\n",
       "    <tr style=\"text-align: right;\">\n",
       "      <th></th>\n",
       "      <th>Competition</th>\n",
       "      <th>Caps_messi</th>\n",
       "      <th>Goals_messi</th>\n",
       "      <th>Penalties_messi</th>\n",
       "      <th>Missed_messi</th>\n",
       "      <th>Assists_messi</th>\n",
       "      <th>Hat-tricks_messi</th>\n",
       "      <th>Goal Ratio_messi</th>\n",
       "      <th>Caps_ronaldo</th>\n",
       "      <th>Goals_ronaldo</th>\n",
       "      <th>Penalties_ronaldo</th>\n",
       "      <th>Missed_ronaldo</th>\n",
       "      <th>Assists_ronaldo</th>\n",
       "      <th>Hat-tricks_ronaldo</th>\n",
       "      <th>Goal Ratio_ronaldo</th>\n",
       "    </tr>\n",
       "  </thead>\n",
       "  <tbody>\n",
       "    <tr>\n",
       "      <th>0</th>\n",
       "      <td>- All Time Career - Club and Country (excludin...</td>\n",
       "      <td>759</td>\n",
       "      <td>759</td>\n",
       "      <td>77</td>\n",
       "      <td>23</td>\n",
       "      <td>249</td>\n",
       "      <td>46</td>\n",
       "      <td>0.81</td>\n",
       "      <td>908</td>\n",
       "      <td>653</td>\n",
       "      <td>103</td>\n",
       "      <td>21</td>\n",
       "      <td>207</td>\n",
       "      <td>50</td>\n",
       "      <td>0.72</td>\n",
       "    </tr>\n",
       "    <tr>\n",
       "      <th>1</th>\n",
       "      <td>- All Time Club - (excluding friendlies)</td>\n",
       "      <td>636</td>\n",
       "      <td>636</td>\n",
       "      <td>65</td>\n",
       "      <td>21</td>\n",
       "      <td>212</td>\n",
       "      <td>41</td>\n",
       "      <td>0.87</td>\n",
       "      <td>759</td>\n",
       "      <td>572</td>\n",
       "      <td>96</td>\n",
       "      <td>16</td>\n",
       "      <td>180</td>\n",
       "      <td>45</td>\n",
       "      <td>0.75</td>\n",
       "    </tr>\n",
       "    <tr>\n",
       "      <th>2</th>\n",
       "      <td>- League -</td>\n",
       "      <td>417</td>\n",
       "      <td>417</td>\n",
       "      <td>48</td>\n",
       "      <td>11</td>\n",
       "      <td>149</td>\n",
       "      <td>30</td>\n",
       "      <td>0.92</td>\n",
       "      <td>512</td>\n",
       "      <td>397</td>\n",
       "      <td>72</td>\n",
       "      <td>13</td>\n",
       "      <td>126</td>\n",
       "      <td>35</td>\n",
       "      <td>0.78</td>\n",
       "    </tr>\n",
       "    <tr>\n",
       "      <th>3</th>\n",
       "      <td>- Europe - UEFA Super Cup goals are included i...</td>\n",
       "      <td>125</td>\n",
       "      <td>125</td>\n",
       "      <td>11</td>\n",
       "      <td>3</td>\n",
       "      <td>27</td>\n",
       "      <td>7</td>\n",
       "      <td>0.80</td>\n",
       "      <td>158</td>\n",
       "      <td>121</td>\n",
       "      <td>15</td>\n",
       "      <td>3</td>\n",
       "      <td>40</td>\n",
       "      <td>7</td>\n",
       "      <td>0.77</td>\n",
       "    </tr>\n",
       "    <tr>\n",
       "      <th>4</th>\n",
       "      <td>- Other Cups - Copa Del Rey, Spanish Super Cup...</td>\n",
       "      <td>94</td>\n",
       "      <td>94</td>\n",
       "      <td>6</td>\n",
       "      <td>7</td>\n",
       "      <td>36</td>\n",
       "      <td>4</td>\n",
       "      <td>0.73</td>\n",
       "      <td>89</td>\n",
       "      <td>54</td>\n",
       "      <td>9</td>\n",
       "      <td>0</td>\n",
       "      <td>14</td>\n",
       "      <td>3</td>\n",
       "      <td>0.61</td>\n",
       "    </tr>\n",
       "  </tbody>\n",
       "</table>\n",
       "</div>"
      ],
      "text/plain": [
       "                                         Competition  Caps_messi  Goals_messi  \\\n",
       "0  - All Time Career - Club and Country (excludin...         759          759   \n",
       "1           - All Time Club - (excluding friendlies)         636          636   \n",
       "2                                         - League -         417          417   \n",
       "3  - Europe - UEFA Super Cup goals are included i...         125          125   \n",
       "4  - Other Cups - Copa Del Rey, Spanish Super Cup...          94           94   \n",
       "\n",
       "   Penalties_messi  Missed_messi  Assists_messi  Hat-tricks_messi  \\\n",
       "0               77            23            249                46   \n",
       "1               65            21            212                41   \n",
       "2               48            11            149                30   \n",
       "3               11             3             27                 7   \n",
       "4                6             7             36                 4   \n",
       "\n",
       "   Goal Ratio_messi  Caps_ronaldo  Goals_ronaldo  Penalties_ronaldo  \\\n",
       "0              0.81           908            653                103   \n",
       "1              0.87           759            572                 96   \n",
       "2              0.92           512            397                 72   \n",
       "3              0.80           158            121                 15   \n",
       "4              0.73            89             54                  9   \n",
       "\n",
       "   Missed_ronaldo  Assists_ronaldo  Hat-tricks_ronaldo  Goal Ratio_ronaldo  \n",
       "0              21              207                  50                0.72  \n",
       "1              16              180                  45                0.75  \n",
       "2              13              126                  35                0.78  \n",
       "3               3               40                   7                0.77  \n",
       "4               0               14                   3                0.61  "
      ]
     },
     "execution_count": 8,
     "metadata": {},
     "output_type": "execute_result"
    }
   ],
   "source": [
    "#merging both the datasets\n",
    "\n",
    "df_soccer = pd.merge(df_messi, df_ronaldo, on='Competition',/\n",
    "                     how=\"outer\", suffixes=('_messi', '_ronaldo'))\n",
    "df_soccer.head()"
   ]
  },
  {
   "cell_type": "code",
   "execution_count": 18,
   "metadata": {},
   "outputs": [
    {
     "data": {
      "text/html": [
       "<div>\n",
       "<style scoped>\n",
       "    .dataframe tbody tr th:only-of-type {\n",
       "        vertical-align: middle;\n",
       "    }\n",
       "\n",
       "    .dataframe tbody tr th {\n",
       "        vertical-align: top;\n",
       "    }\n",
       "\n",
       "    .dataframe thead th {\n",
       "        text-align: right;\n",
       "    }\n",
       "</style>\n",
       "<table border=\"1\" class=\"dataframe\">\n",
       "  <thead>\n",
       "    <tr style=\"text-align: right;\">\n",
       "      <th></th>\n",
       "      <th>Competition</th>\n",
       "      <th>Caps_messi</th>\n",
       "      <th>Goals_messi</th>\n",
       "      <th>Penalties_messi</th>\n",
       "      <th>Missed_messi</th>\n",
       "      <th>Assists_messi</th>\n",
       "      <th>Hat-tricks_messi</th>\n",
       "      <th>Goal Ratio_messi</th>\n",
       "      <th>Caps_ronaldo</th>\n",
       "      <th>Goals_ronaldo</th>\n",
       "      <th>Penalties_ronaldo</th>\n",
       "      <th>Missed_ronaldo</th>\n",
       "      <th>Assists_ronaldo</th>\n",
       "      <th>Hat-tricks_ronaldo</th>\n",
       "      <th>Goal Ratio_ronaldo</th>\n",
       "    </tr>\n",
       "  </thead>\n",
       "  <tbody>\n",
       "    <tr>\n",
       "      <th>0</th>\n",
       "      <td>- All Time Career - Club and Country (excludin...</td>\n",
       "      <td>759</td>\n",
       "      <td>615.0</td>\n",
       "      <td>77</td>\n",
       "      <td>23</td>\n",
       "      <td>249</td>\n",
       "      <td>46</td>\n",
       "      <td>0.81</td>\n",
       "      <td>908</td>\n",
       "      <td>653</td>\n",
       "      <td>103</td>\n",
       "      <td>21</td>\n",
       "      <td>207</td>\n",
       "      <td>50</td>\n",
       "      <td>0.72</td>\n",
       "    </tr>\n",
       "    <tr>\n",
       "      <th>1</th>\n",
       "      <td>- All Time Club - (excluding friendlies)</td>\n",
       "      <td>636</td>\n",
       "      <td>553.0</td>\n",
       "      <td>65</td>\n",
       "      <td>21</td>\n",
       "      <td>212</td>\n",
       "      <td>41</td>\n",
       "      <td>0.87</td>\n",
       "      <td>759</td>\n",
       "      <td>572</td>\n",
       "      <td>96</td>\n",
       "      <td>16</td>\n",
       "      <td>180</td>\n",
       "      <td>45</td>\n",
       "      <td>0.75</td>\n",
       "    </tr>\n",
       "    <tr>\n",
       "      <th>2</th>\n",
       "      <td>- League -</td>\n",
       "      <td>417</td>\n",
       "      <td>384.0</td>\n",
       "      <td>48</td>\n",
       "      <td>11</td>\n",
       "      <td>149</td>\n",
       "      <td>30</td>\n",
       "      <td>0.92</td>\n",
       "      <td>512</td>\n",
       "      <td>397</td>\n",
       "      <td>72</td>\n",
       "      <td>13</td>\n",
       "      <td>126</td>\n",
       "      <td>35</td>\n",
       "      <td>0.78</td>\n",
       "    </tr>\n",
       "    <tr>\n",
       "      <th>3</th>\n",
       "      <td>- Europe - UEFA Super Cup goals are included i...</td>\n",
       "      <td>125</td>\n",
       "      <td>100.0</td>\n",
       "      <td>11</td>\n",
       "      <td>3</td>\n",
       "      <td>27</td>\n",
       "      <td>7</td>\n",
       "      <td>0.80</td>\n",
       "      <td>158</td>\n",
       "      <td>121</td>\n",
       "      <td>15</td>\n",
       "      <td>3</td>\n",
       "      <td>40</td>\n",
       "      <td>7</td>\n",
       "      <td>0.77</td>\n",
       "    </tr>\n",
       "    <tr>\n",
       "      <th>4</th>\n",
       "      <td>- Other Cups - Copa Del Rey, Spanish Super Cup...</td>\n",
       "      <td>94</td>\n",
       "      <td>69.0</td>\n",
       "      <td>6</td>\n",
       "      <td>7</td>\n",
       "      <td>36</td>\n",
       "      <td>4</td>\n",
       "      <td>0.73</td>\n",
       "      <td>89</td>\n",
       "      <td>54</td>\n",
       "      <td>9</td>\n",
       "      <td>0</td>\n",
       "      <td>14</td>\n",
       "      <td>3</td>\n",
       "      <td>0.61</td>\n",
       "    </tr>\n",
       "    <tr>\n",
       "      <th>5</th>\n",
       "      <td>- International - Friendlies &amp; Competitive games</td>\n",
       "      <td>123</td>\n",
       "      <td>62.0</td>\n",
       "      <td>12</td>\n",
       "      <td>2</td>\n",
       "      <td>37</td>\n",
       "      <td>5</td>\n",
       "      <td>0.50</td>\n",
       "      <td>149</td>\n",
       "      <td>81</td>\n",
       "      <td>7</td>\n",
       "      <td>5</td>\n",
       "      <td>27</td>\n",
       "      <td>5</td>\n",
       "      <td>0.54</td>\n",
       "    </tr>\n",
       "  </tbody>\n",
       "</table>\n",
       "</div>"
      ],
      "text/plain": [
       "                                         Competition  Caps_messi  Goals_messi  \\\n",
       "0  - All Time Career - Club and Country (excludin...         759        615.0   \n",
       "1           - All Time Club - (excluding friendlies)         636        553.0   \n",
       "2                                         - League -         417        384.0   \n",
       "3  - Europe - UEFA Super Cup goals are included i...         125        100.0   \n",
       "4  - Other Cups - Copa Del Rey, Spanish Super Cup...          94         69.0   \n",
       "5   - International - Friendlies & Competitive games         123         62.0   \n",
       "\n",
       "   Penalties_messi  Missed_messi  Assists_messi  Hat-tricks_messi  \\\n",
       "0               77            23            249                46   \n",
       "1               65            21            212                41   \n",
       "2               48            11            149                30   \n",
       "3               11             3             27                 7   \n",
       "4                6             7             36                 4   \n",
       "5               12             2             37                 5   \n",
       "\n",
       "   Goal Ratio_messi  Caps_ronaldo  Goals_ronaldo  Penalties_ronaldo  \\\n",
       "0              0.81           908            653                103   \n",
       "1              0.87           759            572                 96   \n",
       "2              0.92           512            397                 72   \n",
       "3              0.80           158            121                 15   \n",
       "4              0.73            89             54                  9   \n",
       "5              0.50           149             81                  7   \n",
       "\n",
       "   Missed_ronaldo  Assists_ronaldo  Hat-tricks_ronaldo  Goal Ratio_ronaldo  \n",
       "0              21              207                  50                0.72  \n",
       "1              16              180                  45                0.75  \n",
       "2              13              126                  35                0.78  \n",
       "3               3               40                   7                0.77  \n",
       "4               0               14                   3                0.61  \n",
       "5               5               27                   5                0.54  "
      ]
     },
     "execution_count": 18,
     "metadata": {},
     "output_type": "execute_result"
    }
   ],
   "source": [
    "#Calculating the Goals as Goals_ratio for messi\n",
    "#Hence we pulled wrong info for Goals\n",
    "\n",
    "\n",
    "df_soccer['Goals_messi'] = round(df_soccer['Caps_messi']*df_soccer['Goal Ratio_messi'])\n",
    "df_soccer.head(6)\n"
   ]
  },
  {
   "cell_type": "code",
   "execution_count": 20,
   "metadata": {},
   "outputs": [],
   "source": [
    "#Successive conversion rate of penalties to goals\n",
    "\n",
    "df_soccer['penalty_succes_ronaldo'] = df_soccer['Penalties_ronaldo'] - \\\n",
    "                                        df_soccer['Missed_ronaldo']\n",
    "df_soccer['penalty_succes_messi'] = df_soccer['Penalties_messi'] - df_soccer['Missed_messi']"
   ]
  },
  {
   "cell_type": "markdown",
   "metadata": {},
   "source": [
    "Variable penalty_success defines the success rate of penalties by ronaldo and Messy"
   ]
  },
  {
   "cell_type": "code",
   "execution_count": 22,
   "metadata": {},
   "outputs": [],
   "source": [
    "df_soccer_xls = df_soccer.to_excel('soccer_data_compare.xlsx')"
   ]
  },
  {
   "cell_type": "markdown",
   "metadata": {},
   "source": [
    "<h3>Goals vs Competetion</h3>"
   ]
  },
  {
   "cell_type": "markdown",
   "metadata": {},
   "source": [
    "<div>\n",
    "    <a href=\"https://plot.ly/~srini_hubble/8/?share_key=NhwpGsRmQ1WMgEzTQukhLp\" target=\"_blank\" title=\"goalsVscompetetion\" style=\"display: block; text-align: center;\"><img src=\"https://plot.ly/~srini_hubble/8.png?share_key=NhwpGsRmQ1WMgEzTQukhLp\" alt=\"goalsVscompetetion\" style=\"max-width: 100%;width: 600px;\"  width=\"600\" onerror=\"this.onerror=null;this.src='https://plot.ly/404.png';\" /></a>\n",
    "    <script data-plotly=\"srini_hubble:8\" sharekey-plotly=\"NhwpGsRmQ1WMgEzTQukhLp\" src=\"https://plot.ly/embed.js\" async></script>\n",
    "</div>"
   ]
  },
  {
   "cell_type": "markdown",
   "metadata": {},
   "source": [
    "Ineterms of goals both the players had a tough fight in all the competetion, but interms of overall number of goals ronaldo scored more goals than messi in all the competetions except league or other Cups-copa del\n",
    "\n",
    "Messi is scored more goals in League and Other Cups\n",
    "\n"
   ]
  },
  {
   "cell_type": "markdown",
   "metadata": {},
   "source": [
    "<h3>Hatrics Comparision</h3>"
   ]
  },
  {
   "cell_type": "markdown",
   "metadata": {},
   "source": [
    "<div>\n",
    "    <a href=\"https://plot.ly/~srini_hubble/4/?share_key=L96SUl8PVcaWfxqGteepRz\" target=\"_blank\" title=\"goals vs Competetion\" style=\"display: block; text-align: center;\"><img src=\"https://plot.ly/~srini_hubble/4.png?share_key=L96SUl8PVcaWfxqGteepRz\" alt=\"goals vs Competetion\" style=\"max-width: 100%;width: 600px;\"  width=\"600\" onerror=\"this.onerror=null;this.src='https://plot.ly/404.png';\" /></a>\n",
    "    <script data-plotly=\"srini_hubble:4\" sharekey-plotly=\"L96SUl8PVcaWfxqGteepRz\" src=\"https://plot.ly/embed.js\" async></script>\n",
    "</div>\n"
   ]
  },
  {
   "cell_type": "markdown",
   "metadata": {},
   "source": [
    "Interms of Hatrics Ronaldo bagged more hatrics than messi apart from the few instances like Europe Super League and Friendliness Cup"
   ]
  },
  {
   "cell_type": "markdown",
   "metadata": {},
   "source": [
    "<h3>Penalty Success Ratio</h3>"
   ]
  },
  {
   "cell_type": "markdown",
   "metadata": {},
   "source": [
    "I though to checkout the successrate of penalties so I substracted the penalties from missout and consider remaining as a Goal.\n",
    "\n",
    "So my desire is to checkout which player has more efficiency interms of converting the penalties into goals"
   ]
  },
  {
   "cell_type": "markdown",
   "metadata": {},
   "source": [
    "Here are the results that I plotted for Penalty conversion ratio vs Player"
   ]
  },
  {
   "cell_type": "markdown",
   "metadata": {},
   "source": [
    "<img src='penalty_success.png' /img width=800/>"
   ]
  },
  {
   "cell_type": "markdown",
   "metadata": {},
   "source": [
    "Ronaldo has a better successrate than messi to convert penalties into a goals. So here i used the subplot along with the barplot to display the results"
   ]
  },
  {
   "cell_type": "markdown",
   "metadata": {},
   "source": [
    "<h3>Assist Comparision</h3>"
   ]
  },
  {
   "cell_type": "markdown",
   "metadata": {},
   "source": [
    "<div>\n",
    "    <a href=\"https://plot.ly/~srini_hubble/10/?share_key=ITejrkVrbVh48Pk4jXY9p2\" target=\"_blank\" title=\"assist_comparision\" style=\"display: block; text-align: center;\"><img src=\"https://plot.ly/~srini_hubble/10.png?share_key=ITejrkVrbVh48Pk4jXY9p2\" alt=\"assist_comparision\" style=\"max-width: 100%;width: 600px;\"  width=\"600\" onerror=\"this.onerror=null;this.src='https://plot.ly/404.png';\" /></a>\n",
    "    <script data-plotly=\"srini_hubble:10\" sharekey-plotly=\"ITejrkVrbVh48Pk4jXY9p2\" src=\"https://plot.ly/embed.js\" async></script>\n",
    "</div>\n"
   ]
  },
  {
   "cell_type": "markdown",
   "metadata": {},
   "source": [
    "Messi is doing much better job interms of assists compared to ronaldo"
   ]
  },
  {
   "cell_type": "markdown",
   "metadata": {},
   "source": [
    "<h3>Conclusion</h3>"
   ]
  },
  {
   "cell_type": "markdown",
   "metadata": {},
   "source": [
    "We have captured very less attributes while comparing these two legends and I knew this data is not sufficient to conclude towards any one. This project is only learning purpose and to keep my hands dirty in plot.ly\n",
    "\n",
    "Happy Learning"
   ]
  },
  {
   "cell_type": "code",
   "execution_count": null,
   "metadata": {},
   "outputs": [],
   "source": []
  }
 ],
 "metadata": {
  "kernelspec": {
   "display_name": "Python 3",
   "language": "python",
   "name": "python3"
  },
  "language_info": {
   "codemirror_mode": {
    "name": "ipython",
    "version": 3
   },
   "file_extension": ".py",
   "mimetype": "text/x-python",
   "name": "python",
   "nbconvert_exporter": "python",
   "pygments_lexer": "ipython3",
   "version": "3.5.4"
  }
 },
 "nbformat": 4,
 "nbformat_minor": 2
}
